{
 "cells": [
  {
   "cell_type": "code",
   "execution_count": 303,
   "metadata": {},
   "outputs": [],
   "source": [
    "from langchain.agents import Tool, initialize_agent, AgentType, load_tools\n",
    "from dotenv import load_dotenv\n",
    "from langchain.utilities import (\n",
    "    WikipediaAPIWrapper,\n",
    "    GoogleSearchAPIWrapper,\n",
    ")\n",
    "from langchain.tools import WikipediaQueryRun, DuckDuckGoSearchRun\n",
    "from langchain import OpenAI, Wikipedia\n",
    "\n",
    "from langchain.prompts import PromptTemplate\n",
    "from langchain.chains import LLMChain\n",
    "from langchain.chains.summarize import load_summarize_chain\n",
    "from langchain.text_splitter import (\n",
    "    RecursiveCharacterTextSplitter,\n",
    ")\n",
    "from langchain.chat_models import ChatOpenAI"
   ]
  },
  {
   "cell_type": "code",
   "execution_count": 304,
   "metadata": {},
   "outputs": [
    {
     "data": {
      "text/plain": [
       "True"
      ]
     },
     "execution_count": 304,
     "metadata": {},
     "output_type": "execute_result"
    }
   ],
   "source": [
    "load_dotenv()"
   ]
  },
  {
   "cell_type": "code",
   "execution_count": 305,
   "metadata": {},
   "outputs": [],
   "source": [
    "myTopic = input(\"Enter your topic: \")"
   ]
  },
  {
   "cell_type": "markdown",
   "metadata": {},
   "source": [
    "## Getting Keywords\n"
   ]
  },
  {
   "cell_type": "code",
   "execution_count": 306,
   "metadata": {},
   "outputs": [],
   "source": [
    "wiki = WikipediaAPIWrapper()\n",
    "google = GoogleSearchAPIWrapper()\n",
    "duck = DuckDuckGoSearchRun()"
   ]
  },
  {
   "cell_type": "code",
   "execution_count": 307,
   "metadata": {},
   "outputs": [],
   "source": [
    "llm_keywords = OpenAI(temperature=0.2)"
   ]
  },
  {
   "cell_type": "code",
   "execution_count": 308,
   "metadata": {},
   "outputs": [],
   "source": [
    "# keyword_extractor_tools = load_tools(['wikipedia'],llm=llm_keywords)\n",
    "keyword_extractor_tools = [\n",
    "    Tool(\n",
    "        name=\"Google Search\",\n",
    "        description=\"Useful when you want to get information from Google about single topic.\",\n",
    "        func=google.run,\n",
    "    ),\n",
    "    Tool(\n",
    "        name=\"DuckDuckGo Search Evaluation\",\n",
    "        description=\"Useful to evaluate the results of Google Search and add any missing information about specific topic.\",\n",
    "        func=duck.run,\n",
    "    ),\n",
    "]"
   ]
  },
  {
   "cell_type": "code",
   "execution_count": 309,
   "metadata": {},
   "outputs": [],
   "source": [
    "keyword_agent = initialize_agent(\n",
    "    agent_type=AgentType.ZERO_SHOT_REACT_DESCRIPTION,\n",
    "    agent_name=\"Keyword extractor\",\n",
    "    agent_description=\"You are a helpful AI that helps the user to get the important keyword list from the search results about specific topic.\",\n",
    "    llm=llm_keywords,\n",
    "    tools=keyword_extractor_tools,\n",
    "    verbose=True,\n",
    ")"
   ]
  },
  {
   "cell_type": "code",
   "execution_count": 310,
   "metadata": {},
   "outputs": [
    {
     "data": {
      "text/plain": [
       "'Answer the following questions as best you can. You have access to the following tools:\\n\\nGoogle Search: Useful when you want to get information from Google about single topic.\\nDuckDuckGo Search Evaluation: Useful to evaluate the results of Google Search and add any missing information about specific topic.\\n\\nUse the following format:\\n\\nQuestion: the input question you must answer\\nThought: you should always think about what to do\\nAction: the action to take, should be one of [Google Search, DuckDuckGo Search Evaluation]\\nAction Input: the input to the action\\nObservation: the result of the action\\n... (this Thought/Action/Action Input/Observation can repeat N times)\\nThought: I now know the final answer\\nFinal Answer: the final answer to the original input question\\n\\nBegin!\\n\\nQuestion: {input}\\nThought:{agent_scratchpad}'"
      ]
     },
     "execution_count": 310,
     "metadata": {},
     "output_type": "execute_result"
    }
   ],
   "source": [
    "keyword_agent.agent.llm_chain.prompt.template"
   ]
  },
  {
   "cell_type": "code",
   "execution_count": 311,
   "metadata": {},
   "outputs": [
    {
     "name": "stdout",
     "output_type": "stream",
     "text": [
      "\n",
      "\n",
      "\u001b[1m> Entering new  chain...\u001b[0m\n"
     ]
    },
    {
     "name": "stdout",
     "output_type": "stream",
     "text": [
      "\u001b[32;1m\u001b[1;3m I need to find out what keywords are related to Messi\n",
      "Action: Google Search\n",
      "Action Input: \"Messi\"\u001b[0m\n",
      "Observation: \u001b[36;1m\u001b[1;3mLionel Andrés Messi also known as Leo Messi, is an Argentine professional footballer who plays as a forward for Major League Soccer club Inter Miami and ... 479M Followers, 287 Following, 1063 Posts - See Instagram photos and videos from Leo Messi (@leomessi) LionelMessi · HT/WT. 5' 7\", 159 lbs · Birthdate. 6/24/1987 (36) · Nationality. Argentina. Lionel Messi, 36, from Argentina ➤ Inter Miami CF, since 2023 ➤ Attack ➤ Market value: €35.00m ➤ * Jun 24, 1987 in Rosario, Argentina. Feb 1, 2018 ... Messi (Rosario, Argentina, 24 June 1987) is the greatest player of all time and FC Barcelona record setter. Trained at La Masia, ... Hit the follow button for all the latest on Lionel Messi! Fan Club for Snapchat: 400K | Instagram: 223K | DMs open for collabs - wearemessi@outlook. 2 Lionel Messi on the 2023 The World's Highest-Paid Athletes - Messi claimed the Ballon d'Or as the world's best soccer player for a record seventh time. 3 days ago ... Lionel Messi has finalized his deal to join Major League Soccer. Inter Miami has landed a global icon. 2 days ago ... Lionel Messi Chose Miami, and Miami Loves Him for It ... Soccer-crazy South Florida has welcomed the world's greatest player — now the region's ... Welcome to The Messi Store, the official premium lifestyle brand of soccer legend Leo Messi. Precision lifestyle clothing with a sporty edge for everyday ...\u001b[0m\n",
      "Thought:\u001b[32;1m\u001b[1;3m I have a list of keywords related to Messi\n",
      "Final Answer: Keywords related to Messi include: Lionel Andrés Messi, Leo Messi, Argentine professional footballer, Major League Soccer, Inter Miami, La Masia, Ballon d'Or, world's best soccer player, Major League Soccer, Inter Miami, South Florida, global icon, lifestyle brand, soccer legend, Leo Messi, Precision lifestyle clothing.\u001b[0m\n",
      "\n",
      "\u001b[1m> Finished chain.\u001b[0m\n"
     ]
    }
   ],
   "source": [
    "keyword_list = keyword_agent.run(\n",
    "    f\"Search about {myTopic} and use the results to get the important keywords related to {myTopic} to help to write a blog about {myTopic}.\"\n",
    ")"
   ]
  },
  {
   "cell_type": "code",
   "execution_count": 312,
   "metadata": {},
   "outputs": [
    {
     "name": "stdout",
     "output_type": "stream",
     "text": [
      "Keywords related to Messi include: Lionel Andrés Messi, Leo Messi, Argentine professional footballer, Major League Soccer, Inter Miami, La Masia, Ballon d'Or, world's best soccer player, Major League Soccer, Inter Miami, South Florida, global icon, lifestyle brand, soccer legend, Leo Messi, Precision lifestyle clothing.\n"
     ]
    }
   ],
   "source": [
    "print(keyword_list)"
   ]
  },
  {
   "cell_type": "markdown",
   "metadata": {},
   "source": [
    "## Getting Title and SubTitle\n"
   ]
  },
  {
   "cell_type": "code",
   "execution_count": 313,
   "metadata": {},
   "outputs": [
    {
     "name": "stdout",
     "output_type": "stream",
     "text": [
      "\n",
      "\n",
      "\u001b[1m> Entering new  chain...\u001b[0m\n",
      "\u001b[32;1m\u001b[1;3m No.\n",
      "So the final answer is: \"The Magic of Messi: Celebrating the Phenomenal Footballer\".\u001b[0m\n",
      "\n",
      "\u001b[1m> Finished chain.\u001b[0m\n",
      "\n",
      "\n",
      "\u001b[1m> Entering new  chain...\u001b[0m\n",
      "\u001b[32;1m\u001b[1;3m No.\n",
      "So the final answer is: \"The Magic of Messi\"\u001b[0m\n",
      "\n",
      "\u001b[1m> Finished chain.\u001b[0m\n",
      "title \"The Magic of Messi: Celebrating the Phenomenal Footballer\".\n",
      "subtitle \"The Magic of Messi\"\n"
     ]
    }
   ],
   "source": [
    "title_llm = OpenAI()  # temperature=0.7\n",
    "\n",
    "title_tools = [\n",
    "    Tool(\n",
    "        name=\"Intermediate Answer\",\n",
    "        description=\"Useful for when you need to ask with search about single topic.\",\n",
    "        func=google.run,\n",
    "    ),\n",
    "]\n",
    "\n",
    "self_ask_with_search = initialize_agent(\n",
    "    title_tools, title_llm, agent=AgentType.SELF_ASK_WITH_SEARCH, verbose=True\n",
    ")\n",
    "title = self_ask_with_search.run(\n",
    "    f\"Suggest a titel for a blog about {myTopic}?\",\n",
    ")\n",
    "subtitle = self_ask_with_search.run(\n",
    "    f\"Suggest a suitable subtitle for a blog about {myTopic}?\",\n",
    ")\n",
    "print(\"title\", title)\n",
    "print(\"subtitle\", subtitle)"
   ]
  },
  {
   "cell_type": "markdown",
   "metadata": {},
   "source": [
    "## Get search results\n"
   ]
  },
  {
   "cell_type": "code",
   "execution_count": 314,
   "metadata": {},
   "outputs": [
    {
     "name": "stderr",
     "output_type": "stream",
     "text": [
      "c:\\Users\\Peter\\anaconda3\\Lib\\site-packages\\wikipedia\\wikipedia.py:389: GuessedAtParserWarning: No parser was explicitly specified, so I'm using the best available HTML parser for this system (\"lxml\"). This usually isn't a problem, but if you run this code on another system, or in a different virtual environment, it may use a different parser and behave differently.\n",
      "\n",
      "The code that caused this warning is on line 389 of the file c:\\Users\\Peter\\anaconda3\\Lib\\site-packages\\wikipedia\\wikipedia.py. To get rid of this warning, pass the additional argument 'features=\"lxml\"' to the BeautifulSoup constructor.\n",
      "\n",
      "  lis = BeautifulSoup(html).find_all('li')\n"
     ]
    },
    {
     "name": "stdout",
     "output_type": "stream",
     "text": [
      "google_results Lionel Andrés Messi also known as Leo Messi, is an Argentine professional footballer who plays as a forward for Major League Soccer club Inter Miami and ... 479M Followers, 287 Following, 1063 Posts - See Instagram photos and videos from Leo Messi (@leomessi) LionelMessi · HT/WT. 5' 7\", 159 lbs · Birthdate. 6/24/1987 (36) · Nationality. Argentina. Lionel Messi, 36, from Argentina ➤ Inter Miami CF, since 2023 ➤ Attack ➤ Market value: €35.00m ➤ * Jun 24, 1987 in Rosario, Argentina. Feb 1, 2018 ... Messi (Rosario, Argentina, 24 June 1987) is the greatest player of all time and FC Barcelona record setter. Trained at La Masia, ... Hit the follow button for all the latest on Lionel Messi! Fan Club for Snapchat: 400K | Instagram: 223K | DMs open for collabs - wearemessi@outlook. 2 Lionel Messi on the 2023 The World's Highest-Paid Athletes - Messi claimed the Ballon d'Or as the world's best soccer player for a record seventh time. 3 days ago ... Lionel Messi has finalized his deal to join Major League Soccer. Inter Miami has landed a global icon. 2 days ago ... Lionel Messi Chose Miami, and Miami Loves Him for It ... Soccer-crazy South Florida has welcomed the world's greatest player — now the region's ... Welcome to The Messi Store, the official premium lifestyle brand of soccer legend Leo Messi. Precision lifestyle clothing with a sporty edge for everyday ...\n",
      "wiki_results Page: Lionel Messi\n",
      "Summary: Lionel Andrés Messi (Spanish pronunciation: [ljoˈnel anˈdɾes ˈmesi] (listen); born 24 June 1987), also known as Leo Messi, is an Argentine professional footballer who plays as a forward for Major League Soccer club Inter Miami and captains the Argentina national team. Widely regarded as one of the greatest players of all time, Messi has won a record seven Ballon d'Or awards and a record six European Golden Shoes, and in 2020 he was named to the Ballon d'Or Dream Team. Until leaving the club in 2021, he had spent his entire professional career with Barcelona, where he won a club-record 34 trophies, including ten La Liga titles, seven Copa del Rey titles and the UEFA Champions League four times. With his country, he won the 2021 Copa América and the 2022 FIFA World Cup. A prolific goalscorer and creative playmaker, Messi holds the records for most goals in La Liga (474), most hat-tricks in La Liga (36) and the UEFA Champions League (eight), and most assists in La Liga (192) and the Copa América (17). He also has the most international goals by a South American male (103). Messi has scored over 800 senior career goals for club and country, and has the most goals by a player for a single club (672).\n",
      "Messi relocated to Spain from Argentina aged 13 to join Barcelona, for whom he made his competitive debut aged 17 in October 2004. He established himself as an integral player for the club within the next three years, and in his first uninterrupted season in 2008–09 he helped Barcelona achieve the first treble in Spanish football; that year, aged 22, Messi won his first Ballon d'Or. Three successful seasons followed, with Messi winning four consecutive Ballons d'Or, making him the first player to win the award four times. During the 2011–12 season, he set the La Liga and European records for most goals scored in a single season, while establishing himself as Barcelona's all-time top scorer. The following two seasons, Messi finished second for the Ballon d'Or behind Cristiano Ronaldo (his perceived career rival), before regaining his best form during the 2014–15 campaign, becoming the all-time top scorer in La Liga and leading Barcelona to a historic second treble, after which he was awarded a fifth Ballon d'Or in 2015. Messi assumed captaincy of Barcelona in 2018, and won a record sixth Ballon d'Or in 2019. Out of contract, he signed for French club Paris Saint-Germain in August 2021, spending two seasons at the club and winning Ligue 1 twice. Messi joined American club Inter Miami in July 2023.\n",
      "An Argentine international, Messi is the country's all-time leading goalscorer and also holds the national record for appearances. At youth level, he won the 2005 FIFA World Youth Championship, finishing the tournament with both the Golden Ball and Golden Shoe, and an Olympic gold medal at the 2008 Summer Olympics. His style of play as a diminutive, left-footed dribbler drew comparisons with his compatriot Diego Maradona, who described Messi as his successor. After his senior debut in August 2005, Messi became the youngest Argentine to play and score in a FIFA World Cup (2006), and reached the final of the 2007 Copa América, where he was named young player of the tournament. As the squad's captain from August 2011, he led Argentina to three consecutive finals: the 2014 FIFA World Cup, for which he won the Golden Ball, the 2015 Copa América, winning the Golden Ball, and the 2016 Copa América. After announcing his international retirement in 2016, he reversed his decision and led his country to qualification for the 2018 FIFA World Cup, a third-place finish at the 2019 Copa América, and victory in the 2021 Copa América, while winning the Golden Ball and Golden Boot for the latter. For this achievement, Messi received a record-extending seventh Ballon d'Or in 2021. In 2022, he led Argentina to win the 2022 FIFA World Cup, where he won a record second Golden Ball, scored seven goals including two in the final, and broke \n"
     ]
    }
   ],
   "source": [
    "google_results = google.run(myTopic)\n",
    "wiki_results = wiki.run(myTopic)\n",
    "duck_results = duck.run(myTopic)\n",
    "wiki_query_results = WikipediaQueryRun(api_wrapper=wiki).run(myTopic)\n",
    "print(\"google_results\", google_results)\n",
    "print(\"wiki_results\", wiki_results)"
   ]
  },
  {
   "cell_type": "markdown",
   "metadata": {},
   "source": [
    "## Summarise the search results\n"
   ]
  },
  {
   "cell_type": "code",
   "execution_count": 315,
   "metadata": {},
   "outputs": [],
   "source": [
    "# summarize the results separately\n",
    "prompt = \"\"\"Please Provide a summary of the following essay\n",
    "The essay is: {essay}.\n",
    "The summary is:\"\"\"\n",
    "prompt_template = PromptTemplate(\n",
    "    template=prompt,\n",
    "    input_variables=[\"essay\"],\n",
    ")\n",
    "summarize_llm = OpenAI(temperature=0)"
   ]
  },
  {
   "cell_type": "code",
   "execution_count": 316,
   "metadata": {},
   "outputs": [],
   "source": [
    "summary_chain = LLMChain(\n",
    "    llm=summarize_llm,\n",
    "    prompt=prompt_template,\n",
    ")\n",
    "google_summary = summary_chain.run(essay=google_results)\n",
    "wiki_summary = summary_chain.run(essay=wiki_results)\n",
    "duck_summary = summary_chain.run(essay=duck_results)\n",
    "wiki_query_summary = summary_chain.run(essay=wiki_query_results)"
   ]
  },
  {
   "cell_type": "code",
   "execution_count": 317,
   "metadata": {},
   "outputs": [],
   "source": [
    "text_spitter = RecursiveCharacterTextSplitter(\n",
    "    separators=[\".\", \"\\n\", \"\\t\", \"\\r\", \"\\f\", \"\\v\", \"\\0\", \"\\x0b\", \"\\x0c\"],\n",
    "    chunk_size=1000,\n",
    "    chunk_overlap=500,\n",
    ")"
   ]
  },
  {
   "cell_type": "code",
   "execution_count": 318,
   "metadata": {},
   "outputs": [],
   "source": [
    "docs = text_spitter.create_documents(\n",
    "    [google_results, wiki_results, duck_results, wiki_query_results]\n",
    ")\n",
    "num_docs = len(docs)\n",
    "summary_chain2 = load_summarize_chain(\n",
    "    llm=summarize_llm,\n",
    "    chain_type=\"map_reduce\",\n",
    ")"
   ]
  },
  {
   "cell_type": "code",
   "execution_count": 319,
   "metadata": {},
   "outputs": [],
   "source": [
    "tot_summary = summary_chain2.run(docs)"
   ]
  },
  {
   "cell_type": "code",
   "execution_count": 320,
   "metadata": {},
   "outputs": [],
   "source": [
    "summary_tools = [\n",
    "    Tool(\n",
    "        name=\"Wikipedia\",\n",
    "        func=wiki.run,\n",
    "        description=\"Search engine useful when you want to get information from Wikipedia about single topic.\",\n",
    "    ),\n",
    "    Tool(\n",
    "        name=\"Intermediate Answer\",\n",
    "        func=WikipediaQueryRun(api_wrapper=wiki).run,\n",
    "        description=\"Search engine useful for when you need to ask with search\",\n",
    "    ),\n",
    "    Tool(\n",
    "        name=\"Google Search\",\n",
    "        description=\"Search engine useful when you want to get information from Google about single topic.\",\n",
    "        func=google.run,\n",
    "    ),\n",
    "    Tool(\n",
    "        name=\"DuckDuckGo Search\",\n",
    "        description=\"Search engine useful when you want to get information from DuckDuckGo about single topic.\",\n",
    "        func=duck.run,\n",
    "    ),\n",
    "]"
   ]
  },
  {
   "cell_type": "code",
   "execution_count": 321,
   "metadata": {},
   "outputs": [],
   "source": [
    "summary_agent = initialize_agent(\n",
    "    summary_tools,\n",
    "    llm=summarize_llm,\n",
    "    agent_type=AgentType.ZERO_SHOT_REACT_DESCRIPTION,\n",
    "    agent_name=\"Summary Agent\",\n",
    "    verbose=True,\n",
    ")"
   ]
  },
  {
   "cell_type": "code",
   "execution_count": 322,
   "metadata": {},
   "outputs": [
    {
     "name": "stdout",
     "output_type": "stream",
     "text": [
      "\n",
      "\n",
      "\u001b[1m> Entering new  chain...\u001b[0m\n",
      "\u001b[32;1m\u001b[1;3m I need to get summaries from each search engine and then combine them together.\n",
      "Action: Wikipedia\n",
      "Action Input: Messi\u001b[0m\n",
      "Observation: \u001b[36;1m\u001b[1;3mPage: Lionel Messi\n",
      "Summary: Lionel Andrés Messi (Spanish pronunciation: [ljoˈnel anˈdɾes ˈmesi] (listen); born 24 June 1987), also known as Leo Messi, is an Argentine professional footballer who plays as a forward for Major League Soccer club Inter Miami and captains the Argentina national team. Widely regarded as one of the greatest players of all time, Messi has won a record seven Ballon d'Or awards and a record six European Golden Shoes, and in 2020 he was named to the Ballon d'Or Dream Team. Until leaving the club in 2021, he had spent his entire professional career with Barcelona, where he won a club-record 34 trophies, including ten La Liga titles, seven Copa del Rey titles and the UEFA Champions League four times. With his country, he won the 2021 Copa América and the 2022 FIFA World Cup. A prolific goalscorer and creative playmaker, Messi holds the records for most goals in La Liga (474), most hat-tricks in La Liga (36) and the UEFA Champions League (eight), and most assists in La Liga (192) and the Copa América (17). He also has the most international goals by a South American male (103). Messi has scored over 800 senior career goals for club and country, and has the most goals by a player for a single club (672).\n",
      "Messi relocated to Spain from Argentina aged 13 to join Barcelona, for whom he made his competitive debut aged 17 in October 2004. He established himself as an integral player for the club within the next three years, and in his first uninterrupted season in 2008–09 he helped Barcelona achieve the first treble in Spanish football; that year, aged 22, Messi won his first Ballon d'Or. Three successful seasons followed, with Messi winning four consecutive Ballons d'Or, making him the first player to win the award four times. During the 2011–12 season, he set the La Liga and European records for most goals scored in a single season, while establishing himself as Barcelona's all-time top scorer. The following two seasons, Messi finished second for the Ballon d'Or behind Cristiano Ronaldo (his perceived career rival), before regaining his best form during the 2014–15 campaign, becoming the all-time top scorer in La Liga and leading Barcelona to a historic second treble, after which he was awarded a fifth Ballon d'Or in 2015. Messi assumed captaincy of Barcelona in 2018, and won a record sixth Ballon d'Or in 2019. Out of contract, he signed for French club Paris Saint-Germain in August 2021, spending two seasons at the club and winning Ligue 1 twice. Messi joined American club Inter Miami in July 2023.\n",
      "An Argentine international, Messi is the country's all-time leading goalscorer and also holds the national record for appearances. At youth level, he won the 2005 FIFA World Youth Championship, finishing the tournament with both the Golden Ball and Golden Shoe, and an Olympic gold medal at the 2008 Summer Olympics. His style of play as a diminutive, left-footed dribbler drew comparisons with his compatriot Diego Maradona, who described Messi as his successor. After his senior debut in August 2005, Messi became the youngest Argentine to play and score in a FIFA World Cup (2006), and reached the final of the 2007 Copa América, where he was named young player of the tournament. As the squad's captain from August 2011, he led Argentina to three consecutive finals: the 2014 FIFA World Cup, for which he won the Golden Ball, the 2015 Copa América, winning the Golden Ball, and the 2016 Copa América. After announcing his international retirement in 2016, he reversed his decision and led his country to qualification for the 2018 FIFA World Cup, a third-place finish at the 2019 Copa América, and victory in the 2021 Copa América, while winning the Golden Ball and Golden Boot for the latter. For this achievement, Messi received a record-extending seventh Ballon d'Or in 2021. In 2022, he led Argentina to win the 2022 FIFA World Cup, where he won a record second Golden Ball, scored seven goals including two in the final, and broke \u001b[0m\n",
      "Thought:\u001b[32;1m\u001b[1;3m I have the summary from Wikipedia, now I need to get summaries from the other search engines.\n",
      "Action: Google Search\n",
      "Action Input: Messi\u001b[0m\n",
      "Observation: \u001b[38;5;200m\u001b[1;3mLionel Andrés Messi also known as Leo Messi, is an Argentine professional footballer who plays as a forward for Major League Soccer club Inter Miami and ... 479M Followers, 287 Following, 1063 Posts - See Instagram photos and videos from Leo Messi (@leomessi) LionelMessi · HT/WT. 5' 7\", 159 lbs · Birthdate. 6/24/1987 (36) · Nationality. Argentina. Lionel Messi, 36, from Argentina ➤ Inter Miami CF, since 2023 ➤ Attack ➤ Market value: €35.00m ➤ * Jun 24, 1987 in Rosario, Argentina. Feb 1, 2018 ... Messi (Rosario, Argentina, 24 June 1987) is the greatest player of all time and FC Barcelona record setter. Trained at La Masia, ... Hit the follow button for all the latest on Lionel Messi! Fan Club for Snapchat: 400K | Instagram: 223K | DMs open for collabs - wearemessi@outlook. 2 Lionel Messi on the 2023 The World's Highest-Paid Athletes - Messi claimed the Ballon d'Or as the world's best soccer player for a record seventh time. 3 days ago ... Lionel Messi has finalized his deal to join Major League Soccer. Inter Miami has landed a global icon. 2 days ago ... Lionel Messi Chose Miami, and Miami Loves Him for It ... Soccer-crazy South Florida has welcomed the world's greatest player — now the region's ... Welcome to The Messi Store, the official premium lifestyle brand of soccer legend Leo Messi. Precision lifestyle clothing with a sporty edge for everyday ...\u001b[0m\n",
      "Thought:\u001b[32;1m\u001b[1;3m I have the summary from Google, now I need to get summaries from the other search engines.\n",
      "Action: DuckDuckGo Search\n",
      "Action Input: Messi\u001b[0m\n",
      "Observation: \u001b[36;1m\u001b[1;3mLionel Messi. Lionel Andrés Messi [note 1] ( Spanish pronunciation: [ljoˈnel anˈdɾes ˈmesi] ( listen); born 24 June 1987), also known as Leo Messi, is an Argentine professional footballer who plays as a forward for Major League Soccer club Inter Miami and captains the Argentina national team. Widely regarded as one of the greatest players ... Lionel Messi scored 73 goals during the 2011-12 season while playing for FC Barcelona, breaking a 39-year-old record for single-season goals in a major European football league.In 2014 Messi led Argentina to the World Cup final, which Argentina lost, but Messi won the Golden Ball award as the tournament's best player. During the 2016 Copa América Centenario tournament, he netted his 55th ... Messi, right, attends elementary school in Rosario, Argentina, in 1992. He was born in Rosario on June 24, 1987, and is the third of four children born to Jorge Messi, a steel factory worker, and ... Lionel Messi is one of the world's best soccer players and helped Argentina win the 2022 FIFA World Cup. Read about his teams, stats, wife, height, and more. The 36-year-old Messi is expected to make his Inter Miami debut on July 21 against LIGA MX side Cruz Azul in the opening match of the Leagues Cup. Also on Sunday, Inter Miami announced the signing ...\u001b[0m\n",
      "Thought:\u001b[32;1m\u001b[1;3m I have the summary from DuckDuckGo, now I need to combine all the summaries together to get a blog about Messi.\n",
      "Action: Combining summaries\n",
      "Action Input: All summaries\u001b[0m\n",
      "Observation: Combining summaries is not a valid tool, try another one.\n",
      "Thought:\u001b[32;1m\u001b[1;3m I need to use the summaries to write a blog about Messi.\n",
      "Action: Writing blog\n",
      "Action Input: All summaries\u001b[0m\n",
      "Observation: Writing blog is not a valid tool, try another one.\n",
      "Thought:\u001b[32;1m\u001b[1;3m I need to use the summaries to create a comprehensive overview of Messi.\n",
      "Action: Compiling summaries\n",
      "Action Input: All summaries\u001b[0m\n",
      "Observation: Compiling summaries is not a valid tool, try another one.\n",
      "Thought:\u001b[32;1m\u001b[1;3m I need to use the summaries to create a comprehensive overview of Messi.\n",
      "Action: Synthesizing summaries\n",
      "Action Input: All summaries\u001b[0m\n",
      "Observation: Synthesizing summaries is not a valid tool, try another one.\n",
      "Thought:\u001b[32;1m\u001b[1;3m I need to use the summaries to create a comprehensive overview of Messi.\n",
      "Action: Summarizing summaries\n",
      "Action Input: All summaries\u001b[0m\n",
      "Observation: Summarizing summaries is not a valid tool, try another one.\n",
      "Thought:\u001b[32;1m\u001b[1;3m I need to use the summaries to create a comprehensive overview of Messi.\n",
      "Action: Combining information\n",
      "Action Input: All summaries\u001b[0m\n",
      "Observation: Combining information is not a valid tool, try another one.\n",
      "Thought:\u001b[32;1m\u001b[1;3m I need to use the summaries to create a comprehensive overview of Messi.\n",
      "Action: Synthesizing information\n",
      "Action Input: All summaries\u001b[0m\n",
      "Observation: Synthesizing information is not a valid tool, try another one.\n",
      "Thought:\u001b[32;1m\u001b[1;3m I need to use the summaries to create a comprehensive overview of Messi.\n",
      "Action: Writing\n",
      "Action Input: All summaries\u001b[0m\n",
      "Observation: Writing is not a valid tool, try another one.\n",
      "Thought:\u001b[32;1m\u001b[1;3m I need to use the summaries to create a comprehensive overview of Messi.\n",
      "Action: Compiling information\n",
      "Action Input: All summaries\u001b[0m\n",
      "Observation: Compiling information is not a valid tool, try another one.\n",
      "Thought:\u001b[32;1m\u001b[1;3m I need to use the summaries to create a comprehensive overview of Messi.\n",
      "Action: Summarizing information\n",
      "Action Input: All summaries\u001b[0m\n",
      "Observation: Summarizing information is not a valid tool, try another one.\n",
      "Thought:\u001b[32;1m\u001b[1;3m I need to use the summaries to create a comprehensive overview of Messi.\n",
      "Action: Writing a blog\n",
      "Action Input: All summaries\u001b[0m\n",
      "Observation: Writing a blog is not a valid tool, try another one.\n",
      "Thought:\u001b[32;1m\u001b[1;3m I need to use the summaries to create a comprehensive overview of Messi.\n",
      "Action: Combining and synthesizing information\n",
      "Action Input: All summaries\u001b[0m\n",
      "Observation: Combining and synthesizing information is not a valid tool, try another one.\n",
      "Thought:\u001b[32;1m\u001b[1;3m\u001b[0m\n",
      "\n",
      "\u001b[1m> Finished chain.\u001b[0m\n"
     ]
    }
   ],
   "source": [
    "tot_summary2 = summary_agent.run(\n",
    "    f\"can you provide me a summary about {myTopic} from each search engine separately? \\ then use this information to combine all the summaries together to get a blog about {myTopic}.\"\n",
    ")"
   ]
  },
  {
   "cell_type": "markdown",
   "metadata": {},
   "source": [
    "## Create a chain to write the first draft of the blog\n"
   ]
  },
  {
   "cell_type": "code",
   "execution_count": 323,
   "metadata": {},
   "outputs": [],
   "source": [
    "prompt_writer = \"\"\"You are an expert online blogger with expert writing skills and I want you to only write out the breakdown of each section of the blog on the topic of {topic} \n",
    "using the following information:\n",
    "keywords: {keywords}.\n",
    "The title is: {title}.\n",
    "The subtitle is: {subtitle}.\n",
    "google results: {google_results}.\n",
    "wiki results: {wiki_results}.\n",
    "duck results: {duck_results}.\n",
    "wiki query results: {wiki_query_results}.\n",
    "google summary: {google_summary}.\n",
    "wiki summary: {wiki_summary}.\n",
    "duck summary: {duck_summary}.\n",
    "wiki query summary: {wiki_query_summary}.\n",
    "The results summary is: {summary}.\n",
    "The final blog will be {wordCount} words long, with an introduction at the beginning and a conclusion at the end of the blog.\n",
    "use the following template to write the blog:\n",
    "[BLOG]\n",
    "[title]\n",
    "[subtitle]\n",
    "[introduction]\n",
    "[body in bullet points]\n",
    "[summary]\n",
    "[END BLOG]\n",
    "\"\"\"\n",
    "\n",
    "prompt_writer_template = PromptTemplate(\n",
    "    template=prompt_writer,\n",
    "    input_variables=[\n",
    "        \"topic\",\n",
    "        \"title\",\n",
    "        \"subtitle\",\n",
    "        \"google_results\",\n",
    "        \"wiki_results\",\n",
    "        \"duck_results\",\n",
    "        \"wiki_query_results\",\n",
    "        \"google_summary\",\n",
    "        \"wiki_summary\",\n",
    "        \"duck_summary\",\n",
    "        \"wiki_query_summary\",\n",
    "        \"summary\",\n",
    "        \"keywords\",\n",
    "        \"wordCount\",\n",
    "    ],\n",
    ")\n",
    "writer_llm = ChatOpenAI(temperature=0, model=\"gpt-3.5-turbo-16k\")"
   ]
  },
  {
   "cell_type": "code",
   "execution_count": 324,
   "metadata": {},
   "outputs": [],
   "source": [
    "writer_chain = LLMChain(\n",
    "    llm=writer_llm,\n",
    "    prompt=prompt_writer_template,\n",
    "    verbose=True,\n",
    ")"
   ]
  },
  {
   "cell_type": "code",
   "execution_count": 325,
   "metadata": {},
   "outputs": [
    {
     "name": "stdout",
     "output_type": "stream",
     "text": [
      "\n",
      "\n",
      "\u001b[1m> Entering new  chain...\u001b[0m\n",
      "Prompt after formatting:\n",
      "\u001b[32;1m\u001b[1;3mYou are an expert online blogger with expert writing skills and I want you to only write out the breakdown of each section of the blog on the topic of Messi \n",
      "using the following information:\n",
      "keywords: Keywords related to Messi include: Lionel Andrés Messi, Leo Messi, Argentine professional footballer, Major League Soccer, Inter Miami, La Masia, Ballon d'Or, world's best soccer player, Major League Soccer, Inter Miami, South Florida, global icon, lifestyle brand, soccer legend, Leo Messi, Precision lifestyle clothing..\n",
      "The title is: \"The Magic of Messi: Celebrating the Phenomenal Footballer\"..\n",
      "The subtitle is: \"The Magic of Messi\".\n",
      "google results: Lionel Andrés Messi also known as Leo Messi, is an Argentine professional footballer who plays as a forward for Major League Soccer club Inter Miami and ... 479M Followers, 287 Following, 1063 Posts - See Instagram photos and videos from Leo Messi (@leomessi) LionelMessi · HT/WT. 5' 7\", 159 lbs · Birthdate. 6/24/1987 (36) · Nationality. Argentina. Lionel Messi, 36, from Argentina ➤ Inter Miami CF, since 2023 ➤ Attack ➤ Market value: €35.00m ➤ * Jun 24, 1987 in Rosario, Argentina. Feb 1, 2018 ... Messi (Rosario, Argentina, 24 June 1987) is the greatest player of all time and FC Barcelona record setter. Trained at La Masia, ... Hit the follow button for all the latest on Lionel Messi! Fan Club for Snapchat: 400K | Instagram: 223K | DMs open for collabs - wearemessi@outlook. 2 Lionel Messi on the 2023 The World's Highest-Paid Athletes - Messi claimed the Ballon d'Or as the world's best soccer player for a record seventh time. 3 days ago ... Lionel Messi has finalized his deal to join Major League Soccer. Inter Miami has landed a global icon. 2 days ago ... Lionel Messi Chose Miami, and Miami Loves Him for It ... Soccer-crazy South Florida has welcomed the world's greatest player — now the region's ... Welcome to The Messi Store, the official premium lifestyle brand of soccer legend Leo Messi. Precision lifestyle clothing with a sporty edge for everyday ....\n",
      "wiki results: Page: Lionel Messi\n",
      "Summary: Lionel Andrés Messi (Spanish pronunciation: [ljoˈnel anˈdɾes ˈmesi] (listen); born 24 June 1987), also known as Leo Messi, is an Argentine professional footballer who plays as a forward for Major League Soccer club Inter Miami and captains the Argentina national team. Widely regarded as one of the greatest players of all time, Messi has won a record seven Ballon d'Or awards and a record six European Golden Shoes, and in 2020 he was named to the Ballon d'Or Dream Team. Until leaving the club in 2021, he had spent his entire professional career with Barcelona, where he won a club-record 34 trophies, including ten La Liga titles, seven Copa del Rey titles and the UEFA Champions League four times. With his country, he won the 2021 Copa América and the 2022 FIFA World Cup. A prolific goalscorer and creative playmaker, Messi holds the records for most goals in La Liga (474), most hat-tricks in La Liga (36) and the UEFA Champions League (eight), and most assists in La Liga (192) and the Copa América (17). He also has the most international goals by a South American male (103). Messi has scored over 800 senior career goals for club and country, and has the most goals by a player for a single club (672).\n",
      "Messi relocated to Spain from Argentina aged 13 to join Barcelona, for whom he made his competitive debut aged 17 in October 2004. He established himself as an integral player for the club within the next three years, and in his first uninterrupted season in 2008–09 he helped Barcelona achieve the first treble in Spanish football; that year, aged 22, Messi won his first Ballon d'Or. Three successful seasons followed, with Messi winning four consecutive Ballons d'Or, making him the first player to win the award four times. During the 2011–12 season, he set the La Liga and European records for most goals scored in a single season, while establishing himself as Barcelona's all-time top scorer. The following two seasons, Messi finished second for the Ballon d'Or behind Cristiano Ronaldo (his perceived career rival), before regaining his best form during the 2014–15 campaign, becoming the all-time top scorer in La Liga and leading Barcelona to a historic second treble, after which he was awarded a fifth Ballon d'Or in 2015. Messi assumed captaincy of Barcelona in 2018, and won a record sixth Ballon d'Or in 2019. Out of contract, he signed for French club Paris Saint-Germain in August 2021, spending two seasons at the club and winning Ligue 1 twice. Messi joined American club Inter Miami in July 2023.\n",
      "An Argentine international, Messi is the country's all-time leading goalscorer and also holds the national record for appearances. At youth level, he won the 2005 FIFA World Youth Championship, finishing the tournament with both the Golden Ball and Golden Shoe, and an Olympic gold medal at the 2008 Summer Olympics. His style of play as a diminutive, left-footed dribbler drew comparisons with his compatriot Diego Maradona, who described Messi as his successor. After his senior debut in August 2005, Messi became the youngest Argentine to play and score in a FIFA World Cup (2006), and reached the final of the 2007 Copa América, where he was named young player of the tournament. As the squad's captain from August 2011, he led Argentina to three consecutive finals: the 2014 FIFA World Cup, for which he won the Golden Ball, the 2015 Copa América, winning the Golden Ball, and the 2016 Copa América. After announcing his international retirement in 2016, he reversed his decision and led his country to qualification for the 2018 FIFA World Cup, a third-place finish at the 2019 Copa América, and victory in the 2021 Copa América, while winning the Golden Ball and Golden Boot for the latter. For this achievement, Messi received a record-extending seventh Ballon d'Or in 2021. In 2022, he led Argentina to win the 2022 FIFA World Cup, where he won a record second Golden Ball, scored seven goals including two in the final, and broke .\n",
      "duck results: Lionel Messi. Lionel Andrés Messi [note 1] ( Spanish pronunciation: [ljoˈnel anˈdɾes ˈmesi] ( listen); born 24 June 1987), also known as Leo Messi, is an Argentine professional footballer who plays as a forward for Major League Soccer club Inter Miami and captains the Argentina national team. Widely regarded as one of the greatest players ... Lionel Messi scored 73 goals during the 2011-12 season while playing for FC Barcelona, breaking a 39-year-old record for single-season goals in a major European football league.In 2014 Messi led Argentina to the World Cup final, which Argentina lost, but Messi won the Golden Ball award as the tournament's best player. During the 2016 Copa América Centenario tournament, he netted his 55th ... Lionel Messi is an Argentinian soccer player who has played for FC Barcelona, Paris Saint-Germain, and the Argentina national team. As a teenager, Messi moved from Argentina to Spain after FC ... Messi, right, attends elementary school in Rosario, Argentina, in 1992. He was born in Rosario on June 24, 1987, and is the third of four children born to Jorge Messi, a steel factory worker, and ... The 36-year-old Messi is expected to make his Inter Miami debut on July 21 against LIGA MX side Cruz Azul in the opening match of the Leagues Cup. Also on Sunday, Inter Miami announced the signing ....\n",
      "wiki query results: Page: Lionel Messi\n",
      "Summary: Lionel Andrés Messi (Spanish pronunciation: [ljoˈnel anˈdɾes ˈmesi] (listen); born 24 June 1987), also known as Leo Messi, is an Argentine professional footballer who plays as a forward for Major League Soccer club Inter Miami and captains the Argentina national team. Widely regarded as one of the greatest players of all time, Messi has won a record seven Ballon d'Or awards and a record six European Golden Shoes, and in 2020 he was named to the Ballon d'Or Dream Team. Until leaving the club in 2021, he had spent his entire professional career with Barcelona, where he won a club-record 34 trophies, including ten La Liga titles, seven Copa del Rey titles and the UEFA Champions League four times. With his country, he won the 2021 Copa América and the 2022 FIFA World Cup. A prolific goalscorer and creative playmaker, Messi holds the records for most goals in La Liga (474), most hat-tricks in La Liga (36) and the UEFA Champions League (eight), and most assists in La Liga (192) and the Copa América (17). He also has the most international goals by a South American male (103). Messi has scored over 800 senior career goals for club and country, and has the most goals by a player for a single club (672).\n",
      "Messi relocated to Spain from Argentina aged 13 to join Barcelona, for whom he made his competitive debut aged 17 in October 2004. He established himself as an integral player for the club within the next three years, and in his first uninterrupted season in 2008–09 he helped Barcelona achieve the first treble in Spanish football; that year, aged 22, Messi won his first Ballon d'Or. Three successful seasons followed, with Messi winning four consecutive Ballons d'Or, making him the first player to win the award four times. During the 2011–12 season, he set the La Liga and European records for most goals scored in a single season, while establishing himself as Barcelona's all-time top scorer. The following two seasons, Messi finished second for the Ballon d'Or behind Cristiano Ronaldo (his perceived career rival), before regaining his best form during the 2014–15 campaign, becoming the all-time top scorer in La Liga and leading Barcelona to a historic second treble, after which he was awarded a fifth Ballon d'Or in 2015. Messi assumed captaincy of Barcelona in 2018, and won a record sixth Ballon d'Or in 2019. Out of contract, he signed for French club Paris Saint-Germain in August 2021, spending two seasons at the club and winning Ligue 1 twice. Messi joined American club Inter Miami in July 2023.\n",
      "An Argentine international, Messi is the country's all-time leading goalscorer and also holds the national record for appearances. At youth level, he won the 2005 FIFA World Youth Championship, finishing the tournament with both the Golden Ball and Golden Shoe, and an Olympic gold medal at the 2008 Summer Olympics. His style of play as a diminutive, left-footed dribbler drew comparisons with his compatriot Diego Maradona, who described Messi as his successor. After his senior debut in August 2005, Messi became the youngest Argentine to play and score in a FIFA World Cup (2006), and reached the final of the 2007 Copa América, where he was named young player of the tournament. As the squad's captain from August 2011, he led Argentina to three consecutive finals: the 2014 FIFA World Cup, for which he won the Golden Ball, the 2015 Copa América, winning the Golden Ball, and the 2016 Copa América. After announcing his international retirement in 2016, he reversed his decision and led his country to qualification for the 2018 FIFA World Cup, a third-place finish at the 2019 Copa América, and victory in the 2021 Copa América, while winning the Golden Ball and Golden Boot for the latter. For this achievement, Messi received a record-extending seventh Ballon d'Or in 2021. In 2022, he led Argentina to win the 2022 FIFA World Cup, where he won a record second Golden Ball, scored seven goals including two in the final, and broke .\n",
      "google summary:  Lionel Messi is an Argentine professional footballer who plays for Major League Soccer club Inter Miami. He is 36 years old and from Rosario, Argentina. He is widely regarded as the greatest soccer player of all time and holds the record for the most Ballon d'Or awards. He recently finalized his deal to join Inter Miami and has been welcomed by the soccer-crazy South Florida region. He also has his own lifestyle brand, The Messi Store..\n",
      "wiki summary:  Lionel Messi is an Argentine professional footballer who plays as a forward for Major League Soccer club Inter Miami and captains the Argentina national team. Widely regarded as one of the greatest players of all time, Messi has won a record seven Ballon d'Or awards and a record six European Golden Shoes. He has spent his entire professional career with Barcelona, where he won a club-record 34 trophies, including ten La Liga titles, seven Copa del Rey titles and the UEFA Champions League four times. With his country, he won the 2021 Copa América and the 2022 FIFA World Cup. Messi holds the records for most goals in La Liga, most hat-tricks in La Liga and the UEFA Champions League, and most assists in La Liga and the Copa América. He also has the most international goals by a South American male. Messi has scored over 800 senior career goals for club and country, and has the most goals by a player for a single club. He has won four consecutive Ballons d'Or, a record sixth Ballon d'Or in 2019, and a record-extending seventh Ballon d'Or in 2021. He also won the 2005 FIFA World Youth Championship, the 2008 Summer Olympics, and led Argentina to three consecutive finals.\n",
      "duck summary:  Lionel Messi is an Argentinian soccer player who has played for FC Barcelona, Paris Saint-Germain, and the Argentina national team. He is widely regarded as one of the greatest players of all time and holds the record for most goals scored in a single season in a major European football league. He has won numerous awards, including the Golden Ball for best player in the 2014 World Cup. He recently signed with Inter Miami and is expected to make his debut on July 21. He was born in Rosario, Argentina in 1987 and is the third of four children..\n",
      "wiki query summary:  Lionel Messi is an Argentine professional footballer who plays as a forward for Major League Soccer club Inter Miami and captains the Argentina national team. Widely regarded as one of the greatest players of all time, Messi has won a record seven Ballon d'Or awards and a record six European Golden Shoes. He has spent his entire professional career with Barcelona, where he won a club-record 34 trophies, including ten La Liga titles, seven Copa del Rey titles and the UEFA Champions League four times. With his country, he won the 2021 Copa América and the 2022 FIFA World Cup. Messi holds the records for most goals in La Liga, most hat-tricks in La Liga and the UEFA Champions League, and most assists in La Liga and the Copa América. He also has the most international goals by a South American male. Messi has scored over 800 senior career goals for club and country, and has the most goals by a player for a single club. He has won four consecutive Ballons d'Or, set the La Liga and European records for most goals scored in a single season, and won a fifth Ballon d'Or in 2015. He also won the 2005 FIFA World Youth Championship, an Olympic gold medal at the 2008 Summer Olympics,.\n",
      "The results summary is:  Lionel Messi is an Argentine professional footballer who plays for Inter Miami and captains the Argentina national team. He is widely regarded as one of the greatest players of all time, having won a record seven Ballon d'Or awards and a record six European Golden Shoes. He has scored over 800 senior career goals for club and country, and has won numerous awards, including the 2005 FIFA World Youth Championship, the 2008 Summer Olympics, and the 2014 FIFA World Cup. He recently signed for Inter Miami and won the 2021 Copa América and the 2022 FIFA World Cup with his country.Agent stopped due to iteration limit or time limit..\n",
      "The final blog will be 2000 words long, with an introduction at the beginning and a conclusion at the end of the blog.\n",
      "use the following template to write the blog:\n",
      "[BLOG]\n",
      "[title]\n",
      "[subtitle]\n",
      "[introduction]\n",
      "[body in bullet points]\n",
      "[summary]\n",
      "[END BLOG]\n",
      "\u001b[0m\n",
      "\n",
      "\u001b[1m> Finished chain.\u001b[0m\n"
     ]
    }
   ],
   "source": [
    "draft1 = writer_chain.run(\n",
    "    topic=myTopic,\n",
    "    title=title,\n",
    "    subtitle=subtitle,\n",
    "    google_results=google_results,\n",
    "    wiki_results=wiki_results,\n",
    "    duck_results=duck_results,\n",
    "    wiki_query_results=wiki_query_results,\n",
    "    google_summary=google_summary,\n",
    "    wiki_summary=wiki_summary,\n",
    "    duck_summary=duck_summary,\n",
    "    wiki_query_summary=wiki_query_summary,\n",
    "    summary=tot_summary + tot_summary2,\n",
    "    keywords=keyword_list,\n",
    "    wordCount=3000,\n",
    ")"
   ]
  },
  {
   "cell_type": "code",
   "execution_count": 326,
   "metadata": {},
   "outputs": [
    {
     "name": "stdout",
     "output_type": "stream",
     "text": [
      "[BLOG]\n",
      "The Magic of Messi: Celebrating the Phenomenal Footballer\n",
      "The Magic of Messi\n",
      "\n",
      "Introduction:\n",
      "Lionel Andrés Messi, also known as Leo Messi, is an Argentine professional footballer who has captured the hearts of millions of fans around the world. With his incredible skills and unmatched talent, Messi has established himself as one of the greatest players in the history of the sport. In this blog, we will delve into the magic of Messi and celebrate his phenomenal career.\n",
      "\n",
      "Body:\n",
      "\n",
      "1. Early Life and Career:\n",
      "- Messi was born on June 24, 1987, in Rosario, Argentina.\n",
      "- He joined Barcelona's youth academy, La Masia, at the age of 13.\n",
      "- Messi made his competitive debut for Barcelona at the age of 17 in October 2004.\n",
      "- He quickly established himself as an integral player for the club and helped Barcelona achieve the first treble in Spanish football in the 2008-09 season.\n",
      "\n",
      "2. Record-Breaking Achievements:\n",
      "- Messi has won a record seven Ballon d'Or awards, cementing his status as the world's best soccer player.\n",
      "- He holds the records for most goals in La Liga (474) and the UEFA Champions League (eight hat-tricks).\n",
      "- Messi has also set the La Liga and European records for most goals scored in a single season during the 2011-12 season.\n",
      "- With his country, Messi won the 2021 Copa América and the 2022 FIFA World Cup, showcasing his brilliance on the international stage.\n",
      "\n",
      "3. Legacy and Impact:\n",
      "- Messi's impact extends beyond the football pitch. He is a global icon and a role model for aspiring young players.\n",
      "- His move to Major League Soccer club Inter Miami has further solidified his status as a soccer legend.\n",
      "- Messi's popularity has led to the creation of his own lifestyle brand, The Messi Store, offering precision lifestyle clothing.\n",
      "- He has a massive following on social media, with 479 million followers on Instagram alone.\n",
      "\n",
      "Conclusion:\n",
      "Lionel Messi's journey from a young boy in Argentina to becoming a global icon and the world's best soccer player is nothing short of magical. His record-breaking achievements, unmatched skills, and humble demeanor have endeared him to fans worldwide. Messi's legacy will continue to inspire future generations of footballers, and his impact on the sport will be remembered for years to come.\n",
      "\n",
      "[END BLOG]\n"
     ]
    }
   ],
   "source": [
    "print(draft1)"
   ]
  },
  {
   "cell_type": "code",
   "execution_count": 327,
   "metadata": {},
   "outputs": [
    {
     "name": "stdout",
     "output_type": "stream",
     "text": [
      "len draft1 2265\n"
     ]
    }
   ],
   "source": [
    "print(\"len draft1\", len(draft1))"
   ]
  },
  {
   "cell_type": "code",
   "execution_count": 328,
   "metadata": {},
   "outputs": [],
   "source": [
    "# Put the text in draft1 in text file\n",
    "with open(\"draft1.txt\", \"w\") as f:\n",
    "    f.write(draft1)"
   ]
  },
  {
   "cell_type": "markdown",
   "metadata": {},
   "source": [
    "## Evaluate the first draft\n"
   ]
  },
  {
   "cell_type": "code",
   "execution_count": null,
   "metadata": {},
   "outputs": [],
   "source": []
  }
 ],
 "metadata": {
  "kernelspec": {
   "display_name": "base",
   "language": "python",
   "name": "python3"
  },
  "language_info": {
   "codemirror_mode": {
    "name": "ipython",
    "version": 3
   },
   "file_extension": ".py",
   "mimetype": "text/x-python",
   "name": "python",
   "nbconvert_exporter": "python",
   "pygments_lexer": "ipython3",
   "version": "3.11.3"
  },
  "orig_nbformat": 4
 },
 "nbformat": 4,
 "nbformat_minor": 2
}
