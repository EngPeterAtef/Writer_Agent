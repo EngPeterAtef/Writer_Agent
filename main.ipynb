{
    "cells": [
        {
            "cell_type": "code",
            "execution_count": 1,
            "metadata": {},
            "outputs": [],
            "source": [
                "from langchain.agents import Tool, initialize_agent, AgentType, load_tools\n",
                "from dotenv import load_dotenv\n",
                "from langchain.utilities import (\n",
                "    WikipediaAPIWrapper,\n",
                "    GoogleSearchAPIWrapper,\n",
                ")\n",
                "from langchain.tools import WikipediaQueryRun, DuckDuckGoSearchRun\n",
                "from langchain import OpenAI, Wikipedia\n",
                "\n",
                "from langchain.prompts import PromptTemplate\n",
                "from langchain.chains import LLMChain\n",
                "from langchain.chains.summarize import load_summarize_chain\n",
                "from langchain.text_splitter import (\n",
                "    RecursiveCharacterTextSplitter,\n",
                ")\n",
                "from langchain.chat_models import ChatOpenAI\n",
                "from langchain import LLMMathChain"
            ]
        },
        {
            "cell_type": "code",
            "execution_count": 2,
            "metadata": {},
            "outputs": [
                {
                    "data": {
                        "text/plain": [
                            "True"
                        ]
                    },
                    "execution_count": 2,
                    "metadata": {},
                    "output_type": "execute_result"
                }
            ],
            "source": [
                "load_dotenv()"
            ]
        },
        {
            "cell_type": "code",
            "execution_count": 13,
            "metadata": {},
            "outputs": [],
            "source": [
                "myTopic = input(\"Enter your topic: \")"
            ]
        },
        {
            "cell_type": "markdown",
            "metadata": {},
            "source": [
                "## Getting Keywords\n"
            ]
        },
        {
            "cell_type": "code",
            "execution_count": 14,
            "metadata": {},
            "outputs": [],
            "source": [
                "wiki = WikipediaAPIWrapper()\n",
                "wikiQuery = WikipediaQueryRun(api_wrapper=wiki)\n",
                "google = GoogleSearchAPIWrapper()\n",
                "duck = DuckDuckGoSearchRun()"
            ]
        },
        {
            "cell_type": "code",
            "execution_count": 45,
            "metadata": {},
            "outputs": [],
            "source": [
                "llm_keywords = ChatOpenAI(temperature=0.5)"
            ]
        },
        {
            "cell_type": "code",
            "execution_count": 46,
            "metadata": {},
            "outputs": [],
            "source": [
                "keyword_extractor_tools = [\n",
                "    Tool(\n",
                "        name=\"Google Search\",\n",
                "        description=\"Useful when you want to get the keywords from Google about single topic.\",\n",
                "        func=google.run,\n",
                "    ),\n",
                "    Tool(\n",
                "        name=\"DuckDuckGo Search Evaluation\",\n",
                "        description=\"Useful to evaluate the keywords of Google Search and add any missing keywords about specific topic.\",\n",
                "        func=duck.run,\n",
                "    ),\n",
                "]"
            ]
        },
        {
            "cell_type": "code",
            "execution_count": 47,
            "metadata": {},
            "outputs": [],
            "source": [
                "keyword_agent = initialize_agent(\n",
                "    agent_type=AgentType.ZERO_SHOT_REACT_DESCRIPTION,\n",
                "    agent_name=\"Keyword extractor\",\n",
                "    agent_description=\"You are a helpful AI that helps the user to get the important keyword list from the search results about specific topic.\",\n",
                "    llm=llm_keywords,\n",
                "    tools=keyword_extractor_tools,\n",
                "    verbose=True,\n",
                ")"
            ]
        },
        {
            "cell_type": "code",
            "execution_count": 48,
            "metadata": {},
            "outputs": [
                {
                    "data": {
                        "text/plain": [
                            "'Answer the following questions as best you can. You have access to the following tools:\\n\\nGoogle Search: Useful when you want to get the keywords from Google about single topic.\\nDuckDuckGo Search Evaluation: Useful to evaluate the keywords of Google Search and add any missing keywords about specific topic.\\n\\nUse the following format:\\n\\nQuestion: the input question you must answer\\nThought: you should always think about what to do\\nAction: the action to take, should be one of [Google Search, DuckDuckGo Search Evaluation]\\nAction Input: the input to the action\\nObservation: the result of the action\\n... (this Thought/Action/Action Input/Observation can repeat N times)\\nThought: I now know the final answer\\nFinal Answer: the final answer to the original input question\\n\\nBegin!\\n\\nQuestion: {input}\\nThought:{agent_scratchpad}'"
                        ]
                    },
                    "execution_count": 48,
                    "metadata": {},
                    "output_type": "execute_result"
                }
            ],
            "source": [
                "keyword_agent.agent.llm_chain.prompt.template"
            ]
        },
        {
            "cell_type": "code",
            "execution_count": 49,
            "metadata": {},
            "outputs": [
                {
                    "name": "stdout",
                    "output_type": "stream",
                    "text": [
                        "\n",
                        "\n",
                        "\u001b[1m> Entering new  chain...\u001b[0m\n"
                    ]
                },
                {
                    "name": "stdout",
                    "output_type": "stream",
                    "text": [
                        "\u001b[32;1m\u001b[1;3mI should start by searching about Mo Salah on Google to gather information about him.\n",
                        "Action: Google Search\n",
                        "Action Input: \"Mo Salah\"\u001b[0m\n",
                        "Observation: \u001b[36;1m\u001b[1;3mmæd sˤɑˈlɑːħ ˈɣæːli]; born 15 June 1992), also known hypocoristically as Mo Salah, is an Egyptian professional footballer who plays as a forward for Premier ... Show more posts from mosalah. Related accounts. See all. k.mbappe. Kylian Mbappé. Follow. karimbenzema. Karim Benzema. Follow. roberto_firmino. Mohamed Salah, 31, from Egypt ➤ Liverpool FC, since 2017 ➤ Attack ➤ Market value: €65.00m ➤ * Jun 15, 1992 in Nagrig, Basyoun, Egypt. Check out the latest domestic and international stats, match logs, goals, height, weight and more for Mohamed Salah playing for Liverpool FC, ... Mohamed Salah, 31, from Egypt ➤ Liverpool FC, since 2017 ➤ Attack ➤ Market value: €65.00m ➤ * Jun 15, 1992 in Nagrig, Basyoun, Egypt. Jun 5, 2018 ... Mohamed Salah is a player who offers several glimpses into many places at once. To be honest, he is not aiming to unify the world but to shrink ... May 2, 2018 ... https://www.nytimes.com/2018/05/02/world/europe/mo-salah-liverpool- ... Liverpool's Egyptian star, Mohamed Salah, has scored 43 goals in 49 ... Dec 2, 2021 ... If Mohamed Salah and Karim Benzema felt wronged by their Ballon d'Or rankings, then the pair begun their revenge arcs in the most emphatic ... Jun 12, 2019 ... Mohamed Salah could be doing more for his adopted city of Liverpool than helping bring home the Champions League trophy for a sixth time. Aug 19, 2019 ... Liverpool star Mohamed Salah says his teammate on the Egyptian national football team Amr Warda requires “treatment or rehabilitation” after ...\u001b[0m\n",
                        "Thought:\u001b[32;1m\u001b[1;3mI have gathered some information about Mo Salah from Google Search, but I should also evaluate the keywords using DuckDuckGo Search Evaluation to ensure I have a comprehensive list.\n",
                        "Action: DuckDuckGo Search Evaluation\n",
                        "Action Input: \"Mo Salah\"\u001b[0m\n",
                        "Observation: \u001b[33;1m\u001b[1;3mMohamed Salah Hamed Mahrous Ghaly (Arabic: محمد صلاح حامد محروس غالي, Egyptian Arabic pronunciation: [mæˈħam.mæd sˤɑˈlɑːħ ˈɣæːli]; born 15 June 1992), also known hypocoristically as Mo Salah, is an Egyptian professional footballer who plays as a forward for Premier League club Liverpool and captains the Egypt national team. Another fact about Magi Salah is that she welcomed her second daughter in a British hospital in 2020. Mohamed and Maggie named the newborn \"Kayan\", which is an Arabic feminine name, meaning nature and creation. Salah's second daughter was born in Liverpool, his first daughter Mecca was born in London in 2014 when her father was a player at. Market value details. Name in home country: محمد صلاح Full name: Mohamed Salah Hamed Ghaly Date of birth: Jun 15, 1992 Place of birth: Nagrig, Basyoun Age: 31 Height: 1,75 m Citizenship: Egypt Position: Attack - Right Winger Foot: left Current club: Liverpool FC Joined: Jul 1, 2017 Contract expires: Jun 30, 2025 Date of last contract ... Mo Salah, AKA Mohamed Salah, is an Egyptian professional football player born in Nagrig, Egypt. The professional soccer player has been representing his home country since his youth. Salah is a forward for the Premier League team Liverpool and an Egyptian professional footballer. Apart from that, he is also the captain of the Egypt national team. Footballer for Liverpool FC.\u001b[0m\n",
                        "Thought:\u001b[32;1m\u001b[1;3mI now have a list of important keywords related to Mo Salah: Mo Salah, Egyptian professional footballer, forward, Premier League, Liverpool FC, market value, goals, height, weight, Nagrig, Basyoun, Egypt, Liverpool star, Egyptian national team. \n",
                        "Final Answer: The important keywords related to Mo Salah are Mo Salah, Egyptian professional footballer, forward, Premier League, Liverpool FC, market value, goals, height, weight, Nagrig, Basyoun, Egypt, Liverpool star, Egyptian national team.\u001b[0m\n",
                        "\n",
                        "\u001b[1m> Finished chain.\u001b[0m\n"
                    ]
                }
            ],
            "source": [
                "keyword_list = keyword_agent.run(\n",
                "    f\"Search about {myTopic} and use the results to get the important keywords related to {myTopic} to help to write a blog about {myTopic}.\"\n",
                ")"
            ]
        },
        {
            "cell_type": "code",
            "execution_count": 50,
            "metadata": {},
            "outputs": [
                {
                    "name": "stdout",
                    "output_type": "stream",
                    "text": [
                        "The important keywords related to Mo Salah are Mo Salah, Egyptian professional footballer, forward, Premier League, Liverpool FC, market value, goals, height, weight, Nagrig, Basyoun, Egypt, Liverpool star, Egyptian national team.\n"
                    ]
                }
            ],
            "source": [
                "print(keyword_list)\n",
                "# The important keywords related to Mo Salah are Mo Salah, Egyptian professional footballer, forward, Premier League, Liverpool, Egypt, market value, goals, height, weight, Liverpool FC, Champions League."
            ]
        },
        {
            "cell_type": "markdown",
            "metadata": {},
            "source": [
                "## Getting Title and SubTitle\n"
            ]
        },
        {
            "cell_type": "code",
            "execution_count": 35,
            "metadata": {},
            "outputs": [
                {
                    "name": "stdout",
                    "output_type": "stream",
                    "text": [
                        "\n",
                        "\n",
                        "\u001b[1m> Entering new  chain...\u001b[0m\n"
                    ]
                },
                {
                    "name": "stdout",
                    "output_type": "stream",
                    "text": [
                        "\u001b[32;1m\u001b[1;3m No.\n",
                        "So the final answer is: \"Mo Salah - An Egyptian Professional Footballer, Liverpool FC's All-Time Top Scorer\"\u001b[0m\n",
                        "\n",
                        "\u001b[1m> Finished chain.\u001b[0m\n",
                        "\n",
                        "\n",
                        "\u001b[1m> Entering new  chain...\u001b[0m\n",
                        "\u001b[32;1m\u001b[1;3m Yes.\n",
                        "Follow up: What position does Mo Salah play?\u001b[0m\n",
                        "Intermediate answer: \u001b[36;1m\u001b[1;3mAug 3, 2022 ... Salah shared the 2021/22 Golden Boot with another player who might be described as a winger or a forward, depending on who you ask. Tottenham's ... mæd sˤɑˈlɑːħ ˈɣæːli]; born 15 June 1992), also known hypocoristically as Mo Salah, is an Egyptian professional footballer who plays as a forward for Premier ... Club: Liverpool · Nationality: Egypt · Age: 31 years (1992-06-15) · Position: Winger (Right) · Prefered foot: Left · Height: 175 cm · Weight: 71 kg · Previous teams:. Mohamed Salah, 31, from Egypt ➤ Liverpool FC, since 2017 ➤ Attack ➤ Market value: €65.00m ➤ * Jun 15, 1992 in Nagrig, Basyoun, Egypt. forward. Mohamed Salah. Buy Mohamed Salah jersey. Player highlights on LFCTV GO. Profile Stats. Mohamed Salah is one of the world's best and most prolific ... Player of the Season. 1. 2017/18. Goal of the Month. 2. 2020/21. 2021/22. Premier League Champion. 1. 2019/20. Playmaker. 1. 2021/22. Player of the Month. Although Mo' Salah has scored the most number of goals this year, he plays more as a Right Winger than a Centre Forward. Liverpool's final 3 stands as follows:. Oct 31, 2022 ... Liverpool's star striker Mo Salah headlines the first group of Out of Position cards, with a huge two-point boost to 92. This makes his card one ... Sep 16, 2022 ... The open play touch map comparison highlights how negligible the difference is between Salah's positioning is this season compared to last. Mohamed Salah. 11. Born: 15 June 1992; Baysoun, Egypt Position: Winger Signed: 22 June 2017; Roma; £37m. Debut: 12 August 2017; vs. Watford ...\u001b[0m\n",
                        "\u001b[32;1m\u001b[1;3mSo the final answer is: \"Liverpool FC's All-Time Top Scorer: Mo Salah - An Egyptian Professional Footballer\"\u001b[0m\n",
                        "\n",
                        "\u001b[1m> Finished chain.\u001b[0m\n",
                        "title \"Mo Salah - An Egyptian Professional Footballer, Liverpool FC's All-Time Top Scorer\"\n",
                        "subtitle \"Liverpool FC's All-Time Top Scorer: Mo Salah - An Egyptian Professional Footballer\"\n"
                    ]
                }
            ],
            "source": [
                "title_llm = ChatOpenAI(temperature=0.5, model="gpt-4")  # temperature=0.7\n",
                "\n",
                "title_tools = [\n",
                "    Tool(\n",
                "        name=\"Intermediate Answer\",\n",
                "        description=\"Useful for when you need to get the title and subtitle for a blog about specific topic.\",\n",
                "        func=google.run,\n",
                "    ),\n",
                "]\n",
                "\n",
                "self_ask_with_search = initialize_agent(\n",
                "    title_tools, title_llm, agent=AgentType.SELF_ASK_WITH_SEARCH, verbose=True\n",
                ")\n",
                "title = self_ask_with_search.run(\n",
                "    f\"Suggest a titel for a blog about {myTopic} using the following keywords {keyword_list}?\",\n",
                ")\n",
                "subtitle = self_ask_with_search.run(\n",
                "    f\"Suggest a suitable subtitle for a blog about {myTopic} for the a blog title {title} using the following keywords {keyword_list}?\",\n",
                ")\n",
                "print(\"title\", title)\n",
                "print(\"subtitle\", subtitle)"
            ]
        },
        {
            "cell_type": "markdown",
            "metadata": {},
            "source": [
                "## Get search results\n"
            ]
        },
        {
            "cell_type": "code",
            "execution_count": 12,
            "metadata": {},
            "outputs": [
                {
                    "name": "stdout",
                    "output_type": "stream",
                    "text": [
                        "google_results mæd sˤɑˈlɑːħ ˈɣæːli]; born 15 June 1992), also known hypocoristically as Mo Salah, is an Egyptian professional footballer who plays as a forward for Premier ... Show more posts from mosalah. Related accounts. See all. k.mbappe. Kylian Mbappé. Follow. karimbenzema. Karim Benzema. Follow. roberto_firmino. Mohamed Salah, 31, from Egypt ➤ Liverpool FC, since 2017 ➤ Attack ➤ Market value: €65.00m ➤ * Jun 15, 1992 in Nagrig, Basyoun, Egypt. Check out the latest domestic and international stats, match logs, goals, height, weight and more for Mohamed Salah playing for Liverpool FC, ... Mohamed Salah, 31, from Egypt ➤ Liverpool FC, since 2017 ➤ Attack ➤ Market value: €65.00m ➤ * Jun 15, 1992 in Nagrig, Basyoun, Egypt. Jun 5, 2018 ... Mohamed Salah is a player who offers several glimpses into many places at once. To be honest, he is not aiming to unify the world but to shrink ... May 2, 2018 ... https://www.nytimes.com/2018/05/02/world/europe/mo-salah-liverpool- ... Liverpool's Egyptian star, Mohamed Salah, has scored 43 goals in 49 ... Dec 2, 2021 ... If Mohamed Salah and Karim Benzema felt wronged by their Ballon d'Or rankings, then the pair begun their revenge arcs in the most emphatic ... Jun 12, 2019 ... Mohamed Salah could be doing more for his adopted city of Liverpool than helping bring home the Champions League trophy for a sixth time. Aug 19, 2019 ... Liverpool star Mohamed Salah says his teammate on the Egyptian national football team Amr Warda requires “treatment or rehabilitation” after ...\n",
                        "wiki_results Page: Mohamed Salah\n",
                        "Summary: Mohamed Salah Hamed Mahrous Ghaly (Arabic: محمد صلاح حامد محروس غالي, Egyptian Arabic pronunciation: [mæˈħam.mæd sˤɑˈlɑːħ ˈɣæːli]; born 15 June 1992), also known hypocoristically as Mo Salah, is an Egyptian professional footballer who plays as a forward for Premier League club Liverpool and captains the Egypt national team. Considered one of the best players of his generation and amongst the greatest African players of all time, he is known for his clinical finishing, dribbling and speed.Salah started his senior career in 2010 playing for Al Mokawloon, departing in 2012 to join Basel, where he won two Swiss Super League titles. In 2014, Salah joined Chelsea for a reported fee of £11 million, but limited gametime led to successive loans to Fiorentina and Roma, who later signed him permanently for €15 million. In the 2016–17 season, Salah was a key figure in Roma's unsuccessful title bid, reaching double figures in both goals and assists. In 2017, Salah signed for Liverpool for a then-club record transfer of £36.9 million. In his first season, he set the record for most Premier League goals scored (32) in a 38-game season and helped Liverpool to the 2018 UEFA Champions League Final. Having formed a formidable attacking trio with Roberto Firmino and Sadio Mané after the departure of Philippe Coutinho, Salah went on to be an integral player in the club's Champions League and Premier League title successes the following two seasons, and has since also won the FA Cup and the League Cup. Salah has achieved numerous individual accolades, including two PFA Players' Player of the Year awards, three Premier League Golden Boots, the Premier League Player of the Season, the Premier League Playmaker of the Season, and finished third for the Best FIFA Men's Player in 2018 and 2021. He received the 2018 FIFA Puskás Award for his winning strike in the first Merseyside derby of the 2017–18 season. In 2023, Salah became Liverpool's Premier League top goalscorer, surpassing Robbie Fowler.At international level, Salah represented Egypt at youth level before making his senior debut in 2011. Following his performances at the 2012 Summer Olympics, he was named CAF Most Promising African Talent of the Year. Since then, he finished as runner-up in the 2017 and 2021 Africa Cup of Nations and was top scorer during CAF qualification as Egypt qualified for the 2018 FIFA World Cup. Salah was named CAF African Footballer of the Year (2017 and 2018), BBC African Footballer of the Year (2017 and 2018), and was selected in the 2017 Africa Cup of Nations Team of the Tournament, 2021 Africa Cup of Nations Team of the Tournament and the CAF Team of the Year on several occasions.\n",
                        "Outside of football, Salah is regarded as a symbol of national pride in Egypt for his achievements and was named in Time magazine’s list of the 100 most influential people in 2019. To Egyptians, Salah is known as the ‘Fourth Pyramid’. Salah has also been credited for raising the profile of Liverpool among Egyptians. Favoured across the Arab world, Salah is often known as the ‘Pride of the Arabs’.\n",
                        "\n",
                        "Page: Basyoun\n",
                        "Summary: Basyoun (Arabic: بسيون) is a city and municipal division in the Gharbia Governorate, Egypt. It is the hometown of Egyptian International footballers Ahmed El Mohamady (Elmo) and Mohamed Salah (Mo Salah).\n",
                        "\n",
                        "Page: Nagrig\n",
                        "Summary: Nagrig (Egyptian Arabic: نجريج) is a village in the Gharbia Governorate, Egypt, near the city of Basyoun.\n"
                    ]
                }
            ],
            "source": [
                "google_results = google.run(myTopic)\n",
                "wiki_results = wiki.run(myTopic)\n",
                "duck_results = duck.run(myTopic)\n",
                "wiki_query_results = wikiQuery.run(myTopic)\n",
                "print(\"google_results\", google_results)\n",
                "print(\"wiki_results\", wiki_results)"
            ]
        },
        {
            "cell_type": "markdown",
            "metadata": {},
            "source": [
                "## Summarise the search results\n"
            ]
        },
        {
            "cell_type": "code",
            "execution_count": 13,
            "metadata": {},
            "outputs": [],
            "source": [
                "# summarize the results separately\n",
                "summary_prompt = \"\"\"Please Provide a summary of the following essay\n",
                "The essay is: {essay}.\n",
                "The summary is:\"\"\"\n",
                "summary_prompt_template = PromptTemplate(\n",
                "    template=summary_prompt,\n",
                "    input_variables=[\"essay\"],\n",
                ")\n",
                "summarize_llm = ChatOpenAI(\n",
                "    temperature=0, model=\"gpt-4\"\n",
                ")  # or OpenAI(temperature=0)"
            ]
        },
        {
            "cell_type": "code",
            "execution_count": 14,
            "metadata": {},
            "outputs": [],
            "source": [
                "summary_chain = LLMChain(\n",
                "    llm=summarize_llm,\n",
                "    prompt=summary_prompt_template,\n",
                ")\n",
                "google_summary = summary_chain.run(essay=google_results)\n",
                "wiki_summary = summary_chain.run(essay=wiki_results)\n",
                "duck_summary = summary_chain.run(essay=duck_results)\n",
                "wiki_query_summary = summary_chain.run(essay=wiki_query_results)"
            ]
        },
        {
            "cell_type": "code",
            "execution_count": 15,
            "metadata": {},
            "outputs": [],
            "source": [
                "text_spitter = RecursiveCharacterTextSplitter(\n",
                "    separators=[\".\", \"\\n\", \"\\t\", \"\\r\", \"\\f\", \"\\v\", \"\\0\", \"\\x0b\", \"\\x0c\"],\n",
                "    chunk_size=1000,\n",
                "    chunk_overlap=500,\n",
                ")"
            ]
        },
        {
            "cell_type": "code",
            "execution_count": 16,
            "metadata": {},
            "outputs": [],
            "source": [
                "docs = text_spitter.create_documents(\n",
                "    [google_results, wiki_results, duck_results, wiki_query_results]\n",
                ")\n",
                "num_docs = len(docs)\n",
                "summary_chain2 = load_summarize_chain(\n",
                "    llm=summarize_llm,\n",
                "    chain_type=\"map_reduce\",\n",
                ")"
            ]
        },
        {
            "cell_type": "code",
            "execution_count": 17,
            "metadata": {},
            "outputs": [
                {
                    "name": "stderr",
                    "output_type": "stream",
                    "text": [
                        "Retrying langchain.chat_models.openai.ChatOpenAI.completion_with_retry.<locals>._completion_with_retry in 1.0 seconds as it raised ServiceUnavailableError: The server is overloaded or not ready yet..\n"
                    ]
                }
            ],
            "source": [
                "tot_summary = summary_chain2.run(docs)"
            ]
        },
        {
            "cell_type": "code",
            "execution_count": 18,
            "metadata": {},
            "outputs": [],
            "source": [
                "summary_tools = [\n",
                "    Tool(\n",
                "        name=\"Wikipedia\",\n",
                "        func=wiki.run,\n",
                "        description=\"Search engine useful when you want to get information from Wikipedia about single topic.\",\n",
                "    ),\n",
                "    Tool(\n",
                "        name=\"Intermediate Answer\",\n",
                "        func=wikiQuery.run,\n",
                "        description=\"Search engine useful for when you need to ask with search\",\n",
                "    ),\n",
                "    Tool(\n",
                "        name=\"Google Search\",\n",
                "        description=\"Search engine useful when you want to get information from Google about single topic.\",\n",
                "        func=google.run,\n",
                "    ),\n",
                "    Tool(\n",
                "        name=\"DuckDuckGo Search\",\n",
                "        description=\"Search engine useful when you want to get information from DuckDuckGo about single topic.\",\n",
                "        func=duck.run,\n",
                "    ),\n",
                "]"
            ]
        },
        {
            "cell_type": "code",
            "execution_count": 19,
            "metadata": {},
            "outputs": [],
            "source": [
                "summary_agent = initialize_agent(\n",
                "    summary_tools,\n",
                "    llm=summarize_llm,\n",
                "    agent_type=AgentType.ZERO_SHOT_REACT_DESCRIPTION,\n",
                "    agent_name=\"Summary Agent\",\n",
                "    verbose=True,\n",
                ")"
            ]
        },
        {
            "cell_type": "code",
            "execution_count": 20,
            "metadata": {},
            "outputs": [
                {
                    "name": "stdout",
                    "output_type": "stream",
                    "text": [
                        "\n",
                        "\n",
                        "\u001b[1m> Entering new  chain...\u001b[0m\n",
                        "\u001b[32;1m\u001b[1;3mI need to gather information about Mo Salah from each search engine separately. Then I can combine the summaries to create a blog about him.\n",
                        "Action: Wikipedia\n",
                        "Action Input: Mo Salah\u001b[0m\n",
                        "Observation: \u001b[36;1m\u001b[1;3mPage: Mohamed Salah\n",
                        "Summary: Mohamed Salah Hamed Mahrous Ghaly (Arabic: محمد صلاح حامد محروس غالي, Egyptian Arabic pronunciation: [mæˈħam.mæd sˤɑˈlɑːħ ˈɣæːli]; born 15 June 1992), also known hypocoristically as Mo Salah, is an Egyptian professional footballer who plays as a forward for Premier League club Liverpool and captains the Egypt national team. Considered one of the best players of his generation and amongst the greatest African players of all time, he is known for his clinical finishing, dribbling and speed.Salah started his senior career in 2010 playing for Al Mokawloon, departing in 2012 to join Basel, where he won two Swiss Super League titles. In 2014, Salah joined Chelsea for a reported fee of £11 million, but limited gametime led to successive loans to Fiorentina and Roma, who later signed him permanently for €15 million. In the 2016–17 season, Salah was a key figure in Roma's unsuccessful title bid, reaching double figures in both goals and assists. In 2017, Salah signed for Liverpool for a then-club record transfer of £36.9 million. In his first season, he set the record for most Premier League goals scored (32) in a 38-game season and helped Liverpool to the 2018 UEFA Champions League Final. Having formed a formidable attacking trio with Roberto Firmino and Sadio Mané after the departure of Philippe Coutinho, Salah went on to be an integral player in the club's Champions League and Premier League title successes the following two seasons, and has since also won the FA Cup and the League Cup. Salah has achieved numerous individual accolades, including two PFA Players' Player of the Year awards, three Premier League Golden Boots, the Premier League Player of the Season, the Premier League Playmaker of the Season, and finished third for the Best FIFA Men's Player in 2018 and 2021. He received the 2018 FIFA Puskás Award for his winning strike in the first Merseyside derby of the 2017–18 season. In 2023, Salah became Liverpool's Premier League top goalscorer, surpassing Robbie Fowler.At international level, Salah represented Egypt at youth level before making his senior debut in 2011. Following his performances at the 2012 Summer Olympics, he was named CAF Most Promising African Talent of the Year. Since then, he finished as runner-up in the 2017 and 2021 Africa Cup of Nations and was top scorer during CAF qualification as Egypt qualified for the 2018 FIFA World Cup. Salah was named CAF African Footballer of the Year (2017 and 2018), BBC African Footballer of the Year (2017 and 2018), and was selected in the 2017 Africa Cup of Nations Team of the Tournament, 2021 Africa Cup of Nations Team of the Tournament and the CAF Team of the Year on several occasions.\n",
                        "Outside of football, Salah is regarded as a symbol of national pride in Egypt for his achievements and was named in Time magazine’s list of the 100 most influential people in 2019. To Egyptians, Salah is known as the ‘Fourth Pyramid’. Salah has also been credited for raising the profile of Liverpool among Egyptians. Favoured across the Arab world, Salah is often known as the ‘Pride of the Arabs’.\n",
                        "\n",
                        "Page: Basyoun\n",
                        "Summary: Basyoun (Arabic: بسيون) is a city and municipal division in the Gharbia Governorate, Egypt. It is the hometown of Egyptian International footballers Ahmed El Mohamady (Elmo) and Mohamed Salah (Mo Salah).\n",
                        "\n",
                        "Page: Nagrig\n",
                        "Summary: Nagrig (Egyptian Arabic: نجريج) is a village in the Gharbia Governorate, Egypt, near the city of Basyoun.\u001b[0m\n",
                        "Thought:\u001b[32;1m\u001b[1;3mI have gathered information about Mo Salah from Wikipedia. Now I need to gather information from the other search engines.\n",
                        "Action: Google Search\n",
                        "Action Input: Mo Salah summary\u001b[0m\n",
                        "Observation: \u001b[38;5;200m\u001b[1;3mmæd sˤɑˈlɑːħ ˈɣæːli]; born 15 June 1992), also known hypocoristically as Mo Salah, is an Egyptian professional footballer who plays as a forward for Premier ... Mohamed, or Mo, Salah was born on June 15, 1992, in Basyoun, Egypt. As a boy, he played soccer with his brother and friends and developed into a good player ... Mohamed. Salah ; Date of Birth. 15/06/1992 (31) ; Height. 175cm ; Appearances. 231 ; Goals. 139 ; Assists. 59 ... Check out the latest domestic and international stats, match logs, goals, height, weight and more for Mohamed Salah playing for Liverpool FC, ... Mohamed Salah statistics – 31 years_old Liverpool Attacking Midfielder (Centre, Left, Right) / Forward. ... Summary; Defensive; Offensive; Passing; Detailed. Jan 23, 2022 ... Mohamed Salah is one of the speediest forwards around, and frequently uses his speed to get in behind the opposition defense, as the team's ... Nov 6, 2022 ... Tottenham Hotspur 1-2 Liverpool: as it happened. Salah up to 14 goals. Mo Salah has 19 goals + assists after 20 games in all competitions this ... Jun 7, 2021 ... The Effect of Mohamed Salah on Islamophobic Behaviors and ... Next, we provide a brief discussion of Islamophobia in the U.K. Then, ... Oct 14, 2022 ... Substitute Mo Salah scored the fastest ever hat-trick in the Champions League as Liverpool thumped Rangers 7-1 to move closer to last-16 ... Sep 3, 2022 ... The balance isn't right and tactically, they are failing to get the best out of their most potent attacking weapon. Mohamed Salah, Jurgen Klopp, ...\u001b[0m\n",
                        "Thought:\u001b[32;1m\u001b[1;3mI have gathered information about Mo Salah from Wikipedia and Google Search. Now I need to gather information from DuckDuckGo Search.\n",
                        "Action: DuckDuckGo Search\n",
                        "Action Input: Mo Salah summary\u001b[0m\n",
                        "Observation: \u001b[36;1m\u001b[1;3mMohamed Salah Hamed Mahrous Ghaly (Arabic: محمد صلاح حامد محروس غالي, Egyptian Arabic pronunciation: [mæˈħam.mæd sˤɑˈlɑːħ ˈɣæːli]; born 15 June 1992), also known hypocoristically as Mo Salah, is an Egyptian professional footballer who plays as a forward for Premier League club Liverpool and captains the Egypt national team. Salah was again Liverpool's top goal scorer in 2019-20. He made 19 goals and 10 assists that season as the team captured the Premier League title. In addition to his success with professional clubs, Salah was a driving force on the Egyptian national team. After initially playing on Egypt's under-20 and under-23 teams, Salah made the first ... Football (Picture by 2021 Pool) Mo Salah could be one of the biggest stars heading to the Tokyo 2020 Olympics in 2021 for the men's football tournament. The final squads are yet to be confirmed for the competition in Japan, but it's likely that Egypt will request his presence from his current club - Liverpool FC. 12 Our Mohamed Salah Biography provides you with full coverage of his Childhood Story, Early Life, Parents, Family, Wife, Children, Lifestyle and Personal Life. Simply put, this version of Mohamed Salah's Life Story gives an analysis of all notable events right from his childhood days to when he became famous. Last modified on Fri 23 Jun 2023 04.00 EDT. B efore the end of the window every single top-flight footballer from Newcastle to Naples will be linked with a move to the charming Saudi Pro League ...\u001b[0m\n",
                        "Thought:\u001b[32;1m\u001b[1;3mI have gathered information about Mo Salah from Wikipedia, Google Search, and DuckDuckGo Search. Now I can combine the summaries to create a blog about him.\n",
                        "Final Answer: Mo Salah, also known as Mohamed Salah Hamed Mahrous Ghaly, is an Egyptian professional footballer who plays as a forward for Premier League club Liverpool and captains the Egypt national team. He is considered one of the best players of his generation and among the greatest African players of all time. Salah is known for his clinical finishing, dribbling, and speed. He started his senior career in 2010 and has played for clubs like Al Mokawloon, Basel, Chelsea, Fiorentina, and Roma before joining Liverpool in 2017. Salah has achieved numerous individual accolades and has been a key player in Liverpool's success in the Premier League and Champions League. He is also a symbol of national pride in Egypt and has raised the profile of Liverpool among Egyptians.\u001b[0m\n",
                        "\n",
                        "\u001b[1m> Finished chain.\u001b[0m\n"
                    ]
                }
            ],
            "source": [
                "tot_summary2 = summary_agent.run(\n",
                "    f\"can you provide me a summary about {myTopic} from each search engine separately? \\ then use this information to combine all the summaries together to get a blog about {myTopic}.\"\n",
                ")"
            ]
        },
        {
            "cell_type": "markdown",
            "metadata": {},
            "source": [
                "## Create a chain to write the first draft of the blog\n"
            ]
        },
        {
            "cell_type": "code",
            "execution_count": 21,
            "metadata": {},
            "outputs": [],
            "source": [
                "prompt_writer = \"\"\"You are an expert online blogger with expert writing skills and I want you to only write out the breakdown of each section of the blog on the topic of {topic} \n",
                "using the following information:\n",
                "keywords: {keywords}.\n",
                "The title is: {title}.\n",
                "The subtitle is: {subtitle}.\n",
                "google results: {google_results}.\n",
                "wiki results: {wiki_results}.\n",
                "duck results: {duck_results}.\n",
                "wiki query results: {wiki_query_results}.\n",
                "google summary: {google_summary}.\n",
                "wiki summary: {wiki_summary}.\n",
                "duck summary: {duck_summary}.\n",
                "wiki query summary: {wiki_query_summary}.\n",
                "The results summary is: {summary}.\n",
                "The final blog will be {wordCount} words long, with an introduction at the beginning and a conclusion at the end of the blog.\n",
                "use the following template to write the blog:\n",
                "[BLOG]\n",
                "[title]\n",
                "[subtitle]\n",
                "[introduction]\n",
                "[body in bullet points]\n",
                "[summary]\n",
                "[END BLOG]\n",
                "\"\"\"\n",
                "\n",
                "prompt_writer_template = PromptTemplate(\n",
                "    template=prompt_writer,\n",
                "    input_variables=[\n",
                "        \"topic\",\n",
                "        \"title\",\n",
                "        \"subtitle\",\n",
                "        \"google_results\",\n",
                "        \"wiki_results\",\n",
                "        \"duck_results\",\n",
                "        \"wiki_query_results\",\n",
                "        \"google_summary\",\n",
                "        \"wiki_summary\",\n",
                "        \"duck_summary\",\n",
                "        \"wiki_query_summary\",\n",
                "        \"summary\",\n",
                "        \"keywords\",\n",
                "        \"wordCount\",\n",
                "    ],\n",
                ")\n",
                "writer_llm = ChatOpenAI(temperature=0, model=\"gpt-4\")"
            ]
        },
        {
            "cell_type": "code",
            "execution_count": 22,
            "metadata": {},
            "outputs": [],
            "source": [
                "writer_chain = LLMChain(\n",
                "    llm=writer_llm,\n",
                "    prompt=prompt_writer_template,\n",
                "    verbose=True,\n",
                ")"
            ]
        },
        {
            "cell_type": "code",
            "execution_count": 23,
            "metadata": {},
            "outputs": [
                {
                    "name": "stdout",
                    "output_type": "stream",
                    "text": [
                        "\n",
                        "\n",
                        "\u001b[1m> Entering new  chain...\u001b[0m\n",
                        "Prompt after formatting:\n",
                        "\u001b[32;1m\u001b[1;3mYou are an expert online blogger with expert writing skills and I want you to only write out the breakdown of each section of the blog on the topic of Mo Salah \n",
                        "using the following information:\n",
                        "keywords: The important keywords related to Mo Salah are Mo Salah, Egyptian professional footballer, forward, Premier League, Liverpool, Egypt national team, market value, Nagrig, Basyoun, attack, right winger, left foot, Liverpool FC, hattrick, Champions League..\n",
                        "The title is: \"The Phenomenal Mo Salah: An Egyptian Professional Footballer's Journey from Nagrig to Liverpool FC\".\n",
                        "The subtitle is: \"Mo Salah: The Egyptian Professional Footballer Who Revolutionized the Premier League and the Egypt National Team\".\n",
                        "google results: mæd sˤɑˈlɑːħ ˈɣæːli]; born 15 June 1992), also known hypocoristically as Mo Salah, is an Egyptian professional footballer who plays as a forward for Premier ... Show more posts from mosalah. Related accounts. See all. k.mbappe. Kylian Mbappé. Follow. karimbenzema. Karim Benzema. Follow. roberto_firmino. Mohamed Salah, 31, from Egypt ➤ Liverpool FC, since 2017 ➤ Attack ➤ Market value: €65.00m ➤ * Jun 15, 1992 in Nagrig, Basyoun, Egypt. Check out the latest domestic and international stats, match logs, goals, height, weight and more for Mohamed Salah playing for Liverpool FC, ... Mohamed Salah, 31, from Egypt ➤ Liverpool FC, since 2017 ➤ Attack ➤ Market value: €65.00m ➤ * Jun 15, 1992 in Nagrig, Basyoun, Egypt. Jun 5, 2018 ... Mohamed Salah is a player who offers several glimpses into many places at once. To be honest, he is not aiming to unify the world but to shrink ... May 2, 2018 ... https://www.nytimes.com/2018/05/02/world/europe/mo-salah-liverpool- ... Liverpool's Egyptian star, Mohamed Salah, has scored 43 goals in 49 ... Dec 2, 2021 ... If Mohamed Salah and Karim Benzema felt wronged by their Ballon d'Or rankings, then the pair begun their revenge arcs in the most emphatic ... Jun 12, 2019 ... Mohamed Salah could be doing more for his adopted city of Liverpool than helping bring home the Champions League trophy for a sixth time. Aug 19, 2019 ... Liverpool star Mohamed Salah says his teammate on the Egyptian national football team Amr Warda requires “treatment or rehabilitation” after ....\n",
                        "wiki results: Page: Mohamed Salah\n",
                        "Summary: Mohamed Salah Hamed Mahrous Ghaly (Arabic: محمد صلاح حامد محروس غالي, Egyptian Arabic pronunciation: [mæˈħam.mæd sˤɑˈlɑːħ ˈɣæːli]; born 15 June 1992), also known hypocoristically as Mo Salah, is an Egyptian professional footballer who plays as a forward for Premier League club Liverpool and captains the Egypt national team. Considered one of the best players of his generation and amongst the greatest African players of all time, he is known for his clinical finishing, dribbling and speed.Salah started his senior career in 2010 playing for Al Mokawloon, departing in 2012 to join Basel, where he won two Swiss Super League titles. In 2014, Salah joined Chelsea for a reported fee of £11 million, but limited gametime led to successive loans to Fiorentina and Roma, who later signed him permanently for €15 million. In the 2016–17 season, Salah was a key figure in Roma's unsuccessful title bid, reaching double figures in both goals and assists. In 2017, Salah signed for Liverpool for a then-club record transfer of £36.9 million. In his first season, he set the record for most Premier League goals scored (32) in a 38-game season and helped Liverpool to the 2018 UEFA Champions League Final. Having formed a formidable attacking trio with Roberto Firmino and Sadio Mané after the departure of Philippe Coutinho, Salah went on to be an integral player in the club's Champions League and Premier League title successes the following two seasons, and has since also won the FA Cup and the League Cup. Salah has achieved numerous individual accolades, including two PFA Players' Player of the Year awards, three Premier League Golden Boots, the Premier League Player of the Season, the Premier League Playmaker of the Season, and finished third for the Best FIFA Men's Player in 2018 and 2021. He received the 2018 FIFA Puskás Award for his winning strike in the first Merseyside derby of the 2017–18 season. In 2023, Salah became Liverpool's Premier League top goalscorer, surpassing Robbie Fowler.At international level, Salah represented Egypt at youth level before making his senior debut in 2011. Following his performances at the 2012 Summer Olympics, he was named CAF Most Promising African Talent of the Year. Since then, he finished as runner-up in the 2017 and 2021 Africa Cup of Nations and was top scorer during CAF qualification as Egypt qualified for the 2018 FIFA World Cup. Salah was named CAF African Footballer of the Year (2017 and 2018), BBC African Footballer of the Year (2017 and 2018), and was selected in the 2017 Africa Cup of Nations Team of the Tournament, 2021 Africa Cup of Nations Team of the Tournament and the CAF Team of the Year on several occasions.\n",
                        "Outside of football, Salah is regarded as a symbol of national pride in Egypt for his achievements and was named in Time magazine’s list of the 100 most influential people in 2019. To Egyptians, Salah is known as the ‘Fourth Pyramid’. Salah has also been credited for raising the profile of Liverpool among Egyptians. Favoured across the Arab world, Salah is often known as the ‘Pride of the Arabs’.\n",
                        "\n",
                        "Page: Basyoun\n",
                        "Summary: Basyoun (Arabic: بسيون) is a city and municipal division in the Gharbia Governorate, Egypt. It is the hometown of Egyptian International footballers Ahmed El Mohamady (Elmo) and Mohamed Salah (Mo Salah).\n",
                        "\n",
                        "Page: Nagrig\n",
                        "Summary: Nagrig (Egyptian Arabic: نجريج) is a village in the Gharbia Governorate, Egypt, near the city of Basyoun..\n",
                        "duck results: Mohamed Salah Hamed Mahrous Ghaly (Arabic: محمد صلاح حامد محروس غالي, Egyptian Arabic pronunciation: [mæˈħam.mæd sˤɑˈlɑːħ ˈɣæːli]; born 15 June 1992), also known hypocoristically as Mo Salah, is an Egyptian professional footballer who plays as a forward for Premier League club Liverpool and captains the Egypt national team. In 2018, Salah signed a new contract with Liverpool and another impressive season followed. The 2019-20 season ended with Liverpool lifting the Premier League trophy - the first time they did so in more than 30 years. Salary [adrotate banner=\"3″] His salary stands at $35 million. Net Worth. Mo Salah's net worth stands at $90 million. Mohamed Salah is Liverpool's king - and could yet be their greatest ever player By James Pearce May 7, 2023 85 How fitting that Mohamed Salah marked coronation day by writing more history at... Mohamed Salah was born on June 15, 1992. He is currently 31 years old and plays as a Wide Man for Liverpool in England. His overall rating in FIFA 23 is 89 with a potential of 89. Salah has got a 4-star skillmoves rating. He prefers to shoot with his left foot. His workrates are High / Medium. Market value details. Name in home country: محمد صلاح Full name: Mohamed Salah Hamed Ghaly Date of birth: Jun 15, 1992 Place of birth: Nagrig, Basyoun Age: 31 Height: 1,75 m Citizenship: Egypt Position: Attack - Right Winger Foot: left Current club: Liverpool FC Joined: Jul 1, 2017 Contract expires: Jun 30, 2025 Date of last contract ....\n",
                        "wiki query results: Page: Mohamed Salah\n",
                        "Summary: Mohamed Salah Hamed Mahrous Ghaly (Arabic: محمد صلاح حامد محروس غالي, Egyptian Arabic pronunciation: [mæˈħam.mæd sˤɑˈlɑːħ ˈɣæːli]; born 15 June 1992), also known hypocoristically as Mo Salah, is an Egyptian professional footballer who plays as a forward for Premier League club Liverpool and captains the Egypt national team. Considered one of the best players of his generation and amongst the greatest African players of all time, he is known for his clinical finishing, dribbling and speed.Salah started his senior career in 2010 playing for Al Mokawloon, departing in 2012 to join Basel, where he won two Swiss Super League titles. In 2014, Salah joined Chelsea for a reported fee of £11 million, but limited gametime led to successive loans to Fiorentina and Roma, who later signed him permanently for €15 million. In the 2016–17 season, Salah was a key figure in Roma's unsuccessful title bid, reaching double figures in both goals and assists. In 2017, Salah signed for Liverpool for a then-club record transfer of £36.9 million. In his first season, he set the record for most Premier League goals scored (32) in a 38-game season and helped Liverpool to the 2018 UEFA Champions League Final. Having formed a formidable attacking trio with Roberto Firmino and Sadio Mané after the departure of Philippe Coutinho, Salah went on to be an integral player in the club's Champions League and Premier League title successes the following two seasons, and has since also won the FA Cup and the League Cup. Salah has achieved numerous individual accolades, including two PFA Players' Player of the Year awards, three Premier League Golden Boots, the Premier League Player of the Season, the Premier League Playmaker of the Season, and finished third for the Best FIFA Men's Player in 2018 and 2021. He received the 2018 FIFA Puskás Award for his winning strike in the first Merseyside derby of the 2017–18 season. In 2023, Salah became Liverpool's Premier League top goalscorer, surpassing Robbie Fowler.At international level, Salah represented Egypt at youth level before making his senior debut in 2011. Following his performances at the 2012 Summer Olympics, he was named CAF Most Promising African Talent of the Year. Since then, he finished as runner-up in the 2017 and 2021 Africa Cup of Nations and was top scorer during CAF qualification as Egypt qualified for the 2018 FIFA World Cup. Salah was named CAF African Footballer of the Year (2017 and 2018), BBC African Footballer of the Year (2017 and 2018), and was selected in the 2017 Africa Cup of Nations Team of the Tournament, 2021 Africa Cup of Nations Team of the Tournament and the CAF Team of the Year on several occasions.\n",
                        "Outside of football, Salah is regarded as a symbol of national pride in Egypt for his achievements and was named in Time magazine’s list of the 100 most influential people in 2019. To Egyptians, Salah is known as the ‘Fourth Pyramid’. Salah has also been credited for raising the profile of Liverpool among Egyptians. Favoured across the Arab world, Salah is often known as the ‘Pride of the Arabs’.\n",
                        "\n",
                        "Page: Basyoun\n",
                        "Summary: Basyoun (Arabic: بسيون) is a city and municipal division in the Gharbia Governorate, Egypt. It is the hometown of Egyptian International footballers Ahmed El Mohamady (Elmo) and Mohamed Salah (Mo Salah).\n",
                        "\n",
                        "Page: Nagrig\n",
                        "Summary: Nagrig (Egyptian Arabic: نجريج) is a village in the Gharbia Governorate, Egypt, near the city of Basyoun..\n",
                        "google summary: The essay provides information about Mohamed Salah, an Egyptian professional footballer who plays as a forward for Liverpool FC. It mentions his date of birth, his market value, and his playing position. The essay also highlights Salah's achievements, such as his goal-scoring record and his contributions to Liverpool FC. Additionally, it mentions Salah's impact on his adopted city of Liverpool and his support for his teammate on the Egyptian national football team..\n",
                        "wiki summary: The essay provides information about Mohamed Salah, an Egyptian professional footballer who plays as a forward for Premier League club Liverpool and captains the Egypt national team. Salah is considered one of the best players of his generation and among the greatest African players of all time. The essay discusses his career, including his time at Al Mokawloon, Basel, Chelsea, Fiorentina, Roma, and Liverpool. Salah has achieved numerous individual accolades and has represented Egypt at the international level. Outside of football, Salah is regarded as a symbol of national pride in Egypt and has raised the profile of Liverpool among Egyptians. The essay also briefly mentions Basyoun, the hometown of Salah, and Nagrig, a village near Basyoun..\n",
                        "duck summary: The essay provides information about Mohamed Salah, an Egyptian professional footballer who plays as a forward for Liverpool in the Premier League and captains the Egypt national team. Salah signed a new contract with Liverpool in 2018 and has had impressive seasons, including winning the Premier League trophy in the 2019-20 season. His salary is $35 million and his net worth is $90 million. Salah was born on June 15, 1992, and is currently 31 years old. He has a high overall rating in FIFA 23 and is known for his left foot shooting and 4-star skill moves..\n",
                        "wiki query summary: The essay provides information about Mohamed Salah, an Egyptian professional footballer who plays as a forward for Premier League club Liverpool and captains the Egypt national team. Salah is considered one of the best players of his generation and among the greatest African players of all time. The essay discusses his career, including his time at Al Mokawloon, Basel, Chelsea, Fiorentina, Roma, and Liverpool. Salah has achieved numerous individual accolades and has represented Egypt at the international level. Outside of football, Salah is regarded as a symbol of national pride in Egypt and has raised the profile of Liverpool among Egyptians. The essay also briefly mentions Basyoun, the hometown of Salah, and Nagrig, a village near Basyoun..\n",
                        "The results summary is: Mohamed Salah is an Egyptian professional footballer who plays as a forward for Liverpool FC. He has a market value of €65.00m and is known for his impressive stats and goal-scoring abilities. Salah has gained international recognition and is considered a star player for Liverpool. He has achieved numerous individual accolades and is a symbol of national pride in Egypt.Mo Salah, also known as Mohamed Salah Hamed Mahrous Ghaly, is an Egyptian professional footballer who plays as a forward for Premier League club Liverpool and captains the Egypt national team. He is considered one of the best players of his generation and among the greatest African players of all time. Salah is known for his clinical finishing, dribbling, and speed. He started his senior career in 2010 and has played for clubs like Al Mokawloon, Basel, Chelsea, Fiorentina, and Roma before joining Liverpool in 2017. Salah has achieved numerous individual accolades and has been a key player in Liverpool's success in the Premier League and Champions League. He is also a symbol of national pride in Egypt and has raised the profile of Liverpool among Egyptians..\n",
                        "The final blog will be 3000 words long, with an introduction at the beginning and a conclusion at the end of the blog.\n",
                        "use the following template to write the blog:\n",
                        "[BLOG]\n",
                        "[title]\n",
                        "[subtitle]\n",
                        "[introduction]\n",
                        "[body in bullet points]\n",
                        "[summary]\n",
                        "[END BLOG]\n",
                        "\u001b[0m\n",
                        "\n",
                        "\u001b[1m> Finished chain.\u001b[0m\n"
                    ]
                }
            ],
            "source": [
                "draft1 = writer_chain.run(\n",
                "    topic=myTopic,\n",
                "    title=title,\n",
                "    subtitle=subtitle,\n",
                "    google_results=google_results,\n",
                "    wiki_results=wiki_results,\n",
                "    duck_results=duck_results,\n",
                "    wiki_query_results=wiki_query_results,\n",
                "    google_summary=google_summary,\n",
                "    wiki_summary=wiki_summary,\n",
                "    duck_summary=duck_summary,\n",
                "    wiki_query_summary=wiki_query_summary,\n",
                "    summary=tot_summary + tot_summary2,\n",
                "    keywords=keyword_list,\n",
                "    wordCount=3000,\n",
                ")"
            ]
        },
        {
            "cell_type": "code",
            "execution_count": 24,
            "metadata": {},
            "outputs": [
                {
                    "name": "stdout",
                    "output_type": "stream",
                    "text": [
                        "[BLOG]\n",
                        "\"The Phenomenal Mo Salah: An Egyptian Professional Footballer's Journey from Nagrig to Liverpool FC\"\n",
                        "\"Mo Salah: The Egyptian Professional Footballer Who Revolutionized the Premier League and the Egypt National Team\"\n",
                        "\n",
                        "[Introduction]\n",
                        "- Introduce Mo Salah as an Egyptian professional footballer who plays as a forward for Premier League club Liverpool FC and captains the Egypt national team.\n",
                        "- Mention his market value, his achievements, and his impact on Liverpool and Egypt.\n",
                        "\n",
                        "[Body]\n",
                        "1. Early Life and Career\n",
                        "- Born on June 15, 1992, in Nagrig, Basyoun, Egypt.\n",
                        "- Started his senior career in 2010 playing for Al Mokawloon.\n",
                        "- Joined Basel in 2012 and won two Swiss Super League titles.\n",
                        "- Joined Chelsea in 2014 but had limited gametime and went on successive loans to Fiorentina and Roma.\n",
                        "- Signed permanently for Roma in 2016 and was a key figure in their title bid.\n",
                        "\n",
                        "2. Arrival at Liverpool FC\n",
                        "- Signed for Liverpool in 2017 for a then-club record transfer fee.\n",
                        "- Set the record for most Premier League goals scored (32) in a 38-game season in his first season.\n",
                        "- Helped Liverpool reach the 2018 UEFA Champions League Final.\n",
                        "- Formed a formidable attacking trio with Roberto Firmino and Sadio Mané.\n",
                        "\n",
                        "3. Achievements and Individual Accolades\n",
                        "- Played a crucial role in Liverpool's Champions League and Premier League title successes.\n",
                        "- Won numerous individual accolades, including two PFA Players' Player of the Year awards and three Premier League Golden Boots.\n",
                        "- Named the Premier League Player of the Season and the Premier League Playmaker of the Season.\n",
                        "- Finished third for the Best FIFA Men's Player in 2018 and 2021.\n",
                        "- Received the 2018 FIFA Puskás Award for his winning strike in the Merseyside derby.\n",
                        "\n",
                        "4. International Career\n",
                        "- Represented Egypt at youth level and made his senior debut in 2011.\n",
                        "- Named CAF Most Promising African Talent of the Year after the 2012 Summer Olympics.\n",
                        "- Finished as runner-up in the 2017 and 2021 Africa Cup of Nations.\n",
                        "- Top scorer during CAF qualification for the 2018 FIFA World Cup.\n",
                        "\n",
                        "5. Impact and Recognition\n",
                        "- Regarded as a symbol of national pride in Egypt and known as the 'Fourth Pyramid'.\n",
                        "- Raised the profile of Liverpool among Egyptians and across the Arab world.\n",
                        "- Named in Time magazine's list of the 100 most influential people in 2019.\n",
                        "\n",
                        "[Summary]\n",
                        "- Mo Salah's journey from Nagrig to Liverpool FC showcases his exceptional talent and achievements.\n",
                        "- He has revolutionized the Premier League and the Egypt national team with his goal-scoring abilities and impact on the field.\n",
                        "- Salah's success has made him a symbol of national pride and a source of inspiration for aspiring footballers in Egypt and beyond.\n",
                        "\n",
                        "[END BLOG]\n"
                    ]
                }
            ],
            "source": [
                "print(draft1)"
            ]
        },
        {
            "cell_type": "code",
            "execution_count": 51,
            "metadata": {},
            "outputs": [
                {
                    "name": "stdout",
                    "output_type": "stream",
                    "text": [
                        "draft1_word_count 452\n",
                        "584\n"
                    ]
                }
            ],
            "source": [
                "draft1_word_count = len(draft1.split())\n",
                "print(\"draft1_word_count\", draft1_word_count)\n",
                "print(\n",
                "    len(\n",
                "        \"\"\"[BLOG]\n",
                "The Rise of Mo Salah: A Footballing Phenomenon\n",
                "The Rise of the Phenomenon: Mo Salah's Journey to Success\n",
                "\n",
                "[Introduction]\n",
                "Mohamed Salah, also known as Mo Salah, is an Egyptian professional footballer who has taken the football world by storm. Playing as a forward for Premier League club Liverpool FC, Salah has become a household name and a true footballing phenomenon. In this blog, we will delve into the rise of Mo Salah and explore his journey to success.\n",
                "\n",
                "[Body]\n",
                "- Early Life and Career:\n",
                "  - Salah was born on June 15, 1992, in Nagrig, Basyoun, Egypt.\n",
                "  - He started his senior career in 2010, playing for Al Mokawloon.\n",
                "  - In 2012, Salah joined Basel, where he won two Swiss Super League titles.\n",
                "  - Salah's talent caught the attention of Chelsea, and he joined the club in 2014 for a reported fee of £11 million.\n",
                "  - Limited playing time at Chelsea led to successive loans to Fiorentina and Roma, where he later signed permanently for €15 million.\n",
                "  \n",
                "- Success at Liverpool:\n",
                "  - In 2017, Salah signed for Liverpool for a then-club record transfer of £36.9 million.\n",
                "  - In his first season with Liverpool, Salah set the record for most Premier League goals scored (32) in a 38-game season.\n",
                "  - He helped Liverpool reach the 2018 UEFA Champions League Final and formed a formidable attacking trio with Roberto Firmino and Sadio Mané.\n",
                "  - Salah played a crucial role in Liverpool's Champions League and Premier League title successes in the following two seasons.\n",
                "  - He has also won the FA Cup and the League Cup with Liverpool.\n",
                "  \n",
                "- Individual Accolades:\n",
                "  - Salah has achieved numerous individual accolades throughout his career.\n",
                "  - He has won two PFA Players' Player of the Year awards and three Premier League Golden Boots.\n",
                "  - Salah has been named the Premier League Player of the Season and the Premier League Playmaker of the Season.\n",
                "  - He finished third for the Best FIFA Men's Player in 2018 and 2021.\n",
                "  - Salah received the 2018 FIFA Puskás Award for his winning strike in the first Merseyside derby of the 2017–18 season.\n",
                "  \n",
                "- International Success:\n",
                "  - Salah has represented Egypt at both youth and senior levels.\n",
                "  - He was named the CAF Most Promising African Talent of the Year after his performances at the 2012 Summer Olympics.\n",
                "  - Salah finished as the runner-up in the 2017 and 2021 Africa Cup of Nations.\n",
                "  - He was the top scorer during CAF qualification as Egypt qualified for the 2018 FIFA World Cup.\n",
                "  - Salah has been named the CAF African Footballer of the Year and the BBC African Footballer of the Year multiple times.\n",
                "  \n",
                "- Off the Field Impact:\n",
                "  - Salah is not only a footballing superstar but also a symbol of national pride in Egypt.\n",
                "  - He has been named in Time magazine's list of the 100 most influential people in 2019.\n",
                "  - Salah is known as the 'Fourth Pyramid' to Egyptians, and he has raised the profile of Liverpool among Egyptians.\n",
                "  - He is favored across the Arab world and is often referred to as the 'Pride of the Arabs'.\n",
                "  \n",
                "[Summary]\n",
                "Mohamed Salah's rise to success is nothing short of remarkable. From his early days in Egypt to becoming a key player for Liverpool FC, Salah has achieved greatness both individually and as part of a team. His impact on and off the field has made him a true footballing phenomenon and a source of pride for Egyptians and fans around the world.\n",
                "\n",
                "[END BLOG]\"\"\".split()\n",
                "    )\n",
                ")"
            ]
        },
        {
            "cell_type": "code",
            "execution_count": 26,
            "metadata": {},
            "outputs": [],
            "source": [
                "# Put the text in draft1 in text file\n",
                "with open(\"draft1.txt\", \"w\") as f:\n",
                "    f.write(draft1)"
            ]
        },
        {
            "cell_type": "code",
            "execution_count": 52,
            "metadata": {},
            "outputs": [],
            "source": [
                "def count_words_with_bullet_points(input_string):\n",
                "    bullet_points = [\n",
                "        \"*\",\n",
                "        \"-\",\n",
                "        \"+\",\n",
                "        \".\",\n",
                "    ]  # define the bullet points to look for\n",
                "    words_count = 0\n",
                "    for bullet_point in bullet_points:\n",
                "        input_string = input_string.replace(\n",
                "            bullet_point, \"\"\n",
                "        )  # remove the bullet points\n",
                "    words_count = len(input_string.split())  # count the words\n",
                "    return words_count"
            ]
        },
        {
            "cell_type": "code",
            "execution_count": 53,
            "metadata": {},
            "outputs": [
                {
                    "name": "stdout",
                    "output_type": "stream",
                    "text": [
                        "555\n"
                    ]
                }
            ],
            "source": [
                "my_string = \"\"\"[BLOG]\n",
                "The Rise of Mo Salah: A Footballing Phenomenon\n",
                "The Rise of the Phenomenon: Mo Salah's Journey to Success\n",
                "\n",
                "[Introduction]\n",
                "Mohamed Salah, also known as Mo Salah, is an Egyptian professional footballer who has taken the football world by storm. Playing as a forward for Premier League club Liverpool FC, Salah has become a household name and a true footballing phenomenon. In this blog, we will delve into the rise of Mo Salah and explore his journey to success.\n",
                "\n",
                "[Body]\n",
                "- Early Life and Career:\n",
                "  - Salah was born on June 15, 1992, in Nagrig, Basyoun, Egypt.\n",
                "  - He started his senior career in 2010, playing for Al Mokawloon.\n",
                "  - In 2012, Salah joined Basel, where he won two Swiss Super League titles.\n",
                "  - Salah's talent caught the attention of Chelsea, and he joined the club in 2014 for a reported fee of £11 million.\n",
                "  - Limited playing time at Chelsea led to successive loans to Fiorentina and Roma, where he later signed permanently for €15 million.\n",
                "  \n",
                "- Success at Liverpool:\n",
                "  - In 2017, Salah signed for Liverpool for a then-club record transfer of £36.9 million.\n",
                "  - In his first season with Liverpool, Salah set the record for most Premier League goals scored (32) in a 38-game season.\n",
                "  - He helped Liverpool reach the 2018 UEFA Champions League Final and formed a formidable attacking trio with Roberto Firmino and Sadio Mané.\n",
                "  - Salah played a crucial role in Liverpool's Champions League and Premier League title successes in the following two seasons.\n",
                "  - He has also won the FA Cup and the League Cup with Liverpool.\n",
                "  \n",
                "- Individual Accolades:\n",
                "  - Salah has achieved numerous individual accolades throughout his career.\n",
                "  - He has won two PFA Players' Player of the Year awards and three Premier League Golden Boots.\n",
                "  - Salah has been named the Premier League Player of the Season and the Premier League Playmaker of the Season.\n",
                "  - He finished third for the Best FIFA Men's Player in 2018 and 2021.\n",
                "  - Salah received the 2018 FIFA Puskás Award for his winning strike in the first Merseyside derby of the 2017–18 season.\n",
                "  \n",
                "- International Success:\n",
                "  - Salah has represented Egypt at both youth and senior levels.\n",
                "  - He was named the CAF Most Promising African Talent of the Year after his performances at the 2012 Summer Olympics.\n",
                "  - Salah finished as the runner-up in the 2017 and 2021 Africa Cup of Nations.\n",
                "  - He was the top scorer during CAF qualification as Egypt qualified for the 2018 FIFA World Cup.\n",
                "  - Salah has been named the CAF African Footballer of the Year and the BBC African Footballer of the Year multiple times.\n",
                "  \n",
                "- Off the Field Impact:\n",
                "  - Salah is not only a footballing superstar but also a symbol of national pride in Egypt.\n",
                "  - He has been named in Time magazine's list of the 100 most influential people in 2019.\n",
                "  - Salah is known as the 'Fourth Pyramid' to Egyptians, and he has raised the profile of Liverpool among Egyptians.\n",
                "  - He is favored across the Arab world and is often referred to as the 'Pride of the Arabs'.\n",
                "  \n",
                "[Summary]\n",
                "Mohamed Salah's rise to success is nothing short of remarkable. From his early days in Egypt to becoming a key player for Liverpool FC, Salah has achieved greatness both individually and as part of a team. His impact on and off the field has made him a true footballing phenomenon and a source of pride for Egyptians and fans around the world.\n",
                "\n",
                "[END BLOG]\"\"\"\n",
                "word_count = count_words_with_bullet_points(my_string)\n",
                "print(word_count)  # Output: 6"
            ]
        },
        {
            "cell_type": "markdown",
            "metadata": {},
            "source": [
                "## Evaluate the first draft\n"
            ]
        },
        {
            "cell_type": "code",
            "execution_count": 13,
            "metadata": {},
            "outputs": [],
            "source": [
                "from langchain.experimental.plan_and_execute import (\n",
                "    PlanAndExecute,\n",
                "    load_agent_executor,\n",
                "    load_chat_planner,\n",
                ")"
            ]
        },
        {
            "cell_type": "code",
            "execution_count": 14,
            "metadata": {},
            "outputs": [],
            "source": [
                "# evaluation agent\n",
                "evaluation_llm = ChatOpenAI(temperature=0.2, model=\"gpt-4\")\n",
                "\n",
                "evaluation_prompt = \"\"\"You are an expert blogs editor and you will evaluate the first the draft of the blog\n",
                "        in terms of the following criteria:\n",
                "        1- The blog must be relevant to {topic}.\n",
                "        2- The blog must contain the following keywords: {keywords}.\n",
                "        3- The blog must contain at least {wordCount} words.\n",
                "        4- The blog must contain all the information here {outline}.\n",
                "\n",
                "        Edit the first draft using the given tools to satisfy the above criteria.\n",
                "        The draft is:\n",
                "        {draft}\n",
                "        The answer should be all the mistakes according to the above criteria listed in bullet points.\n",
                "        and the blog after editing the draft:\n",
                "        \"\"\""
            ]
        },
        {
            "cell_type": "code",
            "execution_count": 17,
            "metadata": {},
            "outputs": [],
            "source": [
                "llm_math_chain = LLMMathChain.from_llm(llm=evaluation_llm, verbose=True)\n",
                "summary_tools = [\n",
                "    Tool(\n",
                "        name=\"Calculator\",\n",
                "        func=llm_math_chain.run,\n",
                "        description=\"useful for when you need to answer questions about math\",\n",
                "    ),\n",
                "    Tool(\n",
                "        name=\"Google Search\",\n",
                "        description=\"Search engine useful when you want to get information from Google about single topic in general.\",\n",
                "        func=google.run,\n",
                "    ),\n",
                "    Tool(\n",
                "        name=\"DuckDuckGo Search\",\n",
                "        description=\"Search engine useful when you want to get information from DuckDuckGo about single topic in general.\",\n",
                "        func=duck.run,\n",
                "    ),\n",
                "]\n",
                "planner = load_chat_planner(evaluation_llm, system_prompt=evaluation_prompt)\n",
                "executor = load_agent_executor(evaluation_llm, summary_tools, verbose=True)\n",
                "evaluation_agent = PlanAndExecute(planner=planner, executor=executor, verbose=True)"
            ]
        },
        {
            "cell_type": "code",
            "execution_count": 24,
            "metadata": {},
            "outputs": [
                {
                    "name": "stdout",
                    "output_type": "stream",
                    "text": [
                        "[{'title': 'Mohamed Salah - Wikipedia', 'link': 'https://en.wikipedia.org/wiki/Mohamed_Salah', 'snippet': 'Since then, he finished as runner-up in the 2017 and 2021 Africa Cup of Nations and was top scorer during CAF qualification as Egypt qualified for the 2018 FIFA\\xa0...'}, {'title': 'Mohamed Salah - Career stats | Transfermarkt', 'link': 'https://www.transfermarkt.us/mohamed-salah/leistungsdaten/spieler/148455', 'snippet': 'Jun 20, 2023 ... Career stats ; Premier League · 231, 139, 64 ; Serie A · 81, 35, 22 ; UEFA Champions League, Champions League · 79, 44, 15\\xa0...'}, {'title': 'Mohamed Salah - Player profile 23/24 | Transfermarkt', 'link': 'https://www.transfermarkt.com/mohamed-salah/profil/spieler/148455', 'snippet': 'Have you seen Mohamed Salah live? ... Winner of FIFA Puskás Award 2018. Social media. Career stats\\xa0...'}, {'title': 'Mohamed Salah - Player profile 23/24 | Transfermarkt', 'link': 'https://www.transfermarkt.us/mohamed-salah/profil/spieler/148455', 'snippet': 'Have you seen Mohamed Salah live? ... Winner of FIFA Puskás Award 2018. Social media. Career stats\\xa0...'}, {'title': 'Mohamed Salah Stats, Goals, Records, Assists, Cups and more ...', 'link': 'https://fbref.com/en/players/e342ad68/Mohamed-Salah', 'snippet': 'Check out the latest domestic and international stats, match logs, goals, height, weight and more for Mohamed Salah playing for Liverpool FC,\\xa0...'}, {'title': 'Mohamed Salah - Simple English Wikipedia, the free encyclopedia', 'link': 'https://simple.wikipedia.org/wiki/Mohamed_Salah', 'snippet': 'Salah started his football career in Egypt playing for El Mokawloon from 2006 to 2012. He joined Swiss side Basel in 2012, winning the Swiss Super League twice\\xa0...'}, {'title': 'Mohamed Salah', 'link': 'https://www.premierleague.com/players/5178/player/overview', 'snippet': 'Premier League Playing Career. label.tablePlayerClubHistory. Season. Club, Apps (Subs), Goals, More. 2023/\\xa0...'}, {'title': 'Egypt - Mohamed Salah - Profile with news, career statistics and ...', 'link': 'https://us.soccerway.com/players/mohamed-salah/138653/', 'snippet': 'In his Premier League career overall, he has played 231 games in the competition, with 139 goals and 59 assists. Despite playing 231 games to date, Salah is yet\\xa0...'}, {'title': 'Mohamed Salah - Liverpool forward - ESPN', 'link': 'https://www.espn.com/soccer/player/_/id/173896/mohamed-salah', 'snippet': 'View the profile of Liverpool forward Mohamed Salah on ESPN. Get the latest news, live stats and game highlights.'}, {'title': \"What Happened to Mohamed Salah's Chelsea Career? | News ...\", 'link': 'https://bleacherreport.com/articles/2531915-what-happened-to-mohamed-salahs-chelsea-career', 'snippet': 'Sold by FC Basel in the first month of 2014 for £11 million, Mohamed Salah was always a Jose Mourinho gamble...'}]\n"
                    ]
                }
            ],
            "source": [
                "response = google.results(query=myTopic, num_results=10)\n",
                "\n",
                "# Extract the links from the response\n",
                "print(response)"
            ]
        },
        {
            "cell_type": "code",
            "execution_count": 25,
            "metadata": {},
            "outputs": [
                {
                    "name": "stdout",
                    "output_type": "stream",
                    "text": [
                        "Result 1\n",
                        "{'title': 'Mohamed Salah - Wikipedia', 'link': 'https://en.wikipedia.org/wiki/Mohamed_Salah', 'snippet': 'Since then, he finished as runner-up in the 2017 and 2021 Africa Cup of Nations and was top scorer during CAF qualification as Egypt qualified for the 2018 FIFA\\xa0...'}\n",
                        "----------------------------------------------------------\n",
                        "Result 2\n",
                        "{'title': 'Mohamed Salah - Career stats | Transfermarkt', 'link': 'https://www.transfermarkt.us/mohamed-salah/leistungsdaten/spieler/148455', 'snippet': 'Jun 20, 2023 ... Career stats ; Premier League · 231, 139, 64 ; Serie A · 81, 35, 22 ; UEFA Champions League, Champions League · 79, 44, 15\\xa0...'}\n",
                        "----------------------------------------------------------\n",
                        "Result 3\n",
                        "{'title': 'Mohamed Salah - Player profile 23/24 | Transfermarkt', 'link': 'https://www.transfermarkt.com/mohamed-salah/profil/spieler/148455', 'snippet': 'Have you seen Mohamed Salah live? ... Winner of FIFA Puskás Award 2018. Social media. Career stats\\xa0...'}\n",
                        "----------------------------------------------------------\n",
                        "Result 4\n",
                        "{'title': 'Mohamed Salah - Player profile 23/24 | Transfermarkt', 'link': 'https://www.transfermarkt.us/mohamed-salah/profil/spieler/148455', 'snippet': 'Have you seen Mohamed Salah live? ... Winner of FIFA Puskás Award 2018. Social media. Career stats\\xa0...'}\n",
                        "----------------------------------------------------------\n",
                        "Result 5\n",
                        "{'title': 'Mohamed Salah Stats, Goals, Records, Assists, Cups and more ...', 'link': 'https://fbref.com/en/players/e342ad68/Mohamed-Salah', 'snippet': 'Check out the latest domestic and international stats, match logs, goals, height, weight and more for Mohamed Salah playing for Liverpool FC,\\xa0...'}\n",
                        "----------------------------------------------------------\n",
                        "Result 6\n",
                        "{'title': 'Mohamed Salah - Simple English Wikipedia, the free encyclopedia', 'link': 'https://simple.wikipedia.org/wiki/Mohamed_Salah', 'snippet': 'Salah started his football career in Egypt playing for El Mokawloon from 2006 to 2012. He joined Swiss side Basel in 2012, winning the Swiss Super League twice\\xa0...'}\n",
                        "----------------------------------------------------------\n",
                        "Result 7\n",
                        "{'title': 'Mohamed Salah', 'link': 'https://www.premierleague.com/players/5178/player/overview', 'snippet': 'Premier League Playing Career. label.tablePlayerClubHistory. Season. Club, Apps (Subs), Goals, More. 2023/\\xa0...'}\n",
                        "----------------------------------------------------------\n",
                        "Result 8\n",
                        "{'title': 'Egypt - Mohamed Salah - Profile with news, career statistics and ...', 'link': 'https://us.soccerway.com/players/mohamed-salah/138653/', 'snippet': 'In his Premier League career overall, he has played 231 games in the competition, with 139 goals and 59 assists. Despite playing 231 games to date, Salah is yet\\xa0...'}\n",
                        "----------------------------------------------------------\n",
                        "Result 9\n",
                        "{'title': 'Mohamed Salah - Liverpool forward - ESPN', 'link': 'https://www.espn.com/soccer/player/_/id/173896/mohamed-salah', 'snippet': 'View the profile of Liverpool forward Mohamed Salah on ESPN. Get the latest news, live stats and game highlights.'}\n",
                        "----------------------------------------------------------\n",
                        "Result 10\n",
                        "{'title': \"What Happened to Mohamed Salah's Chelsea Career? | News ...\", 'link': 'https://bleacherreport.com/articles/2531915-what-happened-to-mohamed-salahs-chelsea-career', 'snippet': 'Sold by FC Basel in the first month of 2014 for £11 million, Mohamed Salah was always a Jose Mourinho gamble...'}\n",
                        "----------------------------------------------------------\n"
                    ]
                }
            ],
            "source": [
                "for i in range(10):\n",
                "    print(\"Result\", i + 1)\n",
                "    print(response[i])\n",
                "    print('----------------------------------------------------------')\n"
            ]
        },
        {
            "cell_type": "code",
            "execution_count": 26,
            "metadata": {},
            "outputs": [
                {
                    "name": "stdout",
                    "output_type": "stream",
                    "text": [
                        "\u001b[32;1m\u001b[1;3mMohamed Salah Hamed Mahrous Ghaly (Arabic: محمد صلاح حامد محروس غالي, Egyptian Arabic pronunciation: [mæˈħam.mæd sˤɑˈlɑːħ ˈɣæːli]; born 15 June 1992), also known hypocoristically as Mo Salah, is an Egyptian professional footballer who plays as a forward for Premier League club Liverpool and captains the Egypt national team. Market value details. Name in home country: محمد صلاح Full name: Mohamed Salah Hamed Ghaly Date of birth: Jun 15, 1992 Place of birth: Nagrig, Basyoun Age: 31 Height: 1,75 m Citizenship: Egypt Position: Attack - Right Winger Foot: left Current club: Liverpool FC Joined: Jul 1, 2017 Contract expires: Jun 30, 2025 Date of last contract ... May 7, 2023 85 How fitting that Mohamed Salah marked coronation day by writing more history at Anfield. Another match-winning goal and more records to further enhance his elite status in the... Salah started his senior career in 2010 playing for Al Mokawloon, departing in 2012 to join Basel, where he won two Swiss Super League titles. In 2014, Salah joined Chelsea for a reported fee of £11 million, but limited gametime led to successive loans to Fiorentina and Roma, who later signed him permanently for €15 million. Salah won't come cheap, however. The 31-year-old has arguably been Liverpool's best player in the Jurgen Klopp era, with his efforts rewarded with a three-year deal last summer, worth a ...\u001b[0mMohamed Salah Hamed Mahrous Ghaly (Arabic: محمد صلاح حامد محروس غالي, Egyptian Arabic pronunciation: [mæˈħam.mæd sˤɑˈlɑːħ ˈɣæːli]; born 15 June 1992), also known hypocoristically as Mo Salah, is an Egyptian professional footballer who plays as a forward for Premier League club Liverpool and captains the Egypt national team. Market value details. Name in home country: محمد صلاح Full name: Mohamed Salah Hamed Ghaly Date of birth: Jun 15, 1992 Place of birth: Nagrig, Basyoun Age: 31 Height: 1,75 m Citizenship: Egypt Position: Attack - Right Winger Foot: left Current club: Liverpool FC Joined: Jul 1, 2017 Contract expires: Jun 30, 2025 Date of last contract ... May 7, 2023 85 How fitting that Mohamed Salah marked coronation day by writing more history at Anfield. Another match-winning goal and more records to further enhance his elite status in the... Salah started his senior career in 2010 playing for Al Mokawloon, departing in 2012 to join Basel, where he won two Swiss Super League titles. In 2014, Salah joined Chelsea for a reported fee of £11 million, but limited gametime led to successive loans to Fiorentina and Roma, who later signed him permanently for €15 million. Salah won't come cheap, however. The 31-year-old has arguably been Liverpool's best player in the Jurgen Klopp era, with his efforts rewarded with a three-year deal last summer, worth a ...\n"
                    ]
                }
            ],
            "source": [
                "duck_response = duck.run(tool_input=myTopic, verbose=True)\n",
                "print(duck_response)"
            ]
        },
        {
            "cell_type": "code",
            "execution_count": 28,
            "metadata": {},
            "outputs": [
                {
                    "name": "stdout",
                    "output_type": "stream",
                    "text": [
                        "Page: Mohamed Salah\n",
                        "Summary: Mohamed Salah Hamed Mahrous Ghaly (Arabic: محمد صلاح حامد محروس غالي, Egyptian Arabic pronunciation: [mæˈħam.mæd sˤɑˈlɑːħ ˈɣæːli]; born 15 June 1992), also known hypocoristically as Mo Salah, is an Egyptian professional footballer who plays as a forward for Premier League club Liverpool and captains the Egypt national team. Considered one of the best players of his generation and amongst the greatest African players of all time, he is known for his clinical finishing, dribbling and speed.Salah started his senior career in 2010 playing for Al Mokawloon, departing in 2012 to join Basel, where he won two Swiss Super League titles. In 2014, Salah joined Chelsea for a reported fee of £11 million, but limited gametime led to successive loans to Fiorentina and Roma, who later signed him permanently for €15 million. In the 2016–17 season, Salah was a key figure in Roma's unsuccessful title bid, reaching double figures in both goals and assists. In 2017, Salah signed for Liverpool for a then-club record transfer of £36.9 million. In his first season, he set the record for most Premier League goals scored (32) in a 38-game season and helped Liverpool to the 2018 UEFA Champions League Final. Having formed a formidable attacking trio with Roberto Firmino and Sadio Mané after the departure of Philippe Coutinho, Salah went on to be an integral player in the club's Champions League and Premier League title successes the following two seasons, and has since also won the FA Cup and the League Cup. Salah has achieved numerous individual accolades, including two PFA Players' Player of the Year awards, three Premier League Golden Boots, the Premier League Player of the Season, the Premier League Playmaker of the Season, and finished third for the Best FIFA Men's Player in 2018 and 2021. He received the 2018 FIFA Puskás Award for his winning strike in the first Merseyside derby of the 2017–18 season. In 2023, Salah became Liverpool's Premier League top goalscorer, surpassing Robbie Fowler.At international level, Salah represented Egypt at youth level before making his senior debut in 2011. Following his performances at the 2012 Summer Olympics, he was named CAF Most Promising African Talent of the Year. Since then, he finished as runner-up in the 2017 and 2021 Africa Cup of Nations and was top scorer during CAF qualification as Egypt qualified for the 2018 FIFA World Cup. Salah was named CAF African Footballer of the Year (2017 and 2018), BBC African Footballer of the Year (2017 and 2018), and was selected in the 2017 Africa Cup of Nations Team of the Tournament, 2021 Africa Cup of Nations Team of the Tournament and the CAF Team of the Year on several occasions.\n",
                        "Outside of football, Salah is regarded as a symbol of national pride in Egypt for his achievements and was named in Time magazine’s list of the 100 most influential people in 2019. To Egyptians, Salah is known as the ‘Fourth Pyramid’. Salah has also been credited for raising the profile of Liverpool among Egyptians. Favoured across the Arab world, Salah is often known as the ‘Pride of the Arabs’.\n",
                        "\n",
                        "Page: Mo Salah (footballer, born 2004)\n",
                        "Summary: Mohamed Salah El Boukammiri (born 27 May 2004) is a Belgian professional footballer who plays for the Union SG.\n",
                        "\n",
                        "Page: Moamen Zakaria\n",
                        "Summary: Moamen Zakaria Abbas Eldawy (Arabic: مؤمن زكريا عباس الداوي; born 12 April 1988) is an Egyptian former professional footballer who plays as a winger. In 2020, he was diagnosed with amyotrophic lateral sclerosis.In May 2022, former international teammate Mo Salah invited Zakaria to be part of Liverpool's celebrations after winning the 2022 FA Cup Final.\n"
                    ]
                }
            ],
            "source": [
                "wiki_response = wiki.run(myTopic)\n",
                "print(wiki_response)"
            ]
        },
        {
            "cell_type": "code",
            "execution_count": 30,
            "metadata": {},
            "outputs": [
                {
                    "name": "stdout",
                    "output_type": "stream",
                    "text": [
                        "Page: Mohamed Salah\n",
                        "Summary: Mohamed Salah Hamed Mahrous Ghaly (Arabic: محمد صلاح حامد محروس غالي, Egyptian Arabic pronunciation: [mæˈħam.mæd sˤɑˈlɑːħ ˈɣæːli]; born 15 June 1992), also known hypocoristically as Mo Salah, is an Egyptian professional footballer who plays as a forward for Premier League club Liverpool and captains the Egypt national team. Considered one of the best players of his generation and amongst the greatest African players of all time, he is known for his clinical finishing, dribbling and speed.Salah started his senior career in 2010 playing for Al Mokawloon, departing in 2012 to join Basel, where he won two Swiss Super League titles. In 2014, Salah joined Chelsea for a reported fee of £11 million, but limited gametime led to successive loans to Fiorentina and Roma, who later signed him permanently for €15 million. In the 2016–17 season, Salah was a key figure in Roma's unsuccessful title bid, reaching double figures in both goals and assists. In 2017, Salah signed for Liverpool for a then-club record transfer of £36.9 million. In his first season, he set the record for most Premier League goals scored (32) in a 38-game season and helped Liverpool to the 2018 UEFA Champions League Final. Having formed a formidable attacking trio with Roberto Firmino and Sadio Mané after the departure of Philippe Coutinho, Salah went on to be an integral player in the club's Champions League and Premier League title successes the following two seasons, and has since also won the FA Cup and the League Cup. Salah has achieved numerous individual accolades, including two PFA Players' Player of the Year awards, three Premier League Golden Boots, the Premier League Player of the Season, the Premier League Playmaker of the Season, and finished third for the Best FIFA Men's Player in 2018 and 2021. He received the 2018 FIFA Puskás Award for his winning strike in the first Merseyside derby of the 2017–18 season. In 2023, Salah became Liverpool's Premier League top goalscorer, surpassing Robbie Fowler.At international level, Salah represented Egypt at youth level before making his senior debut in 2011. Following his performances at the 2012 Summer Olympics, he was named CAF Most Promising African Talent of the Year. Since then, he finished as runner-up in the 2017 and 2021 Africa Cup of Nations and was top scorer during CAF qualification as Egypt qualified for the 2018 FIFA World Cup. Salah was named CAF African Footballer of the Year (2017 and 2018), BBC African Footballer of the Year (2017 and 2018), and was selected in the 2017 Africa Cup of Nations Team of the Tournament, 2021 Africa Cup of Nations Team of the Tournament and the CAF Team of the Year on several occasions.\n",
                        "Outside of football, Salah is regarded as a symbol of national pride in Egypt for his achievements and was named in Time magazine’s list of the 100 most influential people in 2019. To Egyptians, Salah is known as the ‘Fourth Pyramid’. Salah has also been credited for raising the profile of Liverpool among Egyptians. Favoured across the Arab world, Salah is often known as the ‘Pride of the Arabs’.\n",
                        "\n",
                        "Page: Mo Salah (footballer, born 2004)\n",
                        "Summary: Mohamed Salah El Boukammiri (born 27 May 2004) is a Belgian professional footballer who plays for the Union SG.\n",
                        "\n",
                        "Page: Moamen Zakaria\n",
                        "Summary: Moamen Zakaria Abbas Eldawy (Arabic: مؤمن زكريا عباس الداوي; born 12 April 1988) is an Egyptian former professional footballer who plays as a winger. In 2020, he was diagnosed with amyotrophic lateral sclerosis.In May 2022, former international teammate Mo Salah invited Zakaria to be part of Liverpool's celebrations after winning the 2022 FA Cup Final.\n"
                    ]
                }
            ],
            "source": [
                "wikiQuery_response = wikiQuery.run(tool_input=myTopic)\n",
                "print(wikiQuery_response)"
            ]
        },
        {
            "cell_type": "code",
            "execution_count": 15,
            "metadata": {},
            "outputs": [],
            "source": [
                "def google_search_results(topic):\n",
                "        results = google.results(query=myTopic, num_results=10)\n",
                "        return results"
            ]
        },
        {
            "cell_type": "code",
            "execution_count": 16,
            "metadata": {},
            "outputs": [],
            "source": [
                "blog = '''The Ill Effects of Social Media: From Addiction to Anxiety and Depression\n",
                "\n",
                "\"Exploring the Ill Effects of Social Media: From Addiction to Anxiety and Depression\"\n",
                "\n",
                "Social media has become an integral part of our lives, allowing us to stay connected, share information, and engage with others in ways that were once unimaginable. However, while many of us enjoy the benefits of social media, there is growing evidence to suggest that excessive use can have detrimental effects on our mental health. From addiction to anxiety and depression, the ill effects of social media are becoming increasingly apparent.\n",
                "\n",
                "One of the most concerning aspects of social media is its addictive nature. Research has shown that the stimulation pattern created by excessive social media use is similar to that of other addictive behaviors. This can lead to feelings of addiction, where individuals feel compelled to constantly check their social media feeds and engage with online content. This addiction can have serious consequences, including increased risk of anxiety, depression, and social isolation.\n",
                "\n",
                "In addition to addiction, social media use has been linked to anxiety and depression. Studies have found that prolonged use of platforms such as Instagram, Snapchat, Facebook, and Twitter can lead to increased feelings of depression, anxiety, and poor body image. This is particularly true for teenagers, who are more vulnerable to the negative effects of social media. In fact, internal research conducted by Instagram found that the platform worsened body image issues for one in three teenage girls.\n",
                "\n",
                "Furthermore, social media can perpetuate feelings of loneliness and social isolation. While it may seem counterintuitive, spending excessive amounts of time on social media can actually lead to feelings of isolation and disconnection from real-life relationships. This is because social media interactions often lack the depth and intimacy of face-to-face interactions, leading to feelings of loneliness and a decreased sense of belonging.\n",
                "\n",
                "Social media can also have a detrimental impact on sleep patterns and overall well-being. Excessive use of social media can disrupt sleep, as individuals may stay up late scrolling through their feeds or engaging in online conversations. This can lead to sleep deprivation, which has been linked to a range of physical and mental health problems.\n",
                "\n",
                "Additionally, social media can contribute to the spread of harmful content, such as bullying and rumors. The anonymous nature of online platforms can embolden individuals to engage in negative behaviors, leading to increased instances of cyberbullying and the spread of false information. This can have a profound impact on individuals' mental health, causing feelings of anxiety, depression, and low self-esteem.\n",
                "\n",
                "Despite these negative effects, it is important to note that social media itself is not inherently bad. It can provide numerous benefits, such as access to real-time information, the ability to connect with others, and the opportunity to find niche communities. Social media has also played a significant role in mobilizing offline action and online campaigns, allowing individuals to come together and advocate for change.\n",
                "\n",
                "In conclusion, while social media has revolutionized the way we communicate and engage with others, it is important to be aware of its potential ill effects. From addiction to anxiety and depression, excessive use of social media can have a detrimental impact on our mental health and overall well-being. By finding a balance and being mindful of our social media consumption, we can mitigate these negative effects and use social media as a tool for connection and positive change.'''"
            ]
        },
        {
            "cell_type": "code",
            "execution_count": 36,
            "metadata": {},
            "outputs": [
                {
                    "name": "stdout",
                    "output_type": "stream",
                    "text": [
                        "\n",
                        "\n",
                        "\u001b[1m> Entering new  chain...\u001b[0m\n",
                        "\u001b[32;1m\u001b[1;3m I need to find the most relevant links for each paragraph in the blog\n",
                        "Action: Google Search Results\n",
                        "Action Input: \"Exploring the Ill Effects of Social Media: From Addiction to Anxiety and Depression\"\u001b[0m\n",
                        "Observation: \u001b[36;1m\u001b[1;3m[{'title': 'Social Media and Mental Health - HelpGuide.org', 'link': 'https://www.helpguide.org/articles/mental-health/social-media-and-mental-health.htm', 'snippet': 'Mar 29, 2023 ... While many of us enjoy staying connected on social media, excessive use can fuel feelings of addiction, anxiety, depression, isolation, and FOMO\\xa0...'}, {'title': \"Teens and social media use: What's the impact? - Mayo Clinic\", 'link': 'https://www.mayoclinic.org/healthy-lifestyle/tween-and-teen-health/in-depth/teens-and-social-media-use/art-20474437', 'snippet': 'However, social media use can also negatively affect teens, distracting them, disrupting their sleep, and exposing them to bullying, rumor spreading,\\xa0...'}, {'title': 'Surgeon General Issues New Advisory About Effects Social Media ...', 'link': 'https://www.hhs.gov/about/news/2023/05/23/surgeon-general-issues-new-advisory-about-effects-social-media-use-has-youth-mental-health.html', 'snippet': 'May 23, 2023 ... Social media may also perpetuate body dissatisfaction, disordered eating behaviors, social comparison, and low self-esteem, especially among\\xa0...'}, {'title': 'Pros and Cons of Social Media | Lifespan', 'link': 'https://www.lifespan.org/lifespan-living/social-media-good-bad-and-ugly', 'snippet': 'Cons: Why is social media bad? · Online vs Reality. Social media itself is not the problem. · Increased usage. The more time spent on social media can lead to\\xa0...'}, {'title': 'Just How Harmful Is Social Media? Our Experts Weigh-In ...', 'link': 'https://www.publichealth.columbia.edu/news/just-how-harmful-social-media-our-experts-weigh', 'snippet': 'Sep 27, 2021 ... Internal research by the social media giant found that Instagram worsened body image issues for one in three teenage girls, and all teenage\\xa0...'}, {'title': 'Social Media Effects on Teens | Impact of Social Media on Self-Esteem', 'link': 'https://childmind.org/article/how-using-social-media-affects-teenagers/', 'snippet': 'The survey results found that Snapchat, Facebook, Twitter and Instagram all led to increased feelings of depression, anxiety, poor body image and loneliness.'}, {'title': \"Here's How Social Media Affects Your Mental Health | McLean ...\", 'link': 'https://www.mcleanhospital.org/essential/it-or-not-social-medias-affecting-your-mental-health', 'snippet': 'Jan 18, 2023 ... This puts a large amount of the population at an increased risk of feeling anxious, depressed, or ill over their social media use. But what\\xa0...'}, {'title': 'Social Media Effects on Teenagers & Their Mental Health', 'link': 'https://www.newportacademy.com/resources/well-being/effect-of-social-media-on-teenagers/', 'snippet': 'Jul 14, 2022 ... Scientists have found that teen social media overuse creates a stimulation pattern similar to the pattern created by other addictive behaviors.'}, {'title': 'Effects of Social Media | Social Media Victims Law Center', 'link': 'https://socialmediavictims.org/effects-of-social-media/', 'snippet': 'The negative effects of social media may include social isolation, depression, low self-esteem, and lifestyle disruptions that may arise from excessive or\\xa0...'}, {'title': 'Social Media: Definition, Effects, and List of Top Apps', 'link': 'https://www.investopedia.com/terms/s/social-media.asp', 'snippet': 'Social media platforms allow people to access information in real-time, to connect, and to find niche communities. It has helped many individuals find common\\xa0...'}]\u001b[0m\n",
                        "Thought:\u001b[32;1m\u001b[1;3m I now know the most relevant links for each paragraph in the blog\n",
                        "Final Answer: The most relevant links for each paragraph in the blog are: \n",
                        "1. Social Media and Mental Health - HelpGuide.org (https://www.helpguide.org/articles/mental-health/social-media-and-mental-health.htm)\n",
                        "2. Teens and social media use: What's the impact? - Mayo Clinic (https://www.mayoclinic.org/healthy-lifestyle/tween-and-teen-health/in-depth/teens-and-social-media-use/art-20474437)\n",
                        "3. Surgeon General Issues New Advisory About Effects Social Media Use Has on Youth Mental Health (https://www.hhs.gov/about/news/2023/05/23/surgeon-general-issues-new-advisory-about-effects-social-media-use-has-youth-mental-health.html)\n",
                        "4. Pros and Cons of Social Media | Lifespan (https://www.lifespan.org/lifespan-living/social-media-good-bad-and-ugly)\n",
                        "5.\u001b[0m\n",
                        "\n",
                        "\u001b[1m> Finished chain.\u001b[0m\n"
                    ]
                }
            ],
            "source": [
                "# reference agent\n",
                "reference_tools = [\n",
                "    Tool(\n",
                "        name=\"Google Search Results\",\n",
                "        description=\"Search engine useful to get the most relevant web pages about single topic in general.\",\n",
                "        func=google_search_results,\n",
                "    ),\n",
                "    Tool(\n",
                "        name=\"Wikipedia Search\",\n",
                "        description=\"Search engine useful to get the pages in Wikipedia about single topic in general.\",\n",
                "        func=wiki.run,\n",
                "    ),\n",
                "]\n",
                "\n",
                "\n",
                "reference_agent = initialize_agent(\n",
                "    reference_tools,\n",
                "    llm=OpenAI(temperature=0),\n",
                "    agent_type=AgentType.ZERO_SHOT_REACT_DESCRIPTION,\n",
                "    agent_name=\"Reference Agent\",\n",
                "    description=\"Agent required to get the web pages that are most relevant to the blog.\",\n",
                "    verbose=True,\n",
                "    handle_parsing_errors=True,\n",
                ")\n",
                "\n",
                "draft1_reference = reference_agent.run(\n",
                "                f\"Given the blog you will reference: {blog}.\\ First, Search for each paragraph in the blog to get the most relevant links. \\ Then, list those links and order with respect to the order of using them in the blog..\"\n",
                "            )"
            ]
        },
        {
            "cell_type": "code",
            "execution_count": 37,
            "metadata": {},
            "outputs": [
                {
                    "name": "stdout",
                    "output_type": "stream",
                    "text": [
                        "The most relevant links for each paragraph in the blog are: \n",
                        "1. Social Media and Mental Health - HelpGuide.org (https://www.helpguide.org/articles/mental-health/social-media-and-mental-health.htm)\n",
                        "2. Teens and social media use: What's the impact? - Mayo Clinic (https://www.mayoclinic.org/healthy-lifestyle/tween-and-teen-health/in-depth/teens-and-social-media-use/art-20474437)\n",
                        "3. Surgeon General Issues New Advisory About Effects Social Media Use Has on Youth Mental Health (https://www.hhs.gov/about/news/2023/05/23/surgeon-general-issues-new-advisory-about-effects-social-media-use-has-youth-mental-health.html)\n",
                        "4. Pros and Cons of Social Media | Lifespan (https://www.lifespan.org/lifespan-living/social-media-good-bad-and-ugly)\n",
                        "5.\n"
                    ]
                }
            ],
            "source": [
                "print(draft1_reference)"
            ]
        },
        {
            "cell_type": "code",
            "execution_count": null,
            "metadata": {},
            "outputs": [],
            "source": []
        }
    ],
    "metadata": {
        "kernelspec": {
            "display_name": "base",
            "language": "python",
            "name": "python3"
        },
        "language_info": {
            "codemirror_mode": {
                "name": "ipython",
                "version": 3
            },
            "file_extension": ".py",
            "mimetype": "text/x-python",
            "name": "python",
            "nbconvert_exporter": "python",
            "pygments_lexer": "ipython3",
            "version": "3.11.3"
        },
        "orig_nbformat": 4
    },
    "nbformat": 4,
    "nbformat_minor": 2
}