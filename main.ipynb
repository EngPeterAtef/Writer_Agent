{
 "cells": [
  {
   "cell_type": "code",
   "execution_count": 169,
   "metadata": {},
   "outputs": [],
   "source": [
    "from langchain.agents import Tool, initialize_agent, AgentType, load_tools\n",
    "from dotenv import load_dotenv\n",
    "from langchain.utilities import (\n",
    "    WikipediaAPIWrapper,\n",
    "    GoogleSearchAPIWrapper,\n",
    ")\n",
    "from langchain.tools import WikipediaQueryRun, DuckDuckGoSearchRun\n",
    "from langchain import OpenAI, Wikipedia\n",
    "\n",
    "from langchain.prompts import PromptTemplate\n",
    "from langchain.chains import LLMChain\n",
    "from langchain.chains.summarize import load_summarize_chain\n",
    "from langchain.text_splitter import (\n",
    "    RecursiveCharacterTextSplitter,\n",
    ")\n",
    "from langchain.chat_models import ChatOpenAI"
   ]
  },
  {
   "cell_type": "code",
   "execution_count": 170,
   "metadata": {},
   "outputs": [
    {
     "data": {
      "text/plain": [
       "True"
      ]
     },
     "execution_count": 170,
     "metadata": {},
     "output_type": "execute_result"
    }
   ],
   "source": [
    "load_dotenv()"
   ]
  },
  {
   "cell_type": "code",
   "execution_count": 171,
   "metadata": {},
   "outputs": [],
   "source": [
    "myTopic = \"Tourism in Egypt\""
   ]
  },
  {
   "cell_type": "markdown",
   "metadata": {},
   "source": [
    "## Getting Keywords\n"
   ]
  },
  {
   "cell_type": "code",
   "execution_count": 172,
   "metadata": {},
   "outputs": [],
   "source": [
    "wiki = WikipediaAPIWrapper()\n",
    "google = GoogleSearchAPIWrapper()\n",
    "duck = DuckDuckGoSearchRun()"
   ]
  },
  {
   "cell_type": "code",
   "execution_count": 173,
   "metadata": {},
   "outputs": [],
   "source": [
    "llm_keywords = OpenAI(temperature=0.2)"
   ]
  },
  {
   "cell_type": "code",
   "execution_count": 174,
   "metadata": {},
   "outputs": [],
   "source": [
    "# keyword_extractor_tools = load_tools(['wikipedia'],llm=llm_keywords)\n",
    "keyword_extractor_tools = [\n",
    "    Tool(\n",
    "        name=\"Google Search\",\n",
    "        description=\"Useful when you want to get information from Google about single topic.\",\n",
    "        func=google.run,\n",
    "    ),\n",
    "    Tool(\n",
    "        name=\"DuckDuckGo Search Evaluation\",\n",
    "        description=\"Useful to evaluate the results of Google Search and add any missing information about specific topic.\",\n",
    "        func=duck.run,\n",
    "    ),\n",
    "]"
   ]
  },
  {
   "cell_type": "code",
   "execution_count": 175,
   "metadata": {},
   "outputs": [],
   "source": [
    "keyword_agent = initialize_agent(\n",
    "    agent_type=AgentType.ZERO_SHOT_REACT_DESCRIPTION,\n",
    "    agent_name=\"Keyword extractor\",\n",
    "    agent_description=\"You are a helpful AI that helps the user to get the important keyword list from the search results about specific topic.\",\n",
    "    llm=llm_keywords,\n",
    "    tools=keyword_extractor_tools,\n",
    "    verbose=True,\n",
    ")"
   ]
  },
  {
   "cell_type": "code",
   "execution_count": 176,
   "metadata": {},
   "outputs": [
    {
     "data": {
      "text/plain": [
       "'Answer the following questions as best you can. You have access to the following tools:\\n\\nGoogle Search: Useful when you want to get information from Google about single topic.\\nDuckDuckGo Search Evaluation: Useful to evaluate the results of Google Search and add any missing information about specific topic.\\n\\nUse the following format:\\n\\nQuestion: the input question you must answer\\nThought: you should always think about what to do\\nAction: the action to take, should be one of [Google Search, DuckDuckGo Search Evaluation]\\nAction Input: the input to the action\\nObservation: the result of the action\\n... (this Thought/Action/Action Input/Observation can repeat N times)\\nThought: I now know the final answer\\nFinal Answer: the final answer to the original input question\\n\\nBegin!\\n\\nQuestion: {input}\\nThought:{agent_scratchpad}'"
      ]
     },
     "execution_count": 176,
     "metadata": {},
     "output_type": "execute_result"
    }
   ],
   "source": [
    "keyword_agent.agent.llm_chain.prompt.template"
   ]
  },
  {
   "cell_type": "code",
   "execution_count": 177,
   "metadata": {},
   "outputs": [
    {
     "name": "stdout",
     "output_type": "stream",
     "text": [
      "\n",
      "\n",
      "\u001b[1m> Entering new  chain...\u001b[0m\n"
     ]
    },
    {
     "name": "stdout",
     "output_type": "stream",
     "text": [
      "\u001b[32;1m\u001b[1;3m I need to find out what people are searching for when they look for information about Tourism in Egypt.\n",
      "Action: Google Search\n",
      "Action Input: \"Tourism in Egypt\"\u001b[0m\n",
      "Observation: \u001b[36;1m\u001b[1;3mIn 2020, Egypt's tourism revenue dropped by about 70% to US$4 billion, reducing tourist arrivals to 3.5 million from 13.1 million in 2019. As stated by the ... Egypt, a country linking northeast Africa with the Middle East, dates to the time of the pharaohs. Egypt Tourism: Tripadvisor has 2360234 reviews of Egypt Hotels, Attractions, and Restaurants making it your best Egypt resource. Tourism in Egypt. Egypt recorded a total of 13 million tourists in 2019, ranking 19th in the world in absolute terms. The fact that larger countries ... Apr 24, 2021 ... Tourism in Egypt has been buffeted by political instability and terrorism. But the pandemic has dealt the industry its biggest blow in ... Terrorists may attack with little or no warning, and have targeted diplomatic facilities, tourist locations, transportation hubs, markets/shopping malls, ... Egypt's ancient sites and Red Sea coast attract visitors from across the globe, with tourism accounting for about 10-15 percent of the Egyptian economy and ... Dec 12, 2020 ... Egyptian Tourism represents more than 11% of the total GDP, 40% of total Egypt's non-commodity exports, and hires 12% of Egypt's Workforce which ... Egypt ranked 9th out of 17 countries on the tourism an... Egypt ranked 9th in the list prepared by the “Travel Awaits” website, which specializes in travel and ... Aug 29, 2014 ... Only 9.5 million tourists stayed in Egypt's hotels in 2013, compared to 14.7 million in 2010. Footfall has started to pick up in Egypt's Red Sea ...\u001b[0m\n",
      "Thought:\u001b[32;1m\u001b[1;3m I now have a good understanding of the keywords related to Tourism in Egypt.\n",
      "Final Answer: Keywords related to Tourism in Egypt include: tourism revenue, pharaohs, Egypt Tourism, Tripadvisor, political instability, terrorism, diplomatic facilities, tourist locations, transportation hubs, markets/shopping malls, ancient sites, Red Sea coast, GDP, non-commodity exports, workforce, Travel Awaits, hotels, Red Sea, and footfall.\u001b[0m\n",
      "\n",
      "\u001b[1m> Finished chain.\u001b[0m\n"
     ]
    }
   ],
   "source": [
    "keyword_list = keyword_agent.run(\n",
    "    f\"Search about {myTopic} and use the results to get the important keywords related to {myTopic} to help to write a blog about {myTopic}.\"\n",
    ")"
   ]
  },
  {
   "cell_type": "code",
   "execution_count": 178,
   "metadata": {},
   "outputs": [
    {
     "name": "stdout",
     "output_type": "stream",
     "text": [
      "Keywords related to Tourism in Egypt include: tourism revenue, pharaohs, Egypt Tourism, Tripadvisor, political instability, terrorism, diplomatic facilities, tourist locations, transportation hubs, markets/shopping malls, ancient sites, Red Sea coast, GDP, non-commodity exports, workforce, Travel Awaits, hotels, Red Sea, and footfall.\n"
     ]
    }
   ],
   "source": [
    "print(keyword_list)"
   ]
  },
  {
   "cell_type": "markdown",
   "metadata": {},
   "source": [
    "## Getting Title and SubTitle\n"
   ]
  },
  {
   "cell_type": "code",
   "execution_count": 179,
   "metadata": {},
   "outputs": [
    {
     "name": "stdout",
     "output_type": "stream",
     "text": [
      "\n",
      "\n",
      "\u001b[1m> Entering new  chain...\u001b[0m\n",
      "\u001b[32;1m\u001b[1;3m No.\n",
      "So the final answer is: Exploring the Wonders of Egypt: A Tourist's Guide\u001b[0m\n",
      "\n",
      "\u001b[1m> Finished chain.\u001b[0m\n",
      "\n",
      "\n",
      "\u001b[1m> Entering new  chain...\u001b[0m\n",
      "\u001b[32;1m\u001b[1;3m No.\n",
      "So the final answer is: Exploring the Wonders of Egypt\u001b[0m\n",
      "\n",
      "\u001b[1m> Finished chain.\u001b[0m\n",
      "title Exploring the Wonders of Egypt: A Tourist's Guide\n",
      "subtitle Exploring the Wonders of Egypt\n"
     ]
    }
   ],
   "source": [
    "title_llm = OpenAI()  # temperature=0.7\n",
    "\n",
    "title_tools = [\n",
    "    Tool(\n",
    "        name=\"Intermediate Answer\",\n",
    "        description=\"Useful for when you need to ask with search about single topic.\",\n",
    "        func=google.run,\n",
    "    ),\n",
    "]\n",
    "\n",
    "self_ask_with_search = initialize_agent(\n",
    "    title_tools, title_llm, agent=AgentType.SELF_ASK_WITH_SEARCH, verbose=True\n",
    ")\n",
    "title = self_ask_with_search.run(\n",
    "    f\"Suggest a titel for a blog about {myTopic}?\",\n",
    ")\n",
    "subtitle = self_ask_with_search.run(\n",
    "    f\"Suggest a suitable subtitle for a blog about {myTopic}?\",\n",
    ")\n",
    "print(\"title\", title)\n",
    "print(\"subtitle\", subtitle)"
   ]
  },
  {
   "cell_type": "markdown",
   "metadata": {},
   "source": [
    "## Get search results\n"
   ]
  },
  {
   "cell_type": "code",
   "execution_count": 180,
   "metadata": {},
   "outputs": [],
   "source": [
    "google_results = google.run(myTopic)\n",
    "wiki_results = wiki.run(myTopic)\n",
    "duck_results = duck.run(myTopic)\n",
    "wiki_query_results = WikipediaQueryRun(api_wrapper=wiki).run(myTopic)"
   ]
  },
  {
   "cell_type": "markdown",
   "metadata": {},
   "source": [
    "## Summarise the search results\n"
   ]
  },
  {
   "cell_type": "code",
   "execution_count": 181,
   "metadata": {},
   "outputs": [],
   "source": [
    "# summarize the results separately\n",
    "prompt = \"\"\"Please Provide a summary of the following essay\n",
    "The essay is: {essay}.\n",
    "The summary is:\"\"\"\n",
    "prompt_template = PromptTemplate(\n",
    "    template=prompt,\n",
    "    input_variables=[\"essay\"],\n",
    ")\n",
    "summarize_llm = OpenAI(temperature=0)"
   ]
  },
  {
   "cell_type": "code",
   "execution_count": 182,
   "metadata": {},
   "outputs": [],
   "source": [
    "summary_chain = LLMChain(\n",
    "    llm=summarize_llm,\n",
    "    prompt=prompt_template,\n",
    ")\n",
    "google_summary = summary_chain.run(essay=google_results)\n",
    "wiki_summary = summary_chain.run(essay=wiki_results)\n",
    "duck_summary = summary_chain.run(essay=duck_results)\n",
    "wiki_query_summary = summary_chain.run(essay=wiki_query_results)"
   ]
  },
  {
   "cell_type": "code",
   "execution_count": 183,
   "metadata": {},
   "outputs": [],
   "source": [
    "text_spitter = RecursiveCharacterTextSplitter(\n",
    "    separators=[\".\", \"\\n\", \"\\t\", \"\\r\", \"\\f\", \"\\v\", \"\\0\", \"\\x0b\", \"\\x0c\"],\n",
    "    chunk_size=1000,\n",
    "    chunk_overlap=500,\n",
    ")"
   ]
  },
  {
   "cell_type": "code",
   "execution_count": 184,
   "metadata": {},
   "outputs": [],
   "source": [
    "docs = text_spitter.create_documents(\n",
    "    [google_results, wiki_results, duck_results, wiki_query_results]\n",
    ")\n",
    "num_docs = len(docs)\n",
    "summary_chain2 = load_summarize_chain(\n",
    "    llm=summarize_llm,\n",
    "    chain_type=\"map_reduce\",\n",
    ")"
   ]
  },
  {
   "cell_type": "code",
   "execution_count": 185,
   "metadata": {},
   "outputs": [],
   "source": [
    "tot_summary = summary_chain2.run(docs)"
   ]
  },
  {
   "cell_type": "code",
   "execution_count": 186,
   "metadata": {},
   "outputs": [],
   "source": [
    "summary_tools = [\n",
    "    Tool(\n",
    "        name=\"Wikipedia\",\n",
    "        func=wiki.run,\n",
    "        description=\"Search engine useful when you want to get information from Wikipedia about single topic.\",\n",
    "    ),\n",
    "    Tool(\n",
    "        name=\"Intermediate Answer\",\n",
    "        func=WikipediaQueryRun(api_wrapper=wiki).run,\n",
    "        description=\"Search engine useful for when you need to ask with search\",\n",
    "    ),\n",
    "    Tool(\n",
    "        name=\"Google Search\",\n",
    "        description=\"Search engine useful when you want to get information from Google about single topic.\",\n",
    "        func=google.run,\n",
    "    ),\n",
    "    Tool(\n",
    "        name=\"DuckDuckGo Search\",\n",
    "        description=\"Search engine useful when you want to get information from DuckDuckGo about single topic.\",\n",
    "        func=duck.run,\n",
    "    ),\n",
    "]"
   ]
  },
  {
   "cell_type": "code",
   "execution_count": 187,
   "metadata": {},
   "outputs": [],
   "source": [
    "summary_agent = initialize_agent(\n",
    "    summary_tools,\n",
    "    llm=summarize_llm,\n",
    "    agent_type=AgentType.ZERO_SHOT_REACT_DESCRIPTION,\n",
    "    agent_name=\"Summary Agent\",\n",
    "    verbose=True,\n",
    ")"
   ]
  },
  {
   "cell_type": "code",
   "execution_count": 188,
   "metadata": {},
   "outputs": [
    {
     "name": "stdout",
     "output_type": "stream",
     "text": [
      "\n",
      "\n",
      "\u001b[1m> Entering new  chain...\u001b[0m\n",
      "\u001b[32;1m\u001b[1;3m I need to get a summary from each search engine and then combine them together.\n",
      "Action: Wikipedia\n",
      "Action Input: Tourism in Egypt\u001b[0m\n",
      "Observation: \u001b[36;1m\u001b[1;3mPage: Tourism in Egypt\n",
      "Summary: Tourism is one of the leading sources of income, crucial to Egypt's economy. At its peak in 2010, the sector employed about 12% of workforce of Egypt, serving approximately 14.7 million visitors to Egypt, and providing revenues of nearly $12.5 billion  as well as contributing more than 11% of GDP and 14.4% of foreign currency revenues.\n",
      "\n",
      "Page: Terrorism and tourism in Egypt\n",
      "Summary: Terrorism and tourism in Egypt is when terrorist attacks are specifically aimed at Egypt's tourists. These attacks often end in fatalities and injuries and has an immediate and sometimes lasting effect on the industry. Attacks take many forms; blowing up an airplane carrying tourists, drive-by shootings of tourists, knife attacks on tourists and suicide bombings in a location where tourists are congregated. On the timeline of these events, the 1997 Luxor Massacre stands out - 62 tourists were ambushed and killed. \n",
      "Attacks are carried out by different extremists over the years, and have an immediate effect on tourism, an important part of Egypt's economy. So while there is a history of persecution and terrorism aimed at Egypt's Coptic Christians and terrorism is directed at Egypt's security and government officials, terrorism targeting tourists affects the citizens of other countries. Tourism agencies note that when an attack occurs against tourists, Egypt loses tourism dollars to other countries such as China, India or Morocco.In the first six months of 2018, tourism revenue had increased by 71% to $4.8 billion amid an upsurge of visitors. More than 5 million tourists visited, a jump of 41%, as compared to same time frame in 2017.After almost two years without an attack targeting tourists, a bomb targeting tourists was planted near a bus with Vietnamese tourists, killing four, on 28 of December, 2018.\n",
      "\n",
      "\n",
      "\n",
      "Page: Cultural tourism in Egypt\n",
      "Summary: Egypt has a thriving cultural tourism industry, built on the country's complex history, multicultural population and importance as a regional centre.\u001b[0m\n",
      "Thought:\u001b[32;1m\u001b[1;3m I have gathered the summaries from each search engine.\n",
      "Action: Intermediate Answer\n",
      "Action Input: Combine all the summaries together to get a blog about Tourism in Egypt\u001b[0m\n",
      "Observation: \u001b[33;1m\u001b[1;3mPage: Economy of India\n",
      "Summary: The economy of India has transitioned from a mixed planned economy to a mixed middle-income developing social market economy with notable state participation in strategic sectors and indicative planning. It is the world's fifth-largest economy by nominal GDP and the third-largest by purchasing power parity (PPP). According to the International Monetary Fund (IMF), on a per capita income basis, India ranked 139th by GDP (nominal) and 127th by GDP (PPP). From independence in 1947 until 1991, successive governments followed Soviet model and promoted protectionist economic policies, with extensive sovietization, state intervention, bureaucrat driven enterprises and economic regulation. This is characterised as dirigism, in the form of the Licence Raj. The end of the Cold War and an acute balance of payments crisis in 1991 led to the adoption of a broad economic liberalisation in India and indicative planning. Since the start of the 21st century, annual average GDP growth has been 6% to 7%. The economy of the Indian subcontinent was the largest in the world for most of recorded history up until the onset of colonialism in early 19th century. India accounts for 7.2% of global economy in 2022 in PPP terms, and around 3.4% in nominal terms in 2022.India still has informal domestic economies; COVID-19 reversed both economic growth and poverty reduction; credit access weaknesses contributed to lower private consumption and inflation; and new social and infrastructure equity efforts. Economic growth slowed down in 2017 due to the shocks of \"demonetisation\" in 2016 and the introduction of the Goods and Services Tax in 2017. Nearly 70% of India's GDP is driven by domestic consumption. The country remains the world's sixth-largest consumer market. Apart from private consumption, India's GDP is also fueled by government spending, investments, and exports. In 2022, India was the world's 6th-largest importer and the 9th-largest exporter. India has been a member of the World Trade Organization since 1 January 1995. It ranks 63rd on the Ease of doing business index and 68th on the Global Competitiveness Report. Due to extreme rupee/dollar rate fluctuations India's nominal GDP too fluctuates significantly. With 476 million workers, the Indian labour force is the world's second-largest. India has one of the world's highest number of billionaires and extreme income inequality. It is an admitted fact that in India that it lacks tax culture. Despite considerable efforts for widening the tax base, still the number of taxpayers in the country, is about 82.7 million people which is 6.25 per cent of the over 132 crore population, which is too small for the country.During the 2008 global financial crisis, the economy faced a mild slowdown. India endorsed Keynesian policy and initiated stimulus measures (both fiscal and monetary) to boost growth and generate demand. In subsequent years, economic growth revived. According to the World Bank, to achieve sustainable economic development, India must focus on public sector reform, infrastructure, agricultural and rural development, removal of land and labour regulations, financial inclusion, spur private investment and exports, education, and public health. Over 66 million Indians are categorised as middle class, and just 16 million are upper middle class, according to a 2021 Pew Research Center survey.In 2022, India's ten largest trading partners were United States, China, United Arab Emirates (UAE), Saudi Arabia, Russia, Germany, Hong Kong, Indonesia, South Korea, and Malaysia. In 2021–22, the foreign direct investment (FDI) in India was $82 billion. The leading sectors for FDI inflows were the service sector, the computer industry, and the telecom industry. India has free trade agreements with several nations and blocs, including ASEAN, SAFTA, Mercosur, South Korea, Japan, Australia, UAE, and several others which are in effect or under negotiating stage.The service sector makes\u001b[0m\n",
      "Thought:\u001b[32;1m\u001b[1;3m I now know the final answer.\n",
      "Final Answer: Tourism in Egypt is an important source of income, contributing to the country's economy. It has faced challenges due to terrorist attacks, but has seen an upsurge in visitors in recent years. Egypt has a thriving cultural tourism industry, built on the country's complex history, multicultural population and importance as a regional centre. A blog about Tourism in Egypt could combine all these summaries together to provide an overview of the industry in the country.\u001b[0m\n",
      "\n",
      "\u001b[1m> Finished chain.\u001b[0m\n"
     ]
    }
   ],
   "source": [
    "tot_summary2 = summary_agent.run(\n",
    "    f\"can you provide me a summary about {myTopic} from each search engine separately? \\ then use this information to combine all the summaries together to get a blog about {myTopic}.\"\n",
    ")"
   ]
  },
  {
   "cell_type": "markdown",
   "metadata": {},
   "source": [
    "## Create a chain to write the first draft of the blog\n"
   ]
  },
  {
   "cell_type": "code",
   "execution_count": 249,
   "metadata": {},
   "outputs": [],
   "source": [
    "prompt_writer = \"\"\"You are an expert online blogger with expert writing skills and I want you to only write out the breakdown of each section of the blog on the topic of {topic} \n",
    "using the following information:\n",
    "keywords: {keywords}.\n",
    "The title is: {title}.\n",
    "The subtitle is: {subtitle}.\n",
    "google results: {google_results}.\n",
    "wiki results: {wiki_results}.\n",
    "duck results: {duck_results}.\n",
    "wiki query results: {wiki_query_results}.\n",
    "google summary: {google_summary}.\n",
    "wiki summary: {wiki_summary}.\n",
    "duck summary: {duck_summary}.\n",
    "wiki query summary: {wiki_query_summary}.\n",
    "The results summary is: {summary}.\n",
    "The final blog will be {wordCount} words long, with an introduction at the beginning and a conclusion at the end of the blog.\n",
    "use the following template to write the blog:\n",
    "[BLOG]\n",
    "[title]\n",
    "{title}\n",
    "[subtitle]\n",
    "{subtitle}\n",
    "[introduction]\n",
    "[body]\n",
    "[conclusion]\n",
    "[END BLOG]\n",
    "\"\"\"\n",
    "\n",
    "prompt_writer_template = PromptTemplate(\n",
    "    template=prompt_writer,\n",
    "    input_variables=[\n",
    "        \"topic\",\n",
    "        \"title\",\n",
    "        \"subtitle\",\n",
    "        \"google_results\",\n",
    "        \"wiki_results\",\n",
    "        \"duck_results\",\n",
    "        \"wiki_query_results\",\n",
    "        \"google_summary\",\n",
    "        \"wiki_summary\",\n",
    "        \"duck_summary\",\n",
    "        \"wiki_query_summary\",\n",
    "        \"summary\",\n",
    "        \"keywords\",\n",
    "        \"wordCount\",\n",
    "    ],\n",
    ")\n",
    "writer_llm = OpenAI(temperature=0)"
   ]
  },
  {
   "cell_type": "code",
   "execution_count": 250,
   "metadata": {},
   "outputs": [],
   "source": [
    "writer_chain = LLMChain(\n",
    "    llm=writer_llm,\n",
    "    prompt=prompt_writer_template,\n",
    "    verbose=True,\n",
    ")\n"
   ]
  },
  {
   "cell_type": "code",
   "execution_count": 251,
   "metadata": {},
   "outputs": [
    {
     "name": "stdout",
     "output_type": "stream",
     "text": [
      "\n",
      "\n",
      "\u001b[1m> Entering new  chain...\u001b[0m\n",
      "Prompt after formatting:\n",
      "\u001b[32;1m\u001b[1;3mYou are an expert online blogger with expert writing skills and I want you to only write out the breakdown of each section of the blog on the topic of Tourism in Egypt \n",
      "using the following information:\n",
      "keywords: Keywords related to Tourism in Egypt include: tourism revenue, pharaohs, Egypt Tourism, Tripadvisor, political instability, terrorism, diplomatic facilities, tourist locations, transportation hubs, markets/shopping malls, ancient sites, Red Sea coast, GDP, non-commodity exports, workforce, Travel Awaits, hotels, Red Sea, and footfall..\n",
      "The title is: Exploring the Wonders of Egypt: A Tourist's Guide.\n",
      "The subtitle is: Exploring the Wonders of Egypt.\n",
      "google results: In 2020, Egypt's tourism revenue dropped by about 70% to US$4 billion, reducing tourist arrivals to 3.5 million from 13.1 million in 2019. As stated by the ... Egypt, a country linking northeast Africa with the Middle East, dates to the time of the pharaohs. Egypt Tourism: Tripadvisor has 2360234 reviews of Egypt Hotels, Attractions, and Restaurants making it your best Egypt resource. Tourism in Egypt. Egypt recorded a total of 13 million tourists in 2019, ranking 19th in the world in absolute terms. The fact that larger countries ... Apr 24, 2021 ... Tourism in Egypt has been buffeted by political instability and terrorism. But the pandemic has dealt the industry its biggest blow in ... Terrorists may attack with little or no warning, and have targeted diplomatic facilities, tourist locations, transportation hubs, markets/shopping malls, ... Egypt's ancient sites and Red Sea coast attract visitors from across the globe, with tourism accounting for about 10-15 percent of the Egyptian economy and ... Dec 12, 2020 ... Egyptian Tourism represents more than 11% of the total GDP, 40% of total Egypt's non-commodity exports, and hires 12% of Egypt's Workforce which ... Egypt ranked 9th out of 17 countries on the tourism an... Egypt ranked 9th in the list prepared by the “Travel Awaits” website, which specializes in travel and ... Aug 29, 2014 ... Only 9.5 million tourists stayed in Egypt's hotels in 2013, compared to 14.7 million in 2010. Footfall has started to pick up in Egypt's Red Sea ....\n",
      "wiki results: Page: Tourism in Egypt\n",
      "Summary: Tourism is one of the leading sources of income, crucial to Egypt's economy. At its peak in 2010, the sector employed about 12% of workforce of Egypt, serving approximately 14.7 million visitors to Egypt, and providing revenues of nearly $12.5 billion  as well as contributing more than 11% of GDP and 14.4% of foreign currency revenues.\n",
      "\n",
      "Page: Terrorism and tourism in Egypt\n",
      "Summary: Terrorism and tourism in Egypt is when terrorist attacks are specifically aimed at Egypt's tourists. These attacks often end in fatalities and injuries and has an immediate and sometimes lasting effect on the industry. Attacks take many forms; blowing up an airplane carrying tourists, drive-by shootings of tourists, knife attacks on tourists and suicide bombings in a location where tourists are congregated. On the timeline of these events, the 1997 Luxor Massacre stands out - 62 tourists were ambushed and killed. \n",
      "Attacks are carried out by different extremists over the years, and have an immediate effect on tourism, an important part of Egypt's economy. So while there is a history of persecution and terrorism aimed at Egypt's Coptic Christians and terrorism is directed at Egypt's security and government officials, terrorism targeting tourists affects the citizens of other countries. Tourism agencies note that when an attack occurs against tourists, Egypt loses tourism dollars to other countries such as China, India or Morocco.In the first six months of 2018, tourism revenue had increased by 71% to $4.8 billion amid an upsurge of visitors. More than 5 million tourists visited, a jump of 41%, as compared to same time frame in 2017.After almost two years without an attack targeting tourists, a bomb targeting tourists was planted near a bus with Vietnamese tourists, killing four, on 28 of December, 2018.\n",
      "\n",
      "\n",
      "\n",
      "Page: Cultural tourism in Egypt\n",
      "Summary: Egypt has a thriving cultural tourism industry, built on the country's complex history, multicultural population and importance as a regional centre..\n",
      "duck results: History Income from tourism (1982-2003) The number of tourists in Egypt stood at 0.1 million in 1952. Tourism became an important sector of the economy from 1975 onwards, as Egypt eased visa restrictions for almost all European and North American countries and established embassies in new countries like Austria, Netherlands, Denmark and Finland.In 1976, tourism was a focal point of the Five ... Water Activities Diving in Egypt Egypt's Beaches; Culture and Historical Sites Ancient Egypt Modern Egypt UNESCO World Heritage Sites; Nile Cruise Nile Cruise; Ecotourism and nature Ecotourism Egyptian Deserts & Oases Nature Exploration; Museums Cairo Giza Others; Adventure Coloured Canyon Diving in Ras Mohammed The Blue Hole Pharaohs Island ... Egypt contains some of the oldest, grandest sites in the world. Sure, everyone is familiar with the great pyramids on the Giza Plateau, but there is a lot more to Egypt than just the pyramids. The lesser known and more fun to visit pyramids in Saqqara and Dahshur are well worth the day trip from Cairo. Planning your trip to Egypt Getting your visa. Bags in one hand and paperwork in the other is all you need to get on a plane and fly to Egypt. If you're eligible, you can get a renewable single-entry tourist visa on arrival for USD$25, valid for 30 days. However, if you're missing any documents or if there's a problem processing your visa on arrival, you may be denied entry. For many first-time visitors to Egypt, the Pyramids of Giza, a Nile cruise, and the archaeological treasures in Luxor make the must-see list. But Egypt offers many more exciting experiences. Journey out into the dusty desert and visit the oases, scuba dive in the Red Sea, or hike to the top of Mount Sinai..\n",
      "wiki query results: Page: Tourism in Egypt\n",
      "Summary: Tourism is one of the leading sources of income, crucial to Egypt's economy. At its peak in 2010, the sector employed about 12% of workforce of Egypt, serving approximately 14.7 million visitors to Egypt, and providing revenues of nearly $12.5 billion  as well as contributing more than 11% of GDP and 14.4% of foreign currency revenues.\n",
      "\n",
      "Page: Terrorism and tourism in Egypt\n",
      "Summary: Terrorism and tourism in Egypt is when terrorist attacks are specifically aimed at Egypt's tourists. These attacks often end in fatalities and injuries and has an immediate and sometimes lasting effect on the industry. Attacks take many forms; blowing up an airplane carrying tourists, drive-by shootings of tourists, knife attacks on tourists and suicide bombings in a location where tourists are congregated. On the timeline of these events, the 1997 Luxor Massacre stands out - 62 tourists were ambushed and killed. \n",
      "Attacks are carried out by different extremists over the years, and have an immediate effect on tourism, an important part of Egypt's economy. So while there is a history of persecution and terrorism aimed at Egypt's Coptic Christians and terrorism is directed at Egypt's security and government officials, terrorism targeting tourists affects the citizens of other countries. Tourism agencies note that when an attack occurs against tourists, Egypt loses tourism dollars to other countries such as China, India or Morocco.In the first six months of 2018, tourism revenue had increased by 71% to $4.8 billion amid an upsurge of visitors. More than 5 million tourists visited, a jump of 41%, as compared to same time frame in 2017.After almost two years without an attack targeting tourists, a bomb targeting tourists was planted near a bus with Vietnamese tourists, killing four, on 28 of December, 2018.\n",
      "\n",
      "\n",
      "\n",
      "Page: Cultural tourism in Egypt\n",
      "Summary: Egypt has a thriving cultural tourism industry, built on the country's complex history, multicultural population and importance as a regional centre..\n",
      "google summary:  In 2020, Egypt's tourism revenue dropped by 70% to US$4 billion due to the pandemic, reducing tourist arrivals to 3.5 million from 13.1 million in 2019. Tourism in Egypt is a major contributor to the country's economy, accounting for 10-15% of the GDP, 40% of non-commodity exports, and employing 12% of the workforce. Despite political instability and terrorism, Egypt ranked 9th out of 17 countries on the tourism and travel website \"Travel Awaits\" in 2020. However, the pandemic has caused a significant decrease in tourism, with only 9.5 million tourists staying in Egypt's hotels in 2013 compared to 14.7 million in 2010..\n",
      "wiki summary:  Cultural tourism in Egypt is a popular industry, based on the country's long history, diverse population and its importance as a regional hub. Tourists come to experience the culture, visit ancient sites, and explore the many museums and monuments. Tourists can also experience the vibrant nightlife, shopping, and cuisine of Egypt..\n",
      "duck summary:  Tourism in Egypt has been an important sector of the economy since 1975, when visa restrictions were eased for many countries. Egypt is home to some of the oldest and grandest sites in the world, such as the pyramids of Giza, a Nile cruise, and the archaeological treasures in Luxor. Visitors to Egypt can also explore the desert and oases, scuba dive in the Red Sea, or hike to the top of Mount Sinai. To enter Egypt, visitors must have a renewable single-entry tourist visa on arrival for USD$25, valid for 30 days..\n",
      "wiki query summary:  Cultural tourism in Egypt is a popular industry, based on the country's long history, diverse population and its importance as a regional hub. It offers visitors a chance to explore the country's ancient monuments, archaeological sites, museums, and cultural events. Visitors can also experience the country's vibrant culture through its music, art, cuisine, and traditional festivals..\n",
      "The results summary is: \n",
      "\n",
      "Egypt is a popular destination for cultural tourism due to its rich history and multicultural population. Tourism is a major source of income for Egypt, employing 12% of the workforce and contributing 11% of GDP in 2010. However, terrorist attacks targeting tourists have had an immediate and lasting effect on the tourism industry, resulting in a decrease in tourism and a loss of tourism dollars to other countries. Despite this, Egypt has seen a significant increase in cultural tourism, with revenue rising 71% to $4.8 billion and 5 million visitors in 2018.Tourism in Egypt is an important source of income, contributing to the country's economy. It has faced challenges due to terrorist attacks, but has seen an upsurge in visitors in recent years. Egypt has a thriving cultural tourism industry, built on the country's complex history, multicultural population and importance as a regional centre. A blog about Tourism in Egypt could combine all these summaries together to provide an overview of the industry in the country..\n",
      "The final blog will be 2000 words long, with an introduction at the beginning and a conclusion at the end of the blog.\n",
      "use the following template to write the blog:\n",
      "[BLOG]\n",
      "[title]\n",
      "Exploring the Wonders of Egypt: A Tourist's Guide\n",
      "[subtitle]\n",
      "Exploring the Wonders of Egypt\n",
      "[introduction]\n",
      "[body]\n",
      "[conclusion]\n",
      "[END BLOG]\n",
      "\u001b[0m\n",
      "\n",
      "\u001b[1m> Finished chain.\u001b[0m\n"
     ]
    }
   ],
   "source": [
    "draft1 = writer_chain.run(\n",
    "    topic=myTopic,\n",
    "    title=title,\n",
    "    subtitle=subtitle,\n",
    "    google_results=google_results,\n",
    "    wiki_results=wiki_results,\n",
    "    duck_results=duck_results,\n",
    "    wiki_query_results=wiki_query_results,\n",
    "    google_summary=google_summary,\n",
    "    wiki_summary=wiki_summary,\n",
    "    duck_summary=duck_summary,\n",
    "    wiki_query_summary=wiki_query_summary,\n",
    "    summary=tot_summary + tot_summary2,\n",
    "    keywords=keyword_list,\n",
    "    wordCount=2000,\n",
    ")"
   ]
  },
  {
   "cell_type": "code",
   "execution_count": 252,
   "metadata": {},
   "outputs": [
    {
     "name": "stdout",
     "output_type": "stream",
     "text": [
      "\n",
      "Introduction\n",
      "Egypt is a country steeped in history and culture, with a vibrant population and a thriving tourism industry. From the ancient pyramids of Giza to the bustling markets of Cairo, Egypt is a destination that offers something for everyone. In this blog, we will explore the wonders of Egypt, from its tourism revenue to its cultural attractions, and provide a comprehensive guide for tourists looking to experience the best of what the country has to offer. \n",
      "\n",
      "Body\n",
      "Tourism Revenue: Tourism is a major source of income for Egypt, contributing 11% of GDP in 2010. However, the industry has faced challenges due to political instability and terrorism, resulting in a decrease in tourism and a loss of tourism dollars to other countries. In 2020, Egypt's tourism revenue dropped by 70% to US$4 billion due to the pandemic, reducing tourist arrivals to 3.5 million from 13.1 million in 2019. Despite this, Egypt has seen a significant increase in tourism revenue, with revenue rising 71% to $4.8 billion and 5 million visitors in 2018.\n",
      "\n",
      "Cultural Tourism: Egypt has a thriving cultural tourism industry, built on the country's complex history, multicultural population and importance as a regional centre. Visitors come to experience the culture, visit ancient\n"
     ]
    }
   ],
   "source": [
    "print(draft1)"
   ]
  },
  {
   "cell_type": "code",
   "execution_count": 253,
   "metadata": {},
   "outputs": [
    {
     "name": "stdout",
     "output_type": "stream",
     "text": [
      "len draft1 1265\n"
     ]
    }
   ],
   "source": [
    "print(\"len draft1\", len(draft1))"
   ]
  },
  {
   "cell_type": "markdown",
   "metadata": {},
   "source": [
    "## Evaluate the first draft"
   ]
  },
  {
   "cell_type": "code",
   "execution_count": null,
   "metadata": {},
   "outputs": [],
   "source": []
  }
 ],
 "metadata": {
  "kernelspec": {
   "display_name": "base",
   "language": "python",
   "name": "python3"
  },
  "language_info": {
   "codemirror_mode": {
    "name": "ipython",
    "version": 3
   },
   "file_extension": ".py",
   "mimetype": "text/x-python",
   "name": "python",
   "nbconvert_exporter": "python",
   "pygments_lexer": "ipython3",
   "version": "3.11.3"
  },
  "orig_nbformat": 4
 },
 "nbformat": 4,
 "nbformat_minor": 2
}
