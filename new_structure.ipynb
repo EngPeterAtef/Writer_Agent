{
    "cells": [
        {
            "cell_type": "code",
            "execution_count": null,
            "metadata": {},
            "outputs": [],
            "source": [
                "from langchain.agents import Tool, initialize_agent, AgentType, load_tools\n",
                "from dotenv import load_dotenv\n",
                "from langchain.utilities import (\n",
                "    WikipediaAPIWrapper,\n",
                "    GoogleSearchAPIWrapper,\n",
                ")\n",
                "from langchain.tools import WikipediaQueryRun, DuckDuckGoSearchRun\n",
                "from langchain import OpenAI, Wikipedia\n",
                "\n",
                "from langchain.prompts import PromptTemplate\n",
                "from langchain.chains import LLMChain\n",
                "from langchain.chains.summarize import load_summarize_chain\n",
                "from langchain.text_splitter import (\n",
                "    RecursiveCharacterTextSplitter,\n",
                ")\n",
                "from langchain.chat_models import ChatOpenAI\n",
                "from langchain import LLMMathChain\n",
                "from langchain.document_loaders import UnstructuredURLLoader\n",
                "\n",
                "# from langchain.retrievers.web_research import WebResearchRetriever\n",
                "import os"
            ]
        },
        {
            "cell_type": "code",
            "execution_count": null,
            "metadata": {},
            "outputs": [],
            "source": [
                "load_dotenv()"
            ]
        },
        {
            "cell_type": "code",
            "execution_count": null,
            "metadata": {},
            "outputs": [],
            "source": [
                "google = GoogleSearchAPIWrapper()"
            ]
        },
        {
            "cell_type": "code",
            "execution_count": null,
            "metadata": {},
            "outputs": [],
            "source": [
                "myTopic = input(\"Enter your topic: \")"
            ]
        },
        {
            "cell_type": "code",
            "execution_count": null,
            "metadata": {},
            "outputs": [],
            "source": [
                "google_webpages1 = google.results(f\"site:https://en.wikipedia.org {myTopic}\", 5)\n",
                "google_webpages2 = google.results(myTopic, 10)"
            ]
        },
        {
            "cell_type": "code",
            "execution_count": null,
            "metadata": {},
            "outputs": [],
            "source": [
                "print(google_webpages1)\n",
                "print(google_webpages2)"
            ]
        },
        {
            "cell_type": "code",
            "execution_count": null,
            "metadata": {},
            "outputs": [],
            "source": [
                "# %pip install pip install python_magic_bin-0.4.14-py2.py3-none-win_amd64.whl\n",
                "# %pip install python-magic-bin"
            ]
        },
        {
            "cell_type": "code",
            "execution_count": null,
            "metadata": {},
            "outputs": [],
            "source": [
                "# loop over dictionary\n",
                "links = []\n",
                "for i in range(len(google_webpages1)):\n",
                "    links.append(google_webpages1[i][\"link\"])\n",
                "\n",
                "for i in range(len(google_webpages2)):\n",
                "    links.append(google_webpages2[i][\"link\"])\n",
                "\n",
                "print(links)"
            ]
        },
        {
            "cell_type": "code",
            "execution_count": null,
            "metadata": {},
            "outputs": [],
            "source": [
                "loaders = UnstructuredURLLoader(urls=links)\n",
                "data = loaders.load()"
            ]
        },
        {
            "cell_type": "code",
            "execution_count": null,
            "metadata": {},
            "outputs": [],
            "source": [
                "for i in range(len(data)):\n",
                "    print(f\"Page {i+1}\")\n",
                "    print(f\"Title: {data[i].metadata}\")\n",
                "    print(\"----------------------------------------------------------\")"
            ]
        },
        {
            "cell_type": "code",
            "execution_count": null,
            "metadata": {},
            "outputs": [],
            "source": [
                "from langchain.text_splitter import RecursiveCharacterTextSplitter\n",
                "\n",
                "text_splitter = RecursiveCharacterTextSplitter(\n",
                "    separators=[\".\", \"\\n\", \"\\t\", \"\\r\", \"\\f\", \"\\v\", \"\\0\", \"\\x0b\", \"\\x0c\"],\n",
                "    chunk_size=1000,\n",
                "    chunk_overlap=500,\n",
                ")"
            ]
        },
        {
            "cell_type": "code",
            "execution_count": null,
            "metadata": {},
            "outputs": [],
            "source": [
                "docs = text_splitter.split_documents(documents=data)"
            ]
        },
        {
            "cell_type": "code",
            "execution_count": null,
            "metadata": {},
            "outputs": [],
            "source": [
                "len(docs)\n",
                "docs[0].metadata"
            ]
        },
        {
            "cell_type": "code",
            "execution_count": null,
            "metadata": {},
            "outputs": [],
            "source": [
                "# %pip install faiss-cpu"
            ]
        },
        {
            "cell_type": "code",
            "execution_count": null,
            "metadata": {},
            "outputs": [],
            "source": [
                "import pickle\n",
                "from langchain.vectorstores import FAISS\n",
                "from langchain.embeddings import OpenAIEmbeddings\n",
                "import faiss"
            ]
        },
        {
            "cell_type": "code",
            "execution_count": null,
            "metadata": {},
            "outputs": [],
            "source": [
                "embeddings = OpenAIEmbeddings()\n",
                "print(embeddings)"
            ]
        },
        {
            "cell_type": "code",
            "execution_count": null,
            "metadata": {},
            "outputs": [],
            "source": [
                "vectorStore_openAI = FAISS.from_documents(docs, embedding=embeddings)"
            ]
        },
        {
            "cell_type": "code",
            "execution_count": null,
            "metadata": {},
            "outputs": [],
            "source": [
                "# to store the embeddings in a faiss index\n",
                "with open(\"faiss_store_openai.pkl\", \"wb\") as f:\n",
                "    pickle.dump(vectorStore_openAI, f)"
            ]
        },
        {
            "cell_type": "code",
            "execution_count": null,
            "metadata": {},
            "outputs": [],
            "source": [
                "# to read the vectors stored\n",
                "with open(\"faiss_store_openai.pkl\", \"rb\") as f:\n",
                "    vectorStore = pickle.load(f)"
            ]
        },
        {
            "cell_type": "code",
            "execution_count": null,
            "metadata": {},
            "outputs": [],
            "source": [
                "vectorStore\n",
                "print(type(vectorStore))"
            ]
        },
        {
            "cell_type": "code",
            "execution_count": null,
            "metadata": {},
            "outputs": [],
            "source": [
                "from langchain.chains import RetrievalQAWithSourcesChain\n",
                "\n",
                "# from langchain.chains.question_answering import load_qa_chain\n",
                "from langchain import OpenAI\n",
                "\n",
                "# from langchain.retrievers import PineconeHybridSearchRetriever\n",
                "# from pinecone_text.sparse import BM25Encoder\n",
                "from langchain.retrievers.web_research import WebResearchRetriever\n",
                "\n",
                "# import ChatOpenAI\n",
                "from langchain.chat_models import ChatOpenAI"
            ]
        },
        {
            "cell_type": "code",
            "execution_count": null,
            "metadata": {},
            "outputs": [],
            "source": [
                "# llm = OpenAI()  # could be any model\n",
                "llm = ChatOpenAI(temperature=0, model=\"gpt-4\")"
            ]
        },
        {
            "cell_type": "code",
            "execution_count": null,
            "metadata": {},
            "outputs": [],
            "source": [
                "import asyncio\n",
                "\n",
                "# Initialize\n",
                "web_research_retriever = WebResearchRetriever.from_llm(\n",
                "    vectorstore=vectorStore,\n",
                "    llm=llm,\n",
                "    search=google,\n",
                ")\n",
                "\n",
                "\n",
                "user_input = \"How old is Mo Salah?\"\n",
                "qa_chain = RetrievalQAWithSourcesChain.from_chain_type(\n",
                "    llm, retriever=web_research_retriever\n",
                ")\n",
                "await asyncio.sleep(10)\n",
                "\n",
                "\n",
                "def func():\n",
                "    return qa_chain({\"question\": user_input})\n",
                "\n",
                "\n",
                "try:\n",
                "    result = asyncio.wait_for(func(), timeout=10000)\n",
                "    print(result)\n",
                "except Exception as e:\n",
                "    print(\"errrrrrrrrrrror\", e)"
            ]
        },
        {
            "cell_type": "code",
            "execution_count": null,
            "metadata": {},
            "outputs": [],
            "source": [
                "chain = RetrievalQAWithSourcesChain.from_llm(\n",
                "    llm,\n",
                "    retriever=vectorStore.as_retriever(),\n",
                ")"
            ]
        },
        {
            "cell_type": "code",
            "execution_count": 55,
            "metadata": {},
            "outputs": [
                {
                    "name": "stdout",
                    "output_type": "stream",
                    "text": [
                        "Collecting qdrant-clientNote: you may need to restart the kernel to use updated packages.\n"
                    ]
                },
                {
                    "name": "stderr",
                    "output_type": "stream",
                    "text": [
                        "ERROR: pip's dependency resolver does not currently take into account all the packages that are installed. This behaviour is the source of the following dependency conflicts.\n",
                        "streamlit 1.18.1 requires protobuf<4,>=3.12, but you have protobuf 4.24.1 which is incompatible.\n"
                    ]
                },
                {
                    "name": "stdout",
                    "output_type": "stream",
                    "text": [
                        "\n",
                        "  Downloading qdrant_client-1.4.0-py3-none-any.whl (132 kB)\n",
                        "                                              0.0/132.5 kB ? eta -:--:--\n",
                        "     ---------                                30.7/132.5 kB ? eta -:--:--\n",
                        "     ---------------------------             92.2/132.5 kB 1.0 MB/s eta 0:00:01\n",
                        "     ------------------------------------ 132.5/132.5 kB 978.1 kB/s eta 0:00:00\n",
                        "Collecting grpcio>=1.41.0 (from qdrant-client)\n",
                        "  Downloading grpcio-1.57.0-cp311-cp311-win_amd64.whl (4.3 MB)\n",
                        "                                              0.0/4.3 MB ? eta -:--:--\n",
                        "                                              0.1/4.3 MB 3.2 MB/s eta 0:00:02\n",
                        "     -                                        0.1/4.3 MB 1.3 MB/s eta 0:00:04\n",
                        "     --                                       0.2/4.3 MB 1.7 MB/s eta 0:00:03\n",
                        "     ---                                      0.3/4.3 MB 1.9 MB/s eta 0:00:03\n",
                        "     ----                                     0.5/4.3 MB 2.1 MB/s eta 0:00:02\n",
                        "     -----                                    0.6/4.3 MB 2.1 MB/s eta 0:00:02\n",
                        "     ------                                   0.7/4.3 MB 2.1 MB/s eta 0:00:02\n",
                        "     -------                                  0.8/4.3 MB 2.2 MB/s eta 0:00:02\n",
                        "     --------                                 0.9/4.3 MB 2.2 MB/s eta 0:00:02\n",
                        "     ---------                                1.0/4.3 MB 2.2 MB/s eta 0:00:02\n",
                        "     ----------                               1.1/4.3 MB 2.2 MB/s eta 0:00:02\n",
                        "     -----------                              1.2/4.3 MB 2.2 MB/s eta 0:00:02\n",
                        "     ------------                             1.4/4.3 MB 2.3 MB/s eta 0:00:02\n",
                        "     -------------                            1.5/4.3 MB 2.2 MB/s eta 0:00:02\n",
                        "     --------------                           1.6/4.3 MB 2.3 MB/s eta 0:00:02\n",
                        "     ---------------                          1.7/4.3 MB 2.3 MB/s eta 0:00:02\n",
                        "     ----------------                         1.8/4.3 MB 2.3 MB/s eta 0:00:02\n",
                        "     -----------------                        1.9/4.3 MB 2.3 MB/s eta 0:00:02\n",
                        "     -------------------                      2.0/4.3 MB 2.3 MB/s eta 0:00:01\n",
                        "     -------------------                      2.1/4.3 MB 2.3 MB/s eta 0:00:01\n",
                        "     ---------------------                    2.3/4.3 MB 2.3 MB/s eta 0:00:01\n",
                        "     ----------------------                   2.4/4.3 MB 2.3 MB/s eta 0:00:01\n",
                        "     -----------------------                  2.5/4.3 MB 2.3 MB/s eta 0:00:01\n",
                        "     ------------------------                 2.6/4.3 MB 2.3 MB/s eta 0:00:01\n",
                        "     -------------------------                2.7/4.3 MB 2.3 MB/s eta 0:00:01\n",
                        "     --------------------------               2.8/4.3 MB 2.3 MB/s eta 0:00:01\n",
                        "     --------------------------               2.8/4.3 MB 2.3 MB/s eta 0:00:01\n",
                        "     --------------------------               2.8/4.3 MB 2.3 MB/s eta 0:00:01\n",
                        "     --------------------------               2.8/4.3 MB 2.3 MB/s eta 0:00:01\n",
                        "     --------------------------               2.8/4.3 MB 2.3 MB/s eta 0:00:01\n",
                        "     --------------------------               2.8/4.3 MB 2.3 MB/s eta 0:00:01\n",
                        "     --------------------------               2.8/4.3 MB 2.3 MB/s eta 0:00:01\n",
                        "     ---------------------------              3.0/4.3 MB 1.9 MB/s eta 0:00:01\n",
                        "     -----------------------------            3.1/4.3 MB 2.0 MB/s eta 0:00:01\n",
                        "     ------------------------------           3.3/4.3 MB 2.1 MB/s eta 0:00:01\n",
                        "     ------------------------------           3.3/4.3 MB 2.1 MB/s eta 0:00:01\n",
                        "     ------------------------------           3.3/4.3 MB 2.1 MB/s eta 0:00:01\n",
                        "     ------------------------------           3.3/4.3 MB 1.9 MB/s eta 0:00:01\n",
                        "     -------------------------------          3.4/4.3 MB 1.8 MB/s eta 0:00:01\n",
                        "     -------------------------------          3.4/4.3 MB 1.8 MB/s eta 0:00:01\n",
                        "     -------------------------------          3.4/4.3 MB 1.8 MB/s eta 0:00:01\n",
                        "     -------------------------------          3.4/4.3 MB 1.8 MB/s eta 0:00:01\n",
                        "     -------------------------------------    4.0/4.3 MB 2.0 MB/s eta 0:00:01\n",
                        "     --------------------------------------   4.1/4.3 MB 2.0 MB/s eta 0:00:01\n",
                        "     --------------------------------------   4.2/4.3 MB 2.0 MB/s eta 0:00:01\n",
                        "     ---------------------------------------  4.2/4.3 MB 2.0 MB/s eta 0:00:01\n",
                        "     ---------------------------------------  4.2/4.3 MB 1.9 MB/s eta 0:00:01\n",
                        "     ---------------------------------------  4.2/4.3 MB 1.9 MB/s eta 0:00:01\n",
                        "     ---------------------------------------  4.3/4.3 MB 1.9 MB/s eta 0:00:01\n",
                        "     ---------------------------------------- 4.3/4.3 MB 1.8 MB/s eta 0:00:00\n",
                        "Collecting grpcio-tools>=1.41.0 (from qdrant-client)\n",
                        "  Downloading grpcio_tools-1.57.0-cp311-cp311-win_amd64.whl (2.0 MB)\n",
                        "                                              0.0/2.0 MB ? eta -:--:--\n",
                        "                                              0.0/2.0 MB 1.4 MB/s eta 0:00:02\n",
                        "     --                                       0.1/2.0 MB 1.3 MB/s eta 0:00:02\n",
                        "     ---                                      0.2/2.0 MB 1.7 MB/s eta 0:00:02\n",
                        "     -----                                    0.3/2.0 MB 1.8 MB/s eta 0:00:01\n",
                        "     -------                                  0.4/2.0 MB 1.9 MB/s eta 0:00:01\n",
                        "     ----------                               0.5/2.0 MB 2.0 MB/s eta 0:00:01\n",
                        "     ------------                             0.6/2.0 MB 2.0 MB/s eta 0:00:01\n",
                        "     --------------                           0.7/2.0 MB 2.1 MB/s eta 0:00:01\n",
                        "     ----------------                         0.8/2.0 MB 2.2 MB/s eta 0:00:01\n",
                        "     -------------------                      1.0/2.0 MB 2.1 MB/s eta 0:00:01\n",
                        "     ---------------------                    1.1/2.0 MB 2.1 MB/s eta 0:00:01\n",
                        "     -----------------------                  1.2/2.0 MB 2.2 MB/s eta 0:00:01\n",
                        "     -------------------------                1.3/2.0 MB 2.2 MB/s eta 0:00:01\n",
                        "     ----------------------------             1.4/2.0 MB 2.2 MB/s eta 0:00:01\n",
                        "     ----------------------------             1.5/2.0 MB 2.1 MB/s eta 0:00:01\n",
                        "     -----------------------------            1.5/2.0 MB 1.9 MB/s eta 0:00:01\n",
                        "     ------------------------------           1.5/2.0 MB 1.9 MB/s eta 0:00:01\n",
                        "     ------------------------------           1.6/2.0 MB 1.8 MB/s eta 0:00:01\n",
                        "     -------------------------------          1.6/2.0 MB 1.7 MB/s eta 0:00:01\n",
                        "     ---------------------------------        1.7/2.0 MB 1.8 MB/s eta 0:00:01\n",
                        "     -----------------------------------      1.8/2.0 MB 1.8 MB/s eta 0:00:01\n",
                        "     -----------------------------------      1.8/2.0 MB 1.8 MB/s eta 0:00:01\n",
                        "     -----------------------------------      1.8/2.0 MB 1.8 MB/s eta 0:00:01\n",
                        "     -----------------------------------      1.8/2.0 MB 1.8 MB/s eta 0:00:01\n",
                        "     ---------------------------------------  2.0/2.0 MB 1.7 MB/s eta 0:00:01\n",
                        "     ---------------------------------------- 2.0/2.0 MB 1.6 MB/s eta 0:00:00\n",
                        "Requirement already satisfied: httpx[http2]>=0.14.0 in c:\\users\\peter\\anaconda3\\lib\\site-packages (from qdrant-client) (0.24.1)\n",
                        "Requirement already satisfied: numpy>=1.21 in c:\\users\\peter\\anaconda3\\lib\\site-packages (from qdrant-client) (1.24.3)\n",
                        "Collecting portalocker<3.0.0,>=2.7.0 (from qdrant-client)\n",
                        "  Using cached portalocker-2.7.0-py2.py3-none-any.whl (15 kB)\n",
                        "Requirement already satisfied: pydantic>=1.10.8 in c:\\users\\peter\\anaconda3\\lib\\site-packages (from qdrant-client) (1.10.11)\n",
                        "Requirement already satisfied: urllib3<2.0.0,>=1.26.14 in c:\\users\\peter\\anaconda3\\lib\\site-packages (from qdrant-client) (1.26.16)\n",
                        "Collecting protobuf<5.0dev,>=4.21.6 (from grpcio-tools>=1.41.0->qdrant-client)\n",
                        "  Downloading protobuf-4.24.1-cp310-abi3-win_amd64.whl (430 kB)\n",
                        "                                              0.0/430.4 kB ? eta -:--:--\n",
                        "     -----                                   61.4/430.4 kB 1.1 MB/s eta 0:00:01\n",
                        "     ------------                           143.4/430.4 kB 1.4 MB/s eta 0:00:01\n",
                        "     --------------------                   235.5/430.4 kB 1.6 MB/s eta 0:00:01\n",
                        "     -------------------------------        358.4/430.4 kB 1.9 MB/s eta 0:00:01\n",
                        "     -------------------------------------- 430.4/430.4 kB 1.9 MB/s eta 0:00:00\n",
                        "Requirement already satisfied: setuptools in c:\\users\\peter\\anaconda3\\lib\\site-packages (from grpcio-tools>=1.41.0->qdrant-client) (67.8.0)\n",
                        "Requirement already satisfied: certifi in c:\\users\\peter\\anaconda3\\lib\\site-packages (from httpx[http2]>=0.14.0->qdrant-client) (2023.5.7)\n",
                        "Requirement already satisfied: httpcore<0.18.0,>=0.15.0 in c:\\users\\peter\\anaconda3\\lib\\site-packages (from httpx[http2]>=0.14.0->qdrant-client) (0.17.3)\n",
                        "Requirement already satisfied: idna in c:\\users\\peter\\anaconda3\\lib\\site-packages (from httpx[http2]>=0.14.0->qdrant-client) (3.4)\n",
                        "Requirement already satisfied: sniffio in c:\\users\\peter\\anaconda3\\lib\\site-packages (from httpx[http2]>=0.14.0->qdrant-client) (1.2.0)\n",
                        "Requirement already satisfied: h2<5,>=3 in c:\\users\\peter\\anaconda3\\lib\\site-packages (from httpx[http2]>=0.14.0->qdrant-client) (4.1.0)\n",
                        "Requirement already satisfied: pywin32>=226 in c:\\users\\peter\\anaconda3\\lib\\site-packages (from portalocker<3.0.0,>=2.7.0->qdrant-client) (305.1)\n",
                        "Requirement already satisfied: typing-extensions>=4.2.0 in c:\\users\\peter\\anaconda3\\lib\\site-packages (from pydantic>=1.10.8->qdrant-client) (4.6.3)\n",
                        "Requirement already satisfied: hyperframe<7,>=6.0 in c:\\users\\peter\\anaconda3\\lib\\site-packages (from h2<5,>=3->httpx[http2]>=0.14.0->qdrant-client) (6.0.1)\n",
                        "Requirement already satisfied: hpack<5,>=4.0 in c:\\users\\peter\\anaconda3\\lib\\site-packages (from h2<5,>=3->httpx[http2]>=0.14.0->qdrant-client) (4.0.0)\n",
                        "Requirement already satisfied: h11<0.15,>=0.13 in c:\\users\\peter\\anaconda3\\lib\\site-packages (from httpcore<0.18.0,>=0.15.0->httpx[http2]>=0.14.0->qdrant-client) (0.14.0)\n",
                        "Requirement already satisfied: anyio<5.0,>=3.0 in c:\\users\\peter\\anaconda3\\lib\\site-packages (from httpcore<0.18.0,>=0.15.0->httpx[http2]>=0.14.0->qdrant-client) (3.5.0)\n",
                        "Installing collected packages: protobuf, portalocker, grpcio, grpcio-tools, qdrant-client\n",
                        "  Attempting uninstall: protobuf\n",
                        "    Found existing installation: protobuf 3.20.3\n",
                        "    Uninstalling protobuf-3.20.3:\n",
                        "      Successfully uninstalled protobuf-3.20.3\n",
                        "Successfully installed grpcio-1.57.0 grpcio-tools-1.57.0 portalocker-2.7.0 protobuf-4.24.1 qdrant-client-1.4.0\n"
                    ]
                }
            ],
            "source": [
                "%pip install qdrant-client"
            ]
        },
        {
            "cell_type": "code",
            "execution_count": 56,
            "metadata": {},
            "outputs": [],
            "source": [
                "# 7isMRbRGP6Er1tw0ltVeQu22NjHyG1wNOoY2OxLUkat3Z7ThCIKcXQ\n",
                "from qdrant_client import QdrantClient\n",
                "\n",
                "qdrant_client = QdrantClient(\n",
                "    url=\"https://e90343c0-1763-4186-984d-dcee1b74c728.us-east-1-0.aws.cloud.qdrant.io:6333\", \n",
                "    api_key=\"7isMRbRGP6Er1tw0ltVeQu22NjHyG1wNOoY2OxLUkat3Z7ThCIKcXQ\",\n",
                ")"
            ]
        },
        {
            "cell_type": "code",
            "execution_count": 57,
            "metadata": {},
            "outputs": [],
            "source": [
                "from langchain.vectorstores import qdrant\n",
                "os.environ[\"QDRANT_API_KEY\"] = \"7isMRbRGP6Er1tw0ltVeQu22NjHyG1wNOoY2OxLUkat3Z7ThCIKcXQ\"\n",
                "os.environ[\"QDRANT_HOST\"] = \"https://e90343c0-1763-4186-984d-dcee1b74c728.us-east-1-0.aws.cloud.qdrant.io:6333\""
            ]
        },
        {
            "cell_type": "code",
            "execution_count": null,
            "metadata": {},
            "outputs": [],
            "source": [
                "qdrant_client"
            ]
        }
    ],
    "metadata": {
        "kernelspec": {
            "display_name": "base",
            "language": "python",
            "name": "python3"
        },
        "language_info": {
            "codemirror_mode": {
                "name": "ipython",
                "version": 3
            },
            "file_extension": ".py",
            "mimetype": "text/x-python",
            "name": "python",
            "nbconvert_exporter": "python",
            "pygments_lexer": "ipython3",
            "version": "3.11.3"
        },
        "orig_nbformat": 4
    },
    "nbformat": 4,
    "nbformat_minor": 2
}
